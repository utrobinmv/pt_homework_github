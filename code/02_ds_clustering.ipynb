{
 "cells": [
  {
   "cell_type": "markdown",
   "id": "3fdda39e-16be-4a34-b094-afefb36b727d",
   "metadata": {},
   "source": [
    "# Этап 02 Выявление аномалий в данных, и обучение модели выявлять аномалий"
   ]
  },
  {
   "cell_type": "code",
   "execution_count": 1,
   "id": "30458238-0c9a-4245-b378-2f5db13d2445",
   "metadata": {
    "tags": []
   },
   "outputs": [],
   "source": [
    "#!pip install catboost"
   ]
  },
  {
   "cell_type": "code",
   "execution_count": 2,
   "id": "a5ffe7aa-b67d-4305-9469-9cb6e21db9ee",
   "metadata": {
    "tags": []
   },
   "outputs": [
    {
     "name": "stderr",
     "output_type": "stream",
     "text": [
      "/home/joefox/.pyvenv/base/lib/python3.9/site-packages/tqdm/auto.py:21: TqdmWarning: IProgress not found. Please update jupyter and ipywidgets. See https://ipywidgets.readthedocs.io/en/stable/user_install.html\n",
      "  from .autonotebook import tqdm as notebook_tqdm\n"
     ]
    }
   ],
   "source": [
    "from tqdm.auto import tqdm\n",
    "import numpy as np\n",
    "import pandas as pd\n",
    "from sklearn import cluster\n",
    "import catboost as cb\n",
    "from sklearn.model_selection import train_test_split"
   ]
  },
  {
   "cell_type": "code",
   "execution_count": 3,
   "id": "cf227e54-cc96-4c73-be59-d1cb3a2c6250",
   "metadata": {
    "tags": []
   },
   "outputs": [],
   "source": [
    "from src.preprocess import TrafficPreprocess"
   ]
  },
  {
   "cell_type": "code",
   "execution_count": 4,
   "id": "972d6056-92ee-40b3-8dec-8aecb5b86492",
   "metadata": {
    "tags": []
   },
   "outputs": [],
   "source": [
    "#Загрузим данные\n",
    "df = pd.read_csv('data/part_10.csv.gz',compression='gzip')"
   ]
  },
  {
   "cell_type": "code",
   "execution_count": 5,
   "id": "a5847d91-0a8b-4b5c-a604-16f3521dcb5b",
   "metadata": {
    "tags": []
   },
   "outputs": [],
   "source": [
    "#df = df[:2000]"
   ]
  },
  {
   "cell_type": "code",
   "execution_count": 6,
   "id": "f1e113f1-b044-452c-8185-b8931a48d211",
   "metadata": {
    "tags": []
   },
   "outputs": [],
   "source": [
    "#Инициализируем класс Препроцессинга и загрузим модели\n",
    "traffic_preprocess = TrafficPreprocess()\n",
    "traffic_preprocess.agent_model_load()\n",
    "traffic_preprocess.load_models_etap_02()"
   ]
  },
  {
   "cell_type": "code",
   "execution_count": 7,
   "id": "3dfbc3ae-9972-436a-ae3e-4eecf5917886",
   "metadata": {
    "tags": []
   },
   "outputs": [
    {
     "name": "stderr",
     "output_type": "stream",
     "text": [
      "57845it [00:03, 15893.11it/s]\n"
     ]
    }
   ],
   "source": [
    "#Выполним первый этап препроцессинга данных (выделения признаков)\n",
    "list_result_dict = []\n",
    "for idx,rows in tqdm(df.iterrows()):\n",
    "    data = dict(rows)\n",
    "    #print(data)\n",
    "    result_dict = traffic_preprocess.preprocess_stage_one(data)\n",
    "    list_result_dict.append(result_dict)\n",
    "    #break"
   ]
  },
  {
   "cell_type": "code",
   "execution_count": 8,
   "id": "c354a8a2-aaf5-49b6-b63a-33958357243c",
   "metadata": {
    "tags": []
   },
   "outputs": [],
   "source": [
    "#Загрузим модель кластеризации USER AGENT\n",
    "traffic_preprocess.agent_model_load()"
   ]
  },
  {
   "cell_type": "code",
   "execution_count": 9,
   "id": "148fd31e-afff-4ea3-81a5-7d456488ccdd",
   "metadata": {
    "tags": []
   },
   "outputs": [
    {
     "name": "stderr",
     "output_type": "stream",
     "text": [
      "100%|██████████| 57845/57845 [13:50<00:00, 69.66it/s] \n"
     ]
    }
   ],
   "source": [
    "#Выполним второй этап препроцессинга данных (выделения признаков), и удалим записи с неверным IP\n",
    "add_result_dict = []\n",
    "for result_dict in tqdm(list_result_dict):\n",
    "    result_dict = traffic_preprocess.preprocess_stage_two(result_dict)\n",
    "    if result_dict['RIGHT_CLIENT_IP'] == result_dict['CLIENT_IP']:\n",
    "        add_result_dict.append(result_dict)\n",
    "    #break\n",
    "list_result_dict.clear()\n",
    "del(list_result_dict)"
   ]
  },
  {
   "cell_type": "code",
   "execution_count": 10,
   "id": "20f1a5c7-51e1-4de5-a16f-617e69b6e066",
   "metadata": {},
   "outputs": [],
   "source": [
    "df = pd.DataFrame(add_result_dict)"
   ]
  },
  {
   "cell_type": "code",
   "execution_count": 11,
   "id": "af030d42-7e37-4e46-8290-ff7f97ec1a5b",
   "metadata": {
    "tags": []
   },
   "outputs": [
    {
     "name": "stderr",
     "output_type": "stream",
     "text": [
      "100%|██████████| 57694/57694 [00:00<00:00, 100720.31it/s]\n"
     ]
    }
   ],
   "source": [
    "#Сгенерируем итоговый массив признаков для обучения модели\n",
    "list_futures = []\n",
    "for result_dict in tqdm(add_result_dict):\n",
    "    futures = traffic_preprocess.clusters_create_futures_array(result_dict)\n",
    "    list_futures.append(futures)\n",
    "    #break\n",
    "add_result_dict.clear()    \n",
    "del(add_result_dict)"
   ]
  },
  {
   "cell_type": "code",
   "execution_count": 12,
   "id": "cc672f02-19f3-4673-ae66-15b23075ff66",
   "metadata": {
    "tags": []
   },
   "outputs": [],
   "source": [
    "dbscan = cluster.DBSCAN(eps=9.0, min_samples=100)"
   ]
  },
  {
   "cell_type": "code",
   "execution_count": 13,
   "id": "436db4c8-8871-4c93-9243-544d079b8c80",
   "metadata": {
    "tags": []
   },
   "outputs": [
    {
     "name": "stdout",
     "output_type": "stream",
     "text": [
      "huggingface/tokenizers: The current process just got forked, after parallelism has already been used. Disabling parallelism to avoid deadlocks...\n",
      "To disable this warning, you can either:\n",
      "\t- Avoid using `tokenizers` before the fork if possible\n",
      "\t- Explicitly set the environment variable TOKENIZERS_PARALLELISM=(true | false)\n"
     ]
    },
    {
     "data": {
      "text/html": [
       "<style>#sk-container-id-1 {color: black;}#sk-container-id-1 pre{padding: 0;}#sk-container-id-1 div.sk-toggleable {background-color: white;}#sk-container-id-1 label.sk-toggleable__label {cursor: pointer;display: block;width: 100%;margin-bottom: 0;padding: 0.3em;box-sizing: border-box;text-align: center;}#sk-container-id-1 label.sk-toggleable__label-arrow:before {content: \"▸\";float: left;margin-right: 0.25em;color: #696969;}#sk-container-id-1 label.sk-toggleable__label-arrow:hover:before {color: black;}#sk-container-id-1 div.sk-estimator:hover label.sk-toggleable__label-arrow:before {color: black;}#sk-container-id-1 div.sk-toggleable__content {max-height: 0;max-width: 0;overflow: hidden;text-align: left;background-color: #f0f8ff;}#sk-container-id-1 div.sk-toggleable__content pre {margin: 0.2em;color: black;border-radius: 0.25em;background-color: #f0f8ff;}#sk-container-id-1 input.sk-toggleable__control:checked~div.sk-toggleable__content {max-height: 200px;max-width: 100%;overflow: auto;}#sk-container-id-1 input.sk-toggleable__control:checked~label.sk-toggleable__label-arrow:before {content: \"▾\";}#sk-container-id-1 div.sk-estimator input.sk-toggleable__control:checked~label.sk-toggleable__label {background-color: #d4ebff;}#sk-container-id-1 div.sk-label input.sk-toggleable__control:checked~label.sk-toggleable__label {background-color: #d4ebff;}#sk-container-id-1 input.sk-hidden--visually {border: 0;clip: rect(1px 1px 1px 1px);clip: rect(1px, 1px, 1px, 1px);height: 1px;margin: -1px;overflow: hidden;padding: 0;position: absolute;width: 1px;}#sk-container-id-1 div.sk-estimator {font-family: monospace;background-color: #f0f8ff;border: 1px dotted black;border-radius: 0.25em;box-sizing: border-box;margin-bottom: 0.5em;}#sk-container-id-1 div.sk-estimator:hover {background-color: #d4ebff;}#sk-container-id-1 div.sk-parallel-item::after {content: \"\";width: 100%;border-bottom: 1px solid gray;flex-grow: 1;}#sk-container-id-1 div.sk-label:hover label.sk-toggleable__label {background-color: #d4ebff;}#sk-container-id-1 div.sk-serial::before {content: \"\";position: absolute;border-left: 1px solid gray;box-sizing: border-box;top: 0;bottom: 0;left: 50%;z-index: 0;}#sk-container-id-1 div.sk-serial {display: flex;flex-direction: column;align-items: center;background-color: white;padding-right: 0.2em;padding-left: 0.2em;position: relative;}#sk-container-id-1 div.sk-item {position: relative;z-index: 1;}#sk-container-id-1 div.sk-parallel {display: flex;align-items: stretch;justify-content: center;background-color: white;position: relative;}#sk-container-id-1 div.sk-item::before, #sk-container-id-1 div.sk-parallel-item::before {content: \"\";position: absolute;border-left: 1px solid gray;box-sizing: border-box;top: 0;bottom: 0;left: 50%;z-index: -1;}#sk-container-id-1 div.sk-parallel-item {display: flex;flex-direction: column;z-index: 1;position: relative;background-color: white;}#sk-container-id-1 div.sk-parallel-item:first-child::after {align-self: flex-end;width: 50%;}#sk-container-id-1 div.sk-parallel-item:last-child::after {align-self: flex-start;width: 50%;}#sk-container-id-1 div.sk-parallel-item:only-child::after {width: 0;}#sk-container-id-1 div.sk-dashed-wrapped {border: 1px dashed gray;margin: 0 0.4em 0.5em 0.4em;box-sizing: border-box;padding-bottom: 0.4em;background-color: white;}#sk-container-id-1 div.sk-label label {font-family: monospace;font-weight: bold;display: inline-block;line-height: 1.2em;}#sk-container-id-1 div.sk-label-container {text-align: center;}#sk-container-id-1 div.sk-container {/* jupyter's `normalize.less` sets `[hidden] { display: none; }` but bootstrap.min.css set `[hidden] { display: none !important; }` so we also need the `!important` here to be able to override the default hidden behavior on the sphinx rendered scikit-learn.org. See: https://github.com/scikit-learn/scikit-learn/issues/21755 */display: inline-block !important;position: relative;}#sk-container-id-1 div.sk-text-repr-fallback {display: none;}</style><div id=\"sk-container-id-1\" class=\"sk-top-container\"><div class=\"sk-text-repr-fallback\"><pre>DBSCAN(eps=9.0, min_samples=100)</pre><b>In a Jupyter environment, please rerun this cell to show the HTML representation or trust the notebook. <br />On GitHub, the HTML representation is unable to render, please try loading this page with nbviewer.org.</b></div><div class=\"sk-container\" hidden><div class=\"sk-item\"><div class=\"sk-estimator sk-toggleable\"><input class=\"sk-toggleable__control sk-hidden--visually\" id=\"sk-estimator-id-1\" type=\"checkbox\" checked><label for=\"sk-estimator-id-1\" class=\"sk-toggleable__label sk-toggleable__label-arrow\">DBSCAN</label><div class=\"sk-toggleable__content\"><pre>DBSCAN(eps=9.0, min_samples=100)</pre></div></div></div></div></div>"
      ],
      "text/plain": [
       "DBSCAN(eps=9.0, min_samples=100)"
      ]
     },
     "execution_count": 13,
     "metadata": {},
     "output_type": "execute_result"
    }
   ],
   "source": [
    "#Выполним кластеризацию\n",
    "dbscan.fit(list_futures)"
   ]
  },
  {
   "cell_type": "code",
   "execution_count": 14,
   "id": "94f2c2fc-a305-448c-8991-e61ccc7f464c",
   "metadata": {},
   "outputs": [],
   "source": [
    "labels = dbscan.labels_"
   ]
  },
  {
   "cell_type": "code",
   "execution_count": 15,
   "id": "5bc75e98-edf9-4e97-81ac-280491ee4fa7",
   "metadata": {
    "tags": []
   },
   "outputs": [],
   "source": [
    "#Задача кластеризации отделить аномальный трафик от неаномального, поэтому разделим данные на два класса\n",
    "#1 - трафик аномальный, 0 - обычный\n",
    "cb_labels = labels==-1\n",
    "cb_labels = cb_labels.astype(int)"
   ]
  },
  {
   "cell_type": "code",
   "execution_count": 16,
   "id": "d5bf75d9-aaed-46a5-968b-2b59a81533eb",
   "metadata": {
    "tags": []
   },
   "outputs": [
    {
     "data": {
      "text/plain": [
       "(41607, 16087)"
      ]
     },
     "execution_count": 16,
     "metadata": {},
     "output_type": "execute_result"
    }
   ],
   "source": [
    "#Соотношение классов\n",
    "sum(cb_labels==0), sum(cb_labels==1)"
   ]
  },
  {
   "cell_type": "code",
   "execution_count": 17,
   "id": "c685ee7e-3090-4f83-8b44-d57b431502e3",
   "metadata": {},
   "outputs": [],
   "source": [
    "df['cluster'] = cb_labels"
   ]
  },
  {
   "cell_type": "code",
   "execution_count": 18,
   "id": "e311eeb2-74c9-4a20-8f9f-d42e9ec02dff",
   "metadata": {
    "tags": []
   },
   "outputs": [
    {
     "data": {
      "text/html": [
       "<div>\n",
       "<style scoped>\n",
       "    .dataframe tbody tr th:only-of-type {\n",
       "        vertical-align: middle;\n",
       "    }\n",
       "\n",
       "    .dataframe tbody tr th {\n",
       "        vertical-align: top;\n",
       "    }\n",
       "\n",
       "    .dataframe thead th {\n",
       "        text-align: right;\n",
       "    }\n",
       "</style>\n",
       "<table border=\"1\" class=\"dataframe\">\n",
       "  <thead>\n",
       "    <tr style=\"text-align: right;\">\n",
       "      <th></th>\n",
       "      <th>CLIENT_IP</th>\n",
       "      <th>CLIENT_USERAGENT</th>\n",
       "      <th>REQUEST_SIZE</th>\n",
       "      <th>RESPONSE_CODE</th>\n",
       "      <th>MATCHED_VARIABLE_SRC</th>\n",
       "      <th>MATCHED_VARIABLE_NAME</th>\n",
       "      <th>MATCHED_VARIABLE_VALUE</th>\n",
       "      <th>EVENT_ID</th>\n",
       "      <th>RIGHT_CLIENT_IP</th>\n",
       "      <th>preproc_CLIENT_IP_country</th>\n",
       "      <th>preproc_CLIENT_USERAGENT</th>\n",
       "      <th>preproc_REQUEST_SIZE</th>\n",
       "      <th>preproc_RESPONSE_CODE_valid</th>\n",
       "      <th>preproc_RESPONSE_CODE</th>\n",
       "      <th>preproc_MATCHED_VARIABLE_SRC_valid</th>\n",
       "      <th>agent_vector</th>\n",
       "      <th>agent_cluster</th>\n",
       "      <th>matched_var_name</th>\n",
       "      <th>matched_var_value</th>\n",
       "      <th>cluster</th>\n",
       "    </tr>\n",
       "  </thead>\n",
       "  <tbody>\n",
       "    <tr>\n",
       "      <th>0</th>\n",
       "      <td>188.138.92.55</td>\n",
       "      <td>NaN</td>\n",
       "      <td>166</td>\n",
       "      <td>404</td>\n",
       "      <td>REQUEST_URI</td>\n",
       "      <td>NaN</td>\n",
       "      <td>//tmp/20160925122692indo.php.vob</td>\n",
       "      <td>AVdhXFgVq1Ppo9zF5Fxu</td>\n",
       "      <td>188.138.92.55</td>\n",
       "      <td>DE</td>\n",
       "      <td>nan</td>\n",
       "      <td>166</td>\n",
       "      <td>True</td>\n",
       "      <td>404</td>\n",
       "      <td>True</td>\n",
       "      <td>(0, 91)\\t1.0</td>\n",
       "      <td>13</td>\n",
       "      <td>[0.0227108, -0.02569362, 0.0186324, 0.02271437...</td>\n",
       "      <td>[0.02438902, -0.05339618, -0.007877337, -0.030...</td>\n",
       "      <td>1</td>\n",
       "    </tr>\n",
       "    <tr>\n",
       "      <th>2</th>\n",
       "      <td>176.123.240.64</td>\n",
       "      <td>Mozilla/5.0 (Windows NT 6.0; rv:34.0) Gecko/20...</td>\n",
       "      <td>395</td>\n",
       "      <td>403</td>\n",
       "      <td>REQUEST_PATH</td>\n",
       "      <td>NaN</td>\n",
       "      <td>/opinion/page1_3.php\\\" and \\\"\\\"x\\\"\\\"=\\\"\\\"x\\\"</td>\n",
       "      <td>iz7SN2YBrgKk_RFNZW_U</td>\n",
       "      <td>176.123.240.64</td>\n",
       "      <td>KG</td>\n",
       "      <td>mozilla/5.0 (windows nt 6.0; rv:34.0) gecko/20...</td>\n",
       "      <td>395</td>\n",
       "      <td>True</td>\n",
       "      <td>403</td>\n",
       "      <td>True</td>\n",
       "      <td>(0, 149)\\t0.2966918534009629\\n  (0, 121)\\t0....</td>\n",
       "      <td>10</td>\n",
       "      <td>[0.0227108, -0.02569362, 0.0186324, 0.02271437...</td>\n",
       "      <td>[0.0007681509, -0.001140485, -0.013785048, -0....</td>\n",
       "      <td>1</td>\n",
       "    </tr>\n",
       "    <tr>\n",
       "      <th>5</th>\n",
       "      <td>79.183.87.247</td>\n",
       "      <td>Mozilla/5.0 (Linux; Android 6.0; LG-H815 Build...</td>\n",
       "      <td>682</td>\n",
       "      <td>404</td>\n",
       "      <td>REQUEST_HEADERS</td>\n",
       "      <td>REQUEST_HEADERS.User-Agent</td>\n",
       "      <td>Mozilla/5.0 (Linux; Android 6.0; LG-H815 Build...</td>\n",
       "      <td>nFzwHGQB5cBXmMW1y_TD</td>\n",
       "      <td>79.183.87.247</td>\n",
       "      <td>IL</td>\n",
       "      <td>mozilla/5.0 (linux; android 6.0; lg-h815 build...</td>\n",
       "      <td>682</td>\n",
       "      <td>True</td>\n",
       "      <td>404</td>\n",
       "      <td>True</td>\n",
       "      <td>(0, 122)\\t0.16717495982469774\\n  (0, 87)\\t0....</td>\n",
       "      <td>3</td>\n",
       "      <td>[-0.010601818, -0.047821425, 0.016080828, -0.0...</td>\n",
       "      <td>[0.011902368, -0.019429851, -0.004136016, -0.0...</td>\n",
       "      <td>1</td>\n",
       "    </tr>\n",
       "  </tbody>\n",
       "</table>\n",
       "</div>"
      ],
      "text/plain": [
       "        CLIENT_IP                                   CLIENT_USERAGENT  \\\n",
       "0   188.138.92.55                                                NaN   \n",
       "2  176.123.240.64  Mozilla/5.0 (Windows NT 6.0; rv:34.0) Gecko/20...   \n",
       "5   79.183.87.247  Mozilla/5.0 (Linux; Android 6.0; LG-H815 Build...   \n",
       "\n",
       "  REQUEST_SIZE RESPONSE_CODE MATCHED_VARIABLE_SRC       MATCHED_VARIABLE_NAME  \\\n",
       "0          166           404          REQUEST_URI                         NaN   \n",
       "2          395           403         REQUEST_PATH                         NaN   \n",
       "5          682           404      REQUEST_HEADERS  REQUEST_HEADERS.User-Agent   \n",
       "\n",
       "                              MATCHED_VARIABLE_VALUE              EVENT_ID  \\\n",
       "0                   //tmp/20160925122692indo.php.vob  AVdhXFgVq1Ppo9zF5Fxu   \n",
       "2       /opinion/page1_3.php\\\" and \\\"\\\"x\\\"\\\"=\\\"\\\"x\\\"  iz7SN2YBrgKk_RFNZW_U   \n",
       "5  Mozilla/5.0 (Linux; Android 6.0; LG-H815 Build...  nFzwHGQB5cBXmMW1y_TD   \n",
       "\n",
       "  RIGHT_CLIENT_IP preproc_CLIENT_IP_country  \\\n",
       "0   188.138.92.55                        DE   \n",
       "2  176.123.240.64                        KG   \n",
       "5   79.183.87.247                        IL   \n",
       "\n",
       "                            preproc_CLIENT_USERAGENT  preproc_REQUEST_SIZE  \\\n",
       "0                                                nan                   166   \n",
       "2  mozilla/5.0 (windows nt 6.0; rv:34.0) gecko/20...                   395   \n",
       "5  mozilla/5.0 (linux; android 6.0; lg-h815 build...                   682   \n",
       "\n",
       "   preproc_RESPONSE_CODE_valid  preproc_RESPONSE_CODE  \\\n",
       "0                         True                    404   \n",
       "2                         True                    403   \n",
       "5                         True                    404   \n",
       "\n",
       "   preproc_MATCHED_VARIABLE_SRC_valid  \\\n",
       "0                                True   \n",
       "2                                True   \n",
       "5                                True   \n",
       "\n",
       "                                        agent_vector  agent_cluster  \\\n",
       "0                                       (0, 91)\\t1.0             13   \n",
       "2    (0, 149)\\t0.2966918534009629\\n  (0, 121)\\t0....             10   \n",
       "5    (0, 122)\\t0.16717495982469774\\n  (0, 87)\\t0....              3   \n",
       "\n",
       "                                    matched_var_name  \\\n",
       "0  [0.0227108, -0.02569362, 0.0186324, 0.02271437...   \n",
       "2  [0.0227108, -0.02569362, 0.0186324, 0.02271437...   \n",
       "5  [-0.010601818, -0.047821425, 0.016080828, -0.0...   \n",
       "\n",
       "                                   matched_var_value  cluster  \n",
       "0  [0.02438902, -0.05339618, -0.007877337, -0.030...        1  \n",
       "2  [0.0007681509, -0.001140485, -0.013785048, -0....        1  \n",
       "5  [0.011902368, -0.019429851, -0.004136016, -0.0...        1  "
      ]
     },
     "execution_count": 18,
     "metadata": {},
     "output_type": "execute_result"
    }
   ],
   "source": [
    "#Подозрительный трафик\n",
    "df[df['cluster'] == 1].head(3)"
   ]
  },
  {
   "cell_type": "code",
   "execution_count": 19,
   "id": "dfe89941-9bc7-4fea-9952-79f80606143b",
   "metadata": {
    "tags": []
   },
   "outputs": [
    {
     "data": {
      "text/plain": [
       "(16087, 20)"
      ]
     },
     "execution_count": 19,
     "metadata": {},
     "output_type": "execute_result"
    }
   ],
   "source": [
    "df_data = df[df['cluster'] == 1]\n",
    "df_data.shape"
   ]
  },
  {
   "cell_type": "code",
   "execution_count": 20,
   "id": "5aae206f-9a26-4eb5-87eb-8db99df0c4b6",
   "metadata": {
    "tags": []
   },
   "outputs": [
    {
     "data": {
      "text/plain": [
       "(16087, 20)"
      ]
     },
     "execution_count": 20,
     "metadata": {},
     "output_type": "execute_result"
    }
   ],
   "source": [
    "df_data_0 = df[df['cluster'] == 0][:df_data.shape[0]]\n",
    "df_data_0.shape"
   ]
  },
  {
   "cell_type": "code",
   "execution_count": 21,
   "id": "e158ce56-bc80-47c5-bb56-25b8add36494",
   "metadata": {
    "tags": []
   },
   "outputs": [],
   "source": [
    "#Сбалансируем классы в выборке\n",
    "df_data = pd.concat([df_data,df_data_0])"
   ]
  },
  {
   "cell_type": "code",
   "execution_count": 22,
   "id": "33200f88-7a5d-47b2-a40c-d982045c2eec",
   "metadata": {
    "tags": []
   },
   "outputs": [
    {
     "data": {
      "text/plain": [
       "(32174, 20)"
      ]
     },
     "execution_count": 22,
     "metadata": {},
     "output_type": "execute_result"
    }
   ],
   "source": [
    "df_data.shape"
   ]
  },
  {
   "cell_type": "code",
   "execution_count": 23,
   "id": "71932338-05ef-4143-9d18-ab2fdc9d82b3",
   "metadata": {
    "tags": []
   },
   "outputs": [
    {
     "data": {
      "text/plain": [
       "32174"
      ]
     },
     "execution_count": 23,
     "metadata": {},
     "output_type": "execute_result"
    }
   ],
   "source": [
    "df_data_labels = list(df_data['cluster'])\n",
    "df_data.drop('cluster',inplace=True,axis=1)\n",
    "len(df_data_labels)"
   ]
  },
  {
   "cell_type": "code",
   "execution_count": 24,
   "id": "0cce8adb-bd8d-48db-8d81-dd73fbda4b8e",
   "metadata": {
    "tags": []
   },
   "outputs": [
    {
     "data": {
      "text/plain": [
       "(32174, 19)"
      ]
     },
     "execution_count": 24,
     "metadata": {},
     "output_type": "execute_result"
    }
   ],
   "source": [
    "df_data.shape"
   ]
  },
  {
   "cell_type": "code",
   "execution_count": 25,
   "id": "e6923a43-2f02-4aa7-9047-9edd0c3f8e59",
   "metadata": {
    "tags": []
   },
   "outputs": [
    {
     "name": "stderr",
     "output_type": "stream",
     "text": [
      "32174it [00:02, 12368.08it/s]\n"
     ]
    }
   ],
   "source": [
    "list_futures = []\n",
    "for idx, rows in tqdm(df_data.iterrows()):\n",
    "    result_dict = dict(rows)\n",
    "    futures = traffic_preprocess.clusters_create_futures_array(result_dict)\n",
    "    list_futures.append(futures)"
   ]
  },
  {
   "cell_type": "code",
   "execution_count": 26,
   "id": "4b8564c8-49f2-47e6-8ca0-444b65d519af",
   "metadata": {
    "tags": []
   },
   "outputs": [],
   "source": [
    "X_train, X_test, y_train, y_test = train_test_split(list_futures, df_data_labels, test_size=0.2, random_state=42)"
   ]
  },
  {
   "cell_type": "code",
   "execution_count": 27,
   "id": "a2bf2257-e621-44ad-9a74-e48a07116ef2",
   "metadata": {},
   "outputs": [
    {
     "name": "stdout",
     "output_type": "stream",
     "text": [
      "0:\tlearn: 0.7606356\ttest: 0.7566434\tbest: 0.7566434 (0)\ttotal: 99.8ms\tremaining: 9.88s\n",
      "1:\tlearn: 0.8080734\ttest: 0.7968920\tbest: 0.7968920 (1)\ttotal: 122ms\tremaining: 5.96s\n",
      "2:\tlearn: 0.8044213\ttest: 0.7956488\tbest: 0.7968920 (1)\ttotal: 139ms\tremaining: 4.48s\n",
      "3:\tlearn: 0.7994095\ttest: 0.7912976\tbest: 0.7968920 (1)\ttotal: 157ms\tremaining: 3.77s\n",
      "4:\tlearn: 0.8027118\ttest: 0.7973582\tbest: 0.7973582 (4)\ttotal: 175ms\tremaining: 3.32s\n",
      "5:\tlearn: 0.8269552\ttest: 0.8203574\tbest: 0.8203574 (5)\ttotal: 195ms\tremaining: 3.06s\n",
      "6:\tlearn: 0.8339873\ttest: 0.8287490\tbest: 0.8287490 (6)\ttotal: 216ms\tremaining: 2.87s\n",
      "7:\tlearn: 0.8347255\ttest: 0.8298368\tbest: 0.8298368 (7)\ttotal: 236ms\tremaining: 2.71s\n",
      "8:\tlearn: 0.8494503\ttest: 0.8447552\tbest: 0.8447552 (8)\ttotal: 263ms\tremaining: 2.65s\n",
      "9:\tlearn: 0.8527915\ttest: 0.8486402\tbest: 0.8486402 (9)\ttotal: 284ms\tremaining: 2.56s\n",
      "10:\tlearn: 0.8565989\ttest: 0.8515929\tbest: 0.8515929 (10)\ttotal: 308ms\tremaining: 2.49s\n",
      "11:\tlearn: 0.8581141\ttest: 0.8526807\tbest: 0.8526807 (11)\ttotal: 333ms\tremaining: 2.44s\n",
      "12:\tlearn: 0.8629706\ttest: 0.8574981\tbest: 0.8574981 (12)\ttotal: 357ms\tremaining: 2.39s\n",
      "13:\tlearn: 0.8730331\ttest: 0.8700855\tbest: 0.8700855 (13)\ttotal: 379ms\tremaining: 2.33s\n",
      "14:\tlearn: 0.8728000\ttest: 0.8702409\tbest: 0.8702409 (14)\ttotal: 403ms\tremaining: 2.29s\n",
      "15:\tlearn: 0.8732274\ttest: 0.8697747\tbest: 0.8702409 (14)\ttotal: 426ms\tremaining: 2.24s\n",
      "16:\tlearn: 0.8640584\ttest: 0.8579643\tbest: 0.8702409 (14)\ttotal: 446ms\tremaining: 2.18s\n",
      "17:\tlearn: 0.8670112\ttest: 0.8607615\tbest: 0.8702409 (14)\ttotal: 468ms\tremaining: 2.13s\n",
      "18:\tlearn: 0.8695754\ttest: 0.8680653\tbest: 0.8702409 (14)\ttotal: 488ms\tremaining: 2.08s\n",
      "19:\tlearn: 0.8733440\ttest: 0.8688423\tbest: 0.8702409 (14)\ttotal: 512ms\tremaining: 2.05s\n",
      "20:\tlearn: 0.8642915\ttest: 0.8588967\tbest: 0.8702409 (14)\ttotal: 535ms\tremaining: 2.01s\n",
      "21:\tlearn: 0.8736936\ttest: 0.8691531\tbest: 0.8702409 (14)\ttotal: 556ms\tremaining: 1.97s\n",
      "22:\tlearn: 0.8712460\ttest: 0.8688423\tbest: 0.8702409 (14)\ttotal: 580ms\tremaining: 1.94s\n",
      "23:\tlearn: 0.8750146\ttest: 0.8703963\tbest: 0.8703963 (23)\ttotal: 604ms\tremaining: 1.91s\n",
      "24:\tlearn: 0.8703912\ttest: 0.8672883\tbest: 0.8703963 (23)\ttotal: 628ms\tremaining: 1.88s\n",
      "25:\tlearn: 0.8700027\ttest: 0.8672883\tbest: 0.8703963 (23)\ttotal: 649ms\tremaining: 1.85s\n",
      "26:\tlearn: 0.8707798\ttest: 0.8682207\tbest: 0.8703963 (23)\ttotal: 673ms\tremaining: 1.82s\n",
      "27:\tlearn: 0.8729166\ttest: 0.8707071\tbest: 0.8707071 (27)\ttotal: 699ms\tremaining: 1.8s\n",
      "28:\tlearn: 0.8771126\ttest: 0.8759907\tbest: 0.8759907 (28)\ttotal: 726ms\tremaining: 1.78s\n",
      "29:\tlearn: 0.8733440\ttest: 0.8697747\tbest: 0.8759907 (28)\ttotal: 751ms\tremaining: 1.75s\n",
      "30:\tlearn: 0.8740433\ttest: 0.8699301\tbest: 0.8759907 (28)\ttotal: 773ms\tremaining: 1.72s\n",
      "31:\tlearn: 0.8772291\ttest: 0.8770785\tbest: 0.8770785 (31)\ttotal: 796ms\tremaining: 1.69s\n",
      "32:\tlearn: 0.8869031\ttest: 0.8862471\tbest: 0.8862471 (32)\ttotal: 817ms\tremaining: 1.66s\n",
      "33:\tlearn: 0.8862038\ttest: 0.8859363\tbest: 0.8862471 (32)\ttotal: 842ms\tremaining: 1.63s\n",
      "34:\tlearn: 0.8880687\ttest: 0.8878011\tbest: 0.8878011 (34)\ttotal: 866ms\tremaining: 1.61s\n",
      "35:\tlearn: 0.8846498\ttest: 0.8842269\tbest: 0.8878011 (34)\ttotal: 890ms\tremaining: 1.58s\n",
      "36:\tlearn: 0.8878356\ttest: 0.8860917\tbest: 0.8878011 (34)\ttotal: 915ms\tremaining: 1.56s\n",
      "37:\tlearn: 0.8877967\ttest: 0.8860917\tbest: 0.8878011 (34)\ttotal: 937ms\tremaining: 1.53s\n",
      "38:\tlearn: 0.8878744\ttest: 0.8856255\tbest: 0.8878011 (34)\ttotal: 961ms\tremaining: 1.5s\n",
      "39:\tlearn: 0.8926920\ttest: 0.8907537\tbest: 0.8907537 (39)\ttotal: 984ms\tremaining: 1.48s\n",
      "40:\tlearn: 0.8941684\ttest: 0.8912199\tbest: 0.8912199 (40)\ttotal: 1.01s\tremaining: 1.45s\n",
      "41:\tlearn: 0.8934691\ttest: 0.8918415\tbest: 0.8918415 (41)\ttotal: 1.03s\tremaining: 1.42s\n",
      "42:\tlearn: 0.8926920\ttest: 0.8910645\tbest: 0.8918415 (41)\ttotal: 1.05s\tremaining: 1.39s\n",
      "43:\tlearn: 0.8938964\ttest: 0.8923077\tbest: 0.8923077 (43)\ttotal: 1.08s\tremaining: 1.37s\n",
      "44:\tlearn: 0.8939741\ttest: 0.8932401\tbest: 0.8932401 (44)\ttotal: 1.1s\tremaining: 1.35s\n",
      "45:\tlearn: 0.8942461\ttest: 0.8932401\tbest: 0.8932401 (44)\ttotal: 1.13s\tremaining: 1.32s\n",
      "46:\tlearn: 0.8941684\ttest: 0.8933955\tbest: 0.8933955 (46)\ttotal: 1.16s\tremaining: 1.31s\n",
      "47:\tlearn: 0.8939353\ttest: 0.8935509\tbest: 0.8935509 (47)\ttotal: 1.19s\tremaining: 1.28s\n",
      "48:\tlearn: 0.8978204\ttest: 0.8972805\tbest: 0.8972805 (48)\ttotal: 1.21s\tremaining: 1.26s\n",
      "49:\tlearn: 0.8957613\ttest: 0.8944833\tbest: 0.8972805 (48)\ttotal: 1.23s\tremaining: 1.23s\n",
      "50:\tlearn: 0.8979370\ttest: 0.8961927\tbest: 0.8972805 (48)\ttotal: 1.26s\tremaining: 1.21s\n",
      "51:\tlearn: 0.9037647\ttest: 0.9016317\tbest: 0.9016317 (51)\ttotal: 1.28s\tremaining: 1.18s\n",
      "52:\tlearn: 0.9046972\ttest: 0.9033411\tbest: 0.9033411 (52)\ttotal: 1.3s\tremaining: 1.16s\n",
      "53:\tlearn: 0.9051634\ttest: 0.9039627\tbest: 0.9039627 (53)\ttotal: 1.33s\tremaining: 1.13s\n",
      "54:\tlearn: 0.9053965\ttest: 0.9045843\tbest: 0.9045843 (54)\ttotal: 1.35s\tremaining: 1.1s\n",
      "55:\tlearn: 0.9066009\ttest: 0.9069153\tbest: 0.9069153 (55)\ttotal: 1.38s\tremaining: 1.08s\n",
      "56:\tlearn: 0.9143712\ttest: 0.9157731\tbest: 0.9157731 (56)\ttotal: 1.41s\tremaining: 1.06s\n",
      "57:\tlearn: 0.9162749\ttest: 0.9167055\tbest: 0.9167055 (57)\ttotal: 1.43s\tremaining: 1.03s\n",
      "58:\tlearn: 0.9168965\ttest: 0.9185703\tbest: 0.9185703 (58)\ttotal: 1.45s\tremaining: 1.01s\n",
      "59:\tlearn: 0.9172851\ttest: 0.9177933\tbest: 0.9185703 (58)\ttotal: 1.47s\tremaining: 979ms\n",
      "60:\tlearn: 0.9187614\ttest: 0.9185703\tbest: 0.9185703 (58)\ttotal: 1.49s\tremaining: 952ms\n",
      "61:\tlearn: 0.9206263\ttest: 0.9209013\tbest: 0.9209013 (61)\ttotal: 1.51s\tremaining: 927ms\n",
      "62:\tlearn: 0.9205874\ttest: 0.9205905\tbest: 0.9209013 (61)\ttotal: 1.53s\tremaining: 900ms\n",
      "63:\tlearn: 0.9208205\ttest: 0.9207459\tbest: 0.9209013 (61)\ttotal: 1.55s\tremaining: 874ms\n",
      "64:\tlearn: 0.9215587\ttest: 0.9215229\tbest: 0.9215229 (64)\ttotal: 1.58s\tremaining: 849ms\n",
      "65:\tlearn: 0.9224523\ttest: 0.9226107\tbest: 0.9226107 (65)\ttotal: 1.6s\tremaining: 825ms\n",
      "66:\tlearn: 0.9226466\ttest: 0.9227661\tbest: 0.9227661 (66)\ttotal: 1.63s\tremaining: 801ms\n",
      "67:\tlearn: 0.9255604\ttest: 0.9238539\tbest: 0.9238539 (67)\ttotal: 1.65s\tremaining: 778ms\n",
      "68:\tlearn: 0.9266871\ttest: 0.9258741\tbest: 0.9258741 (68)\ttotal: 1.68s\tremaining: 755ms\n",
      "69:\tlearn: 0.9274642\ttest: 0.9272727\tbest: 0.9272727 (69)\ttotal: 1.7s\tremaining: 730ms\n",
      "70:\tlearn: 0.9273865\ttest: 0.9268065\tbest: 0.9272727 (69)\ttotal: 1.73s\tremaining: 705ms\n",
      "71:\tlearn: 0.9279304\ttest: 0.9278943\tbest: 0.9278943 (71)\ttotal: 1.75s\tremaining: 680ms\n",
      "72:\tlearn: 0.9282023\ttest: 0.9269619\tbest: 0.9278943 (71)\ttotal: 1.77s\tremaining: 654ms\n",
      "73:\tlearn: 0.9316990\ttest: 0.9308469\tbest: 0.9308469 (73)\ttotal: 1.79s\tremaining: 630ms\n",
      "74:\tlearn: 0.9325926\ttest: 0.9313131\tbest: 0.9313131 (74)\ttotal: 1.82s\tremaining: 606ms\n",
      "75:\tlearn: 0.9328645\ttest: 0.9311577\tbest: 0.9313131 (74)\ttotal: 1.84s\tremaining: 582ms\n",
      "76:\tlearn: 0.9313105\ttest: 0.9306915\tbest: 0.9313131 (74)\ttotal: 1.87s\tremaining: 558ms\n",
      "77:\tlearn: 0.9313105\ttest: 0.9311577\tbest: 0.9313131 (74)\ttotal: 1.89s\tremaining: 533ms\n",
      "78:\tlearn: 0.9314270\ttest: 0.9313131\tbest: 0.9313131 (74)\ttotal: 1.91s\tremaining: 508ms\n",
      "79:\tlearn: 0.9320486\ttest: 0.9322455\tbest: 0.9322455 (79)\ttotal: 1.94s\tremaining: 484ms\n",
      "80:\tlearn: 0.9318155\ttest: 0.9311577\tbest: 0.9322455 (79)\ttotal: 1.96s\tremaining: 460ms\n",
      "81:\tlearn: 0.9317767\ttest: 0.9314685\tbest: 0.9322455 (79)\ttotal: 1.99s\tremaining: 437ms\n",
      "82:\tlearn: 0.9364777\ttest: 0.9383061\tbest: 0.9383061 (82)\ttotal: 2.02s\tremaining: 414ms\n",
      "83:\tlearn: 0.9370993\ttest: 0.9384615\tbest: 0.9384615 (83)\ttotal: 2.05s\tremaining: 391ms\n",
      "84:\tlearn: 0.9373325\ttest: 0.9389277\tbest: 0.9389277 (84)\ttotal: 2.08s\tremaining: 367ms\n",
      "85:\tlearn: 0.9374879\ttest: 0.9393939\tbest: 0.9393939 (85)\ttotal: 2.11s\tremaining: 343ms\n",
      "86:\tlearn: 0.9381095\ttest: 0.9395493\tbest: 0.9395493 (86)\ttotal: 2.13s\tremaining: 319ms\n",
      "87:\tlearn: 0.9376044\ttest: 0.9395493\tbest: 0.9395493 (86)\ttotal: 2.16s\tremaining: 295ms\n",
      "88:\tlearn: 0.9388088\ttest: 0.9406371\tbest: 0.9406371 (88)\ttotal: 2.19s\tremaining: 271ms\n",
      "89:\tlearn: 0.9391196\ttest: 0.9406371\tbest: 0.9406371 (88)\ttotal: 2.22s\tremaining: 246ms\n",
      "90:\tlearn: 0.9398190\ttest: 0.9411033\tbest: 0.9411033 (90)\ttotal: 2.25s\tremaining: 223ms\n",
      "91:\tlearn: 0.9415284\ttest: 0.9428127\tbest: 0.9428127 (91)\ttotal: 2.28s\tremaining: 198ms\n",
      "92:\tlearn: 0.9421112\ttest: 0.9435897\tbest: 0.9435897 (92)\ttotal: 2.31s\tremaining: 174ms\n",
      "93:\tlearn: 0.9421889\ttest: 0.9437451\tbest: 0.9437451 (93)\ttotal: 2.33s\tremaining: 149ms\n",
      "94:\tlearn: 0.9426551\ttest: 0.9440559\tbest: 0.9440559 (94)\ttotal: 2.36s\tremaining: 124ms\n",
      "95:\tlearn: 0.9425386\ttest: 0.9437451\tbest: 0.9440559 (94)\ttotal: 2.38s\tremaining: 99.3ms\n",
      "96:\tlearn: 0.9431213\ttest: 0.9442113\tbest: 0.9442113 (96)\ttotal: 2.41s\tremaining: 74.6ms\n",
      "97:\tlearn: 0.9437041\ttest: 0.9448329\tbest: 0.9448329 (97)\ttotal: 2.43s\tremaining: 49.7ms\n",
      "98:\tlearn: 0.9434321\ttest: 0.9456099\tbest: 0.9456099 (98)\ttotal: 2.46s\tremaining: 24.9ms\n",
      "99:\tlearn: 0.9445588\ttest: 0.9462315\tbest: 0.9462315 (99)\ttotal: 2.49s\tremaining: 0us\n",
      "\n",
      "bestTest = 0.9462315462\n",
      "bestIteration = 99\n",
      "\n"
     ]
    },
    {
     "data": {
      "text/plain": [
       "<catboost.core.CatBoostClassifier at 0x7f01bce2bfa0>"
      ]
     },
     "execution_count": 27,
     "metadata": {},
     "output_type": "execute_result"
    }
   ],
   "source": [
    "#Обучим модель классифицировать трафик на обычный и аномальный\n",
    "model = cb.CatBoostClassifier(iterations=100, depth=3, learning_rate=0.1, loss_function='Logloss',eval_metric='Accuracy')\n",
    "val_set = (X_test, y_test)\n",
    "model.fit(X_train, y_train, eval_set=val_set, verbose=True)"
   ]
  },
  {
   "cell_type": "code",
   "execution_count": 28,
   "id": "601d160f-3d3b-4a6b-9fa0-5d1ec834d398",
   "metadata": {
    "tags": []
   },
   "outputs": [],
   "source": [
    "#Сохраним модель\n",
    "model.save_model(\"models/cb_model_traffic.cb\")"
   ]
  }
 ],
 "metadata": {
  "kernelspec": {
   "display_name": "Python 3 (ipykernel)",
   "language": "python",
   "name": "python3"
  },
  "language_info": {
   "codemirror_mode": {
    "name": "ipython",
    "version": 3
   },
   "file_extension": ".py",
   "mimetype": "text/x-python",
   "name": "python",
   "nbconvert_exporter": "python",
   "pygments_lexer": "ipython3",
   "version": "3.9.5"
  }
 },
 "nbformat": 4,
 "nbformat_minor": 5
}
