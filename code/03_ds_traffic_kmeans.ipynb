{
 "cells": [
  {
   "cell_type": "markdown",
   "id": "3fdda39e-16be-4a34-b094-afefb36b727d",
   "metadata": {},
   "source": [
    "# Этап 03 Кластеризация аномального трафика на возможные классы"
   ]
  },
  {
   "cell_type": "code",
   "execution_count": 1,
   "id": "30458238-0c9a-4245-b378-2f5db13d2445",
   "metadata": {
    "tags": []
   },
   "outputs": [],
   "source": [
    "#!pip install catboost"
   ]
  },
  {
   "cell_type": "code",
   "execution_count": 2,
   "id": "a5ffe7aa-b67d-4305-9469-9cb6e21db9ee",
   "metadata": {
    "tags": []
   },
   "outputs": [
    {
     "name": "stderr",
     "output_type": "stream",
     "text": [
      "/home/joefox/.pyvenv/base/lib/python3.9/site-packages/tqdm/auto.py:21: TqdmWarning: IProgress not found. Please update jupyter and ipywidgets. See https://ipywidgets.readthedocs.io/en/stable/user_install.html\n",
      "  from .autonotebook import tqdm as notebook_tqdm\n"
     ]
    }
   ],
   "source": [
    "import pickle\n",
    "from tqdm.auto import tqdm\n",
    "import numpy as np\n",
    "import pandas as pd\n",
    "from sklearn import cluster\n",
    "import matplotlib.pyplot as plt"
   ]
  },
  {
   "cell_type": "code",
   "execution_count": 3,
   "id": "cf227e54-cc96-4c73-be59-d1cb3a2c6250",
   "metadata": {
    "tags": []
   },
   "outputs": [],
   "source": [
    "from src.preprocess import TrafficPreprocess"
   ]
  },
  {
   "cell_type": "code",
   "execution_count": 4,
   "id": "972d6056-92ee-40b3-8dec-8aecb5b86492",
   "metadata": {
    "tags": []
   },
   "outputs": [],
   "source": [
    "#Загрузим данные\n",
    "df = pd.read_csv('data/part_10.csv.gz',compression='gzip')"
   ]
  },
  {
   "cell_type": "code",
   "execution_count": 5,
   "id": "a5847d91-0a8b-4b5c-a604-16f3521dcb5b",
   "metadata": {
    "tags": []
   },
   "outputs": [],
   "source": [
    "#df = df[:1000]"
   ]
  },
  {
   "cell_type": "code",
   "execution_count": 6,
   "id": "f1e113f1-b044-452c-8185-b8931a48d211",
   "metadata": {
    "tags": []
   },
   "outputs": [],
   "source": [
    "#Инициализируем класс Препроцессинга и загрузим модели\n",
    "traffic_preprocess = TrafficPreprocess()\n",
    "traffic_preprocess.agent_model_load()\n",
    "traffic_preprocess.load_models_etap_02()\n",
    "traffic_preprocess.load_models_etap_03()"
   ]
  },
  {
   "cell_type": "code",
   "execution_count": 7,
   "id": "3dfbc3ae-9972-436a-ae3e-4eecf5917886",
   "metadata": {
    "tags": []
   },
   "outputs": [
    {
     "name": "stderr",
     "output_type": "stream",
     "text": [
      "57845it [00:05, 10301.96it/s]\n"
     ]
    }
   ],
   "source": [
    "#Выполним первый этап препроцессинга данных (выделения признаков)\n",
    "list_result_dict = []\n",
    "for idx,rows in tqdm(df.iterrows()):\n",
    "    data = dict(rows)\n",
    "    #print(data)\n",
    "    result_dict = traffic_preprocess.preprocess_stage_one(data)\n",
    "    list_result_dict.append(result_dict)\n",
    "    #break"
   ]
  },
  {
   "cell_type": "code",
   "execution_count": 8,
   "id": "c354a8a2-aaf5-49b6-b63a-33958357243c",
   "metadata": {
    "tags": []
   },
   "outputs": [],
   "source": [
    "#Загрузим модель кластеризации USER AGENT\n",
    "traffic_preprocess.agent_model_load()"
   ]
  },
  {
   "cell_type": "code",
   "execution_count": 9,
   "id": "148fd31e-afff-4ea3-81a5-7d456488ccdd",
   "metadata": {
    "tags": []
   },
   "outputs": [
    {
     "name": "stderr",
     "output_type": "stream",
     "text": [
      "100%|██████████| 57845/57845 [13:10<00:00, 73.17it/s] \n"
     ]
    }
   ],
   "source": [
    "#Выполним второй этап препроцессинга данных (выделения признаков), и удалим записи с неверным IP\n",
    "add_result_dict = []\n",
    "for result_dict in tqdm(list_result_dict):\n",
    "    result_dict = traffic_preprocess.preprocess_stage_two(result_dict)\n",
    "    if result_dict['RIGHT_CLIENT_IP'] == result_dict['CLIENT_IP']:\n",
    "        add_result_dict.append(result_dict)\n",
    "    #break\n",
    "list_result_dict.clear()\n",
    "del(list_result_dict)"
   ]
  },
  {
   "cell_type": "code",
   "execution_count": 10,
   "id": "20f1a5c7-51e1-4de5-a16f-617e69b6e066",
   "metadata": {},
   "outputs": [],
   "source": [
    "df = pd.DataFrame(add_result_dict)"
   ]
  },
  {
   "cell_type": "code",
   "execution_count": 11,
   "id": "af030d42-7e37-4e46-8290-ff7f97ec1a5b",
   "metadata": {
    "tags": []
   },
   "outputs": [
    {
     "name": "stderr",
     "output_type": "stream",
     "text": [
      "100%|██████████| 57694/57694 [00:00<00:00, 106182.02it/s]\n"
     ]
    }
   ],
   "source": [
    "#Сгенерируем итоговый массив признаков для кластеризации\n",
    "list_futures = []\n",
    "for result_dict in tqdm(add_result_dict):\n",
    "    futures = traffic_preprocess.clusters_create_futures_array(result_dict)\n",
    "    list_futures.append(futures)\n",
    "    #break\n",
    "# add_result_dict.clear()    \n",
    "# del(add_result_dict)"
   ]
  },
  {
   "cell_type": "code",
   "execution_count": 12,
   "id": "77d61940-9aad-4a48-b095-41f49ceaea16",
   "metadata": {
    "tags": []
   },
   "outputs": [
    {
     "name": "stderr",
     "output_type": "stream",
     "text": [
      "100%|██████████| 57694/57694 [00:32<00:00, 1793.11it/s]\n"
     ]
    }
   ],
   "source": [
    "list_trafic_class = []\n",
    "for futures in tqdm(list_futures):\n",
    "    trafic_class = int(traffic_preprocess.trafic_model_predict(futures)[0])\n",
    "    list_trafic_class.append(trafic_class)"
   ]
  },
  {
   "cell_type": "code",
   "execution_count": 13,
   "id": "686f9eb1-5e4d-40ae-8e4a-e10da49235bd",
   "metadata": {
    "tags": []
   },
   "outputs": [
    {
     "data": {
      "text/plain": [
       "int"
      ]
     },
     "execution_count": 13,
     "metadata": {},
     "output_type": "execute_result"
    }
   ],
   "source": [
    "type(trafic_class)"
   ]
  },
  {
   "cell_type": "code",
   "execution_count": 14,
   "id": "3712498f-47ea-4e96-83ef-1c40ff1968d6",
   "metadata": {
    "tags": []
   },
   "outputs": [],
   "source": [
    "df = pd.DataFrame(add_result_dict)"
   ]
  },
  {
   "cell_type": "code",
   "execution_count": 15,
   "id": "501694de-28b4-444f-bc68-f67d9efe935a",
   "metadata": {
    "tags": []
   },
   "outputs": [],
   "source": [
    "df['trafic_class'] = list_trafic_class"
   ]
  },
  {
   "cell_type": "code",
   "execution_count": 16,
   "id": "615df891-7ac3-40d8-844b-51c16ac7edd1",
   "metadata": {
    "tags": []
   },
   "outputs": [
    {
     "data": {
      "text/plain": [
       "(17555, 20)"
      ]
     },
     "execution_count": 16,
     "metadata": {},
     "output_type": "execute_result"
    }
   ],
   "source": [
    "#Оставим только аномальный трафик для кластеризации\n",
    "df = df[df['trafic_class'] == 1]\n",
    "df.reset_index(drop=True, inplace=True)\n",
    "df.shape"
   ]
  },
  {
   "cell_type": "code",
   "execution_count": 17,
   "id": "fa1d4f63-c5d1-466e-b67e-6797145a8b65",
   "metadata": {
    "tags": []
   },
   "outputs": [
    {
     "name": "stderr",
     "output_type": "stream",
     "text": [
      "17555it [00:01, 12485.80it/s]\n"
     ]
    }
   ],
   "source": [
    "list_futures = []\n",
    "for idx, rows in tqdm(df.iterrows()):\n",
    "    result_dict = dict(rows)\n",
    "    futures = traffic_preprocess.clusters_create_futures_array(result_dict)\n",
    "    list_futures.append(futures)"
   ]
  },
  {
   "cell_type": "code",
   "execution_count": 18,
   "id": "eb81e5d4-63f7-44a9-a399-f70baf9938de",
   "metadata": {
    "tags": []
   },
   "outputs": [
    {
     "data": {
      "text/html": [
       "<div>\n",
       "<style scoped>\n",
       "    .dataframe tbody tr th:only-of-type {\n",
       "        vertical-align: middle;\n",
       "    }\n",
       "\n",
       "    .dataframe tbody tr th {\n",
       "        vertical-align: top;\n",
       "    }\n",
       "\n",
       "    .dataframe thead th {\n",
       "        text-align: right;\n",
       "    }\n",
       "</style>\n",
       "<table border=\"1\" class=\"dataframe\">\n",
       "  <thead>\n",
       "    <tr style=\"text-align: right;\">\n",
       "      <th></th>\n",
       "      <th>CLIENT_IP</th>\n",
       "      <th>CLIENT_USERAGENT</th>\n",
       "      <th>REQUEST_SIZE</th>\n",
       "      <th>RESPONSE_CODE</th>\n",
       "      <th>MATCHED_VARIABLE_SRC</th>\n",
       "      <th>MATCHED_VARIABLE_NAME</th>\n",
       "      <th>MATCHED_VARIABLE_VALUE</th>\n",
       "      <th>EVENT_ID</th>\n",
       "      <th>RIGHT_CLIENT_IP</th>\n",
       "      <th>preproc_CLIENT_IP_country</th>\n",
       "      <th>preproc_CLIENT_USERAGENT</th>\n",
       "      <th>preproc_REQUEST_SIZE</th>\n",
       "      <th>preproc_RESPONSE_CODE_valid</th>\n",
       "      <th>preproc_RESPONSE_CODE</th>\n",
       "      <th>preproc_MATCHED_VARIABLE_SRC_valid</th>\n",
       "      <th>agent_vector</th>\n",
       "      <th>agent_cluster</th>\n",
       "      <th>matched_var_name</th>\n",
       "      <th>matched_var_value</th>\n",
       "      <th>trafic_class</th>\n",
       "    </tr>\n",
       "  </thead>\n",
       "  <tbody>\n",
       "    <tr>\n",
       "      <th>0</th>\n",
       "      <td>188.138.92.55</td>\n",
       "      <td>NaN</td>\n",
       "      <td>166</td>\n",
       "      <td>404</td>\n",
       "      <td>REQUEST_URI</td>\n",
       "      <td>NaN</td>\n",
       "      <td>//tmp/20160925122692indo.php.vob</td>\n",
       "      <td>AVdhXFgVq1Ppo9zF5Fxu</td>\n",
       "      <td>188.138.92.55</td>\n",
       "      <td>DE</td>\n",
       "      <td>nan</td>\n",
       "      <td>166</td>\n",
       "      <td>True</td>\n",
       "      <td>404</td>\n",
       "      <td>True</td>\n",
       "      <td>(0, 91)\\t1.0</td>\n",
       "      <td>13</td>\n",
       "      <td>[0.0227108, -0.02569362, 0.0186324, 0.02271437...</td>\n",
       "      <td>[0.02438902, -0.05339618, -0.007877337, -0.030...</td>\n",
       "      <td>1</td>\n",
       "    </tr>\n",
       "    <tr>\n",
       "      <th>1</th>\n",
       "      <td>176.123.240.64</td>\n",
       "      <td>Mozilla/5.0 (Windows NT 6.0; rv:34.0) Gecko/20...</td>\n",
       "      <td>395</td>\n",
       "      <td>403</td>\n",
       "      <td>REQUEST_PATH</td>\n",
       "      <td>NaN</td>\n",
       "      <td>/opinion/page1_3.php\\\" and \\\"\\\"x\\\"\\\"=\\\"\\\"x\\\"</td>\n",
       "      <td>iz7SN2YBrgKk_RFNZW_U</td>\n",
       "      <td>176.123.240.64</td>\n",
       "      <td>KG</td>\n",
       "      <td>mozilla/5.0 (windows nt 6.0; rv:34.0) gecko/20...</td>\n",
       "      <td>395</td>\n",
       "      <td>True</td>\n",
       "      <td>403</td>\n",
       "      <td>True</td>\n",
       "      <td>(0, 149)\\t0.2966918534009629\\n  (0, 121)\\t0....</td>\n",
       "      <td>10</td>\n",
       "      <td>[0.0227108, -0.02569362, 0.0186324, 0.02271437...</td>\n",
       "      <td>[0.0007681509, -0.001140485, -0.013785048, -0....</td>\n",
       "      <td>1</td>\n",
       "    </tr>\n",
       "    <tr>\n",
       "      <th>2</th>\n",
       "      <td>79.183.87.247</td>\n",
       "      <td>Mozilla/5.0 (Linux; Android 6.0; LG-H815 Build...</td>\n",
       "      <td>682</td>\n",
       "      <td>404</td>\n",
       "      <td>REQUEST_HEADERS</td>\n",
       "      <td>REQUEST_HEADERS.User-Agent</td>\n",
       "      <td>Mozilla/5.0 (Linux; Android 6.0; LG-H815 Build...</td>\n",
       "      <td>nFzwHGQB5cBXmMW1y_TD</td>\n",
       "      <td>79.183.87.247</td>\n",
       "      <td>IL</td>\n",
       "      <td>mozilla/5.0 (linux; android 6.0; lg-h815 build...</td>\n",
       "      <td>682</td>\n",
       "      <td>True</td>\n",
       "      <td>404</td>\n",
       "      <td>True</td>\n",
       "      <td>(0, 122)\\t0.16717495982469774\\n  (0, 87)\\t0....</td>\n",
       "      <td>3</td>\n",
       "      <td>[-0.010601818, -0.047821425, 0.016080828, -0.0...</td>\n",
       "      <td>[0.011902368, -0.019429851, -0.004136016, -0.0...</td>\n",
       "      <td>1</td>\n",
       "    </tr>\n",
       "  </tbody>\n",
       "</table>\n",
       "</div>"
      ],
      "text/plain": [
       "        CLIENT_IP                                   CLIENT_USERAGENT  \\\n",
       "0   188.138.92.55                                                NaN   \n",
       "1  176.123.240.64  Mozilla/5.0 (Windows NT 6.0; rv:34.0) Gecko/20...   \n",
       "2   79.183.87.247  Mozilla/5.0 (Linux; Android 6.0; LG-H815 Build...   \n",
       "\n",
       "  REQUEST_SIZE RESPONSE_CODE MATCHED_VARIABLE_SRC       MATCHED_VARIABLE_NAME  \\\n",
       "0          166           404          REQUEST_URI                         NaN   \n",
       "1          395           403         REQUEST_PATH                         NaN   \n",
       "2          682           404      REQUEST_HEADERS  REQUEST_HEADERS.User-Agent   \n",
       "\n",
       "                              MATCHED_VARIABLE_VALUE              EVENT_ID  \\\n",
       "0                   //tmp/20160925122692indo.php.vob  AVdhXFgVq1Ppo9zF5Fxu   \n",
       "1       /opinion/page1_3.php\\\" and \\\"\\\"x\\\"\\\"=\\\"\\\"x\\\"  iz7SN2YBrgKk_RFNZW_U   \n",
       "2  Mozilla/5.0 (Linux; Android 6.0; LG-H815 Build...  nFzwHGQB5cBXmMW1y_TD   \n",
       "\n",
       "  RIGHT_CLIENT_IP preproc_CLIENT_IP_country  \\\n",
       "0   188.138.92.55                        DE   \n",
       "1  176.123.240.64                        KG   \n",
       "2   79.183.87.247                        IL   \n",
       "\n",
       "                            preproc_CLIENT_USERAGENT  preproc_REQUEST_SIZE  \\\n",
       "0                                                nan                   166   \n",
       "1  mozilla/5.0 (windows nt 6.0; rv:34.0) gecko/20...                   395   \n",
       "2  mozilla/5.0 (linux; android 6.0; lg-h815 build...                   682   \n",
       "\n",
       "   preproc_RESPONSE_CODE_valid  preproc_RESPONSE_CODE  \\\n",
       "0                         True                    404   \n",
       "1                         True                    403   \n",
       "2                         True                    404   \n",
       "\n",
       "   preproc_MATCHED_VARIABLE_SRC_valid  \\\n",
       "0                                True   \n",
       "1                                True   \n",
       "2                                True   \n",
       "\n",
       "                                        agent_vector  agent_cluster  \\\n",
       "0                                       (0, 91)\\t1.0             13   \n",
       "1    (0, 149)\\t0.2966918534009629\\n  (0, 121)\\t0....             10   \n",
       "2    (0, 122)\\t0.16717495982469774\\n  (0, 87)\\t0....              3   \n",
       "\n",
       "                                    matched_var_name  \\\n",
       "0  [0.0227108, -0.02569362, 0.0186324, 0.02271437...   \n",
       "1  [0.0227108, -0.02569362, 0.0186324, 0.02271437...   \n",
       "2  [-0.010601818, -0.047821425, 0.016080828, -0.0...   \n",
       "\n",
       "                                   matched_var_value  trafic_class  \n",
       "0  [0.02438902, -0.05339618, -0.007877337, -0.030...             1  \n",
       "1  [0.0007681509, -0.001140485, -0.013785048, -0....             1  \n",
       "2  [0.011902368, -0.019429851, -0.004136016, -0.0...             1  "
      ]
     },
     "execution_count": 18,
     "metadata": {},
     "output_type": "execute_result"
    }
   ],
   "source": [
    "df.head(3)"
   ]
  },
  {
   "cell_type": "code",
   "execution_count": 19,
   "id": "43d46b9d-4859-4d01-87f1-40be3fbdb049",
   "metadata": {
    "tags": []
   },
   "outputs": [],
   "source": [
    "def calculate_sse(data, k):\n",
    "    '''\n",
    "    # Функция для вычисления SSE (сумма квадратов ошибок) для заданного количества кластеров\n",
    "    '''\n",
    "    kmeans = cluster.KMeans(n_clusters=k, random_state=0)\n",
    "    kmeans.fit(data)\n",
    "    return kmeans.inertia_"
   ]
  },
  {
   "cell_type": "code",
   "execution_count": 20,
   "id": "6eff00bb-f377-47e8-91e5-c45563ffec64",
   "metadata": {
    "tags": []
   },
   "outputs": [],
   "source": [
    "#Реализация метода локтя для поиска количества кластеров, закоментировано, так как выполняется долго\n",
    "# %%time\n",
    "# # Диапазон значений количества кластеров для проверки\n",
    "# k_values = range(10, 100,10)\n",
    "\n",
    "# # Вычисляем SSE для каждого значения количества кластеров\n",
    "# sse_values = [calculate_sse(list_futures, k) for k in k_values]\n",
    "\n",
    "# # Визуализация значения SSE в зависимости от количества кластеров\n",
    "# plt.plot(k_values, sse_values)\n",
    "# plt.xlabel('Number of clusters')\n",
    "# plt.ylabel('SSE')\n",
    "# plt.show()"
   ]
  },
  {
   "cell_type": "markdown",
   "id": "8023933b-580d-4875-ac24-ce6b36e805a4",
   "metadata": {},
   "source": [
    "### Методом локтя показал примерно 30 кластеров\n",
    "![Кластеризация](images/trafic_clusters_2023-09-11_15-03.png)"
   ]
  },
  {
   "cell_type": "code",
   "execution_count": 21,
   "id": "146d1286-086d-42cd-b5dd-121acff347ce",
   "metadata": {
    "tags": []
   },
   "outputs": [],
   "source": [
    "trafic_kmeans = cluster.KMeans(n_clusters=30, random_state=0)"
   ]
  },
  {
   "cell_type": "code",
   "execution_count": 22,
   "id": "58da5403-e8f7-4f36-935a-8f57ac4f0e9e",
   "metadata": {
    "tags": []
   },
   "outputs": [
    {
     "name": "stderr",
     "output_type": "stream",
     "text": [
      "/home/joefox/.pyvenv/base/lib/python3.9/site-packages/sklearn/cluster/_kmeans.py:1412: FutureWarning: The default value of `n_init` will change from 10 to 'auto' in 1.4. Set the value of `n_init` explicitly to suppress the warning\n",
      "  super()._check_params_vs_input(X, default_n_init=10)\n"
     ]
    },
    {
     "name": "stdout",
     "output_type": "stream",
     "text": [
      "huggingface/tokenizers: The current process just got forked, after parallelism has already been used. Disabling parallelism to avoid deadlocks...\n",
      "To disable this warning, you can either:\n",
      "\t- Avoid using `tokenizers` before the fork if possible\n",
      "\t- Explicitly set the environment variable TOKENIZERS_PARALLELISM=(true | false)\n"
     ]
    },
    {
     "data": {
      "text/html": [
       "<style>#sk-container-id-1 {color: black;}#sk-container-id-1 pre{padding: 0;}#sk-container-id-1 div.sk-toggleable {background-color: white;}#sk-container-id-1 label.sk-toggleable__label {cursor: pointer;display: block;width: 100%;margin-bottom: 0;padding: 0.3em;box-sizing: border-box;text-align: center;}#sk-container-id-1 label.sk-toggleable__label-arrow:before {content: \"▸\";float: left;margin-right: 0.25em;color: #696969;}#sk-container-id-1 label.sk-toggleable__label-arrow:hover:before {color: black;}#sk-container-id-1 div.sk-estimator:hover label.sk-toggleable__label-arrow:before {color: black;}#sk-container-id-1 div.sk-toggleable__content {max-height: 0;max-width: 0;overflow: hidden;text-align: left;background-color: #f0f8ff;}#sk-container-id-1 div.sk-toggleable__content pre {margin: 0.2em;color: black;border-radius: 0.25em;background-color: #f0f8ff;}#sk-container-id-1 input.sk-toggleable__control:checked~div.sk-toggleable__content {max-height: 200px;max-width: 100%;overflow: auto;}#sk-container-id-1 input.sk-toggleable__control:checked~label.sk-toggleable__label-arrow:before {content: \"▾\";}#sk-container-id-1 div.sk-estimator input.sk-toggleable__control:checked~label.sk-toggleable__label {background-color: #d4ebff;}#sk-container-id-1 div.sk-label input.sk-toggleable__control:checked~label.sk-toggleable__label {background-color: #d4ebff;}#sk-container-id-1 input.sk-hidden--visually {border: 0;clip: rect(1px 1px 1px 1px);clip: rect(1px, 1px, 1px, 1px);height: 1px;margin: -1px;overflow: hidden;padding: 0;position: absolute;width: 1px;}#sk-container-id-1 div.sk-estimator {font-family: monospace;background-color: #f0f8ff;border: 1px dotted black;border-radius: 0.25em;box-sizing: border-box;margin-bottom: 0.5em;}#sk-container-id-1 div.sk-estimator:hover {background-color: #d4ebff;}#sk-container-id-1 div.sk-parallel-item::after {content: \"\";width: 100%;border-bottom: 1px solid gray;flex-grow: 1;}#sk-container-id-1 div.sk-label:hover label.sk-toggleable__label {background-color: #d4ebff;}#sk-container-id-1 div.sk-serial::before {content: \"\";position: absolute;border-left: 1px solid gray;box-sizing: border-box;top: 0;bottom: 0;left: 50%;z-index: 0;}#sk-container-id-1 div.sk-serial {display: flex;flex-direction: column;align-items: center;background-color: white;padding-right: 0.2em;padding-left: 0.2em;position: relative;}#sk-container-id-1 div.sk-item {position: relative;z-index: 1;}#sk-container-id-1 div.sk-parallel {display: flex;align-items: stretch;justify-content: center;background-color: white;position: relative;}#sk-container-id-1 div.sk-item::before, #sk-container-id-1 div.sk-parallel-item::before {content: \"\";position: absolute;border-left: 1px solid gray;box-sizing: border-box;top: 0;bottom: 0;left: 50%;z-index: -1;}#sk-container-id-1 div.sk-parallel-item {display: flex;flex-direction: column;z-index: 1;position: relative;background-color: white;}#sk-container-id-1 div.sk-parallel-item:first-child::after {align-self: flex-end;width: 50%;}#sk-container-id-1 div.sk-parallel-item:last-child::after {align-self: flex-start;width: 50%;}#sk-container-id-1 div.sk-parallel-item:only-child::after {width: 0;}#sk-container-id-1 div.sk-dashed-wrapped {border: 1px dashed gray;margin: 0 0.4em 0.5em 0.4em;box-sizing: border-box;padding-bottom: 0.4em;background-color: white;}#sk-container-id-1 div.sk-label label {font-family: monospace;font-weight: bold;display: inline-block;line-height: 1.2em;}#sk-container-id-1 div.sk-label-container {text-align: center;}#sk-container-id-1 div.sk-container {/* jupyter's `normalize.less` sets `[hidden] { display: none; }` but bootstrap.min.css set `[hidden] { display: none !important; }` so we also need the `!important` here to be able to override the default hidden behavior on the sphinx rendered scikit-learn.org. See: https://github.com/scikit-learn/scikit-learn/issues/21755 */display: inline-block !important;position: relative;}#sk-container-id-1 div.sk-text-repr-fallback {display: none;}</style><div id=\"sk-container-id-1\" class=\"sk-top-container\"><div class=\"sk-text-repr-fallback\"><pre>KMeans(n_clusters=30, random_state=0)</pre><b>In a Jupyter environment, please rerun this cell to show the HTML representation or trust the notebook. <br />On GitHub, the HTML representation is unable to render, please try loading this page with nbviewer.org.</b></div><div class=\"sk-container\" hidden><div class=\"sk-item\"><div class=\"sk-estimator sk-toggleable\"><input class=\"sk-toggleable__control sk-hidden--visually\" id=\"sk-estimator-id-1\" type=\"checkbox\" checked><label for=\"sk-estimator-id-1\" class=\"sk-toggleable__label sk-toggleable__label-arrow\">KMeans</label><div class=\"sk-toggleable__content\"><pre>KMeans(n_clusters=30, random_state=0)</pre></div></div></div></div></div>"
      ],
      "text/plain": [
       "KMeans(n_clusters=30, random_state=0)"
      ]
     },
     "execution_count": 22,
     "metadata": {},
     "output_type": "execute_result"
    }
   ],
   "source": [
    "trafic_kmeans.fit(list_futures)"
   ]
  },
  {
   "cell_type": "code",
   "execution_count": 23,
   "id": "24d06662-a0d7-4ec8-b98c-6a102307229f",
   "metadata": {
    "tags": []
   },
   "outputs": [],
   "source": [
    "pickle.dump(trafic_kmeans, open('models/trafic_kmeans_model.pkl', 'wb'))"
   ]
  },
  {
   "cell_type": "code",
   "execution_count": 24,
   "id": "23551dc9-43d0-49d2-b043-5e5d057ac6f6",
   "metadata": {
    "tags": []
   },
   "outputs": [
    {
     "data": {
      "text/plain": [
       "array([24, 24, 24, ...,  0, 24, 18], dtype=int32)"
      ]
     },
     "execution_count": 24,
     "metadata": {},
     "output_type": "execute_result"
    }
   ],
   "source": [
    "trafic_kmeans.labels_"
   ]
  },
  {
   "cell_type": "code",
   "execution_count": 25,
   "id": "fcc0decd-1ba4-4d0b-beb3-4edbad122317",
   "metadata": {
    "tags": []
   },
   "outputs": [],
   "source": [
    "df['trafic_cluster'] = trafic_kmeans.labels_ + 2"
   ]
  },
  {
   "cell_type": "code",
   "execution_count": 26,
   "id": "4a61817e-f636-4728-86fc-f3d8be1f1c0e",
   "metadata": {
    "tags": []
   },
   "outputs": [
    {
     "data": {
      "text/html": [
       "<div>\n",
       "<style scoped>\n",
       "    .dataframe tbody tr th:only-of-type {\n",
       "        vertical-align: middle;\n",
       "    }\n",
       "\n",
       "    .dataframe tbody tr th {\n",
       "        vertical-align: top;\n",
       "    }\n",
       "\n",
       "    .dataframe thead th {\n",
       "        text-align: right;\n",
       "    }\n",
       "</style>\n",
       "<table border=\"1\" class=\"dataframe\">\n",
       "  <thead>\n",
       "    <tr style=\"text-align: right;\">\n",
       "      <th></th>\n",
       "      <th>CLIENT_IP</th>\n",
       "      <th>CLIENT_USERAGENT</th>\n",
       "      <th>REQUEST_SIZE</th>\n",
       "      <th>RESPONSE_CODE</th>\n",
       "      <th>MATCHED_VARIABLE_SRC</th>\n",
       "      <th>MATCHED_VARIABLE_NAME</th>\n",
       "      <th>MATCHED_VARIABLE_VALUE</th>\n",
       "      <th>EVENT_ID</th>\n",
       "      <th>RIGHT_CLIENT_IP</th>\n",
       "      <th>preproc_CLIENT_IP_country</th>\n",
       "      <th>...</th>\n",
       "      <th>preproc_REQUEST_SIZE</th>\n",
       "      <th>preproc_RESPONSE_CODE_valid</th>\n",
       "      <th>preproc_RESPONSE_CODE</th>\n",
       "      <th>preproc_MATCHED_VARIABLE_SRC_valid</th>\n",
       "      <th>agent_vector</th>\n",
       "      <th>agent_cluster</th>\n",
       "      <th>matched_var_name</th>\n",
       "      <th>matched_var_value</th>\n",
       "      <th>trafic_class</th>\n",
       "      <th>trafic_cluster</th>\n",
       "    </tr>\n",
       "  </thead>\n",
       "  <tbody>\n",
       "    <tr>\n",
       "      <th>38</th>\n",
       "      <td>80.82.63.40</td>\n",
       "      <td>Mozilla/5.0 (Windows NT 6.1; Win64; x64) Apple...</td>\n",
       "      <td>57542</td>\n",
       "      <td>403</td>\n",
       "      <td>REQUEST_METHOD\\';\\'REQUEST_CONTE</td>\n",
       "      <td>NaN</td>\n",
       "      <td>POST\\';\\'multipart/form-data; boundary=----Web...</td>\n",
       "      <td>P_h3BGQBjksgoq1e3MzX</td>\n",
       "      <td>80.82.63.40</td>\n",
       "      <td>RU</td>\n",
       "      <td>...</td>\n",
       "      <td>57542</td>\n",
       "      <td>True</td>\n",
       "      <td>403</td>\n",
       "      <td>False</td>\n",
       "      <td>(0, 149)\\t0.336235330920567\\n  (0, 122)\\t0.3...</td>\n",
       "      <td>6</td>\n",
       "      <td>[0.0227108, -0.02569362, 0.0186324, 0.02271437...</td>\n",
       "      <td>[0.02003487, -0.051908743, 0.008781476, -0.036...</td>\n",
       "      <td>1</td>\n",
       "      <td>22</td>\n",
       "    </tr>\n",
       "    <tr>\n",
       "      <th>170</th>\n",
       "      <td>87.117.38.96</td>\n",
       "      <td>Mozilla/5.0 (Windows NT 10.0; Win64; x64) Appl...</td>\n",
       "      <td>52146</td>\n",
       "      <td>200</td>\n",
       "      <td>REQUEST_METHOD\\';\\'REQUEST_CONTE</td>\n",
       "      <td>NaN</td>\n",
       "      <td>POST\\';\\'multipart/form-data; boundary=----Web...</td>\n",
       "      <td>OMXf_mMBjksgoq1eY85M</td>\n",
       "      <td>87.117.38.96</td>\n",
       "      <td>RU</td>\n",
       "      <td>...</td>\n",
       "      <td>52146</td>\n",
       "      <td>True</td>\n",
       "      <td>200</td>\n",
       "      <td>False</td>\n",
       "      <td>(0, 149)\\t0.336235330920567\\n  (0, 122)\\t0.3...</td>\n",
       "      <td>6</td>\n",
       "      <td>[0.0227108, -0.02569362, 0.0186324, 0.02271437...</td>\n",
       "      <td>[0.028715735, -0.05755848, 0.03030021, -0.0320...</td>\n",
       "      <td>1</td>\n",
       "      <td>22</td>\n",
       "    </tr>\n",
       "    <tr>\n",
       "      <th>574</th>\n",
       "      <td>213.219.81.215</td>\n",
       "      <td>Mozilla/5.0 (Macintosh; Intel Mac OS X 10.11; ...</td>\n",
       "      <td>60114</td>\n",
       "      <td>200</td>\n",
       "      <td>REQUEST_XML</td>\n",
       "      <td>REQUEST_XML./font/br/br/br/br/br/br/br/br/br/b...</td>\n",
       "      <td>Kind regards</td>\n",
       "      <td>t8f3_mMBjksgoq1eA2u9</td>\n",
       "      <td>213.219.81.215</td>\n",
       "      <td>EE</td>\n",
       "      <td>...</td>\n",
       "      <td>60114</td>\n",
       "      <td>True</td>\n",
       "      <td>200</td>\n",
       "      <td>True</td>\n",
       "      <td>(0, 153)\\t0.3420667488772841\\n  (0, 121)\\t0....</td>\n",
       "      <td>9</td>\n",
       "      <td>[0.033321343, 0.014193869, -0.039755046, -0.03...</td>\n",
       "      <td>[0.038312573, -0.029420255, -0.026229883, 0.03...</td>\n",
       "      <td>1</td>\n",
       "      <td>22</td>\n",
       "    </tr>\n",
       "    <tr>\n",
       "      <th>1646</th>\n",
       "      <td>87.117.26.84</td>\n",
       "      <td>Mozilla/5.0 (Windows NT 6.1; WOW64) AppleWebKi...</td>\n",
       "      <td>55354</td>\n",
       "      <td>200</td>\n",
       "      <td>REQUEST_METHOD\\';\\'REQUEST_CONTE</td>\n",
       "      <td>NaN</td>\n",
       "      <td>POST\\';\\'multipart/form-data; boundary=----Web...</td>\n",
       "      <td>Lsfy_mMBjksgoq1ejA8t</td>\n",
       "      <td>87.117.26.84</td>\n",
       "      <td>RU</td>\n",
       "      <td>...</td>\n",
       "      <td>55354</td>\n",
       "      <td>True</td>\n",
       "      <td>200</td>\n",
       "      <td>False</td>\n",
       "      <td>(0, 149)\\t0.336235330920567\\n  (0, 122)\\t0.3...</td>\n",
       "      <td>6</td>\n",
       "      <td>[0.0227108, -0.02569362, 0.0186324, 0.02271437...</td>\n",
       "      <td>[0.029849088, -0.05569985, 0.032137148, -0.039...</td>\n",
       "      <td>1</td>\n",
       "      <td>22</td>\n",
       "    </tr>\n",
       "    <tr>\n",
       "      <th>1781</th>\n",
       "      <td>77.234.92.162</td>\n",
       "      <td>Mozilla/5.0 (Windows NT 10.0; Win64; x64) Appl...</td>\n",
       "      <td>46580</td>\n",
       "      <td>400</td>\n",
       "      <td>REQUEST_PATH</td>\n",
       "      <td>REQUEST_PATH</td>\n",
       "      <td>/mail/bud/pkin.nsf/($Drafts)/5893E88D5B0A73264...</td>\n",
       "      <td>0MK7_mMBjksgoq1e-ePL</td>\n",
       "      <td>77.234.92.162</td>\n",
       "      <td>HU</td>\n",
       "      <td>...</td>\n",
       "      <td>46580</td>\n",
       "      <td>True</td>\n",
       "      <td>400</td>\n",
       "      <td>True</td>\n",
       "      <td>(0, 149)\\t0.336235330920567\\n  (0, 122)\\t0.3...</td>\n",
       "      <td>6</td>\n",
       "      <td>[0.025891421, -0.018017475, 0.0048930054, 0.01...</td>\n",
       "      <td>[-0.016689485, -0.07626411, -0.013808313, -0.0...</td>\n",
       "      <td>1</td>\n",
       "      <td>22</td>\n",
       "    </tr>\n",
       "    <tr>\n",
       "      <th>...</th>\n",
       "      <td>...</td>\n",
       "      <td>...</td>\n",
       "      <td>...</td>\n",
       "      <td>...</td>\n",
       "      <td>...</td>\n",
       "      <td>...</td>\n",
       "      <td>...</td>\n",
       "      <td>...</td>\n",
       "      <td>...</td>\n",
       "      <td>...</td>\n",
       "      <td>...</td>\n",
       "      <td>...</td>\n",
       "      <td>...</td>\n",
       "      <td>...</td>\n",
       "      <td>...</td>\n",
       "      <td>...</td>\n",
       "      <td>...</td>\n",
       "      <td>...</td>\n",
       "      <td>...</td>\n",
       "      <td>...</td>\n",
       "      <td>...</td>\n",
       "    </tr>\n",
       "    <tr>\n",
       "      <th>15715</th>\n",
       "      <td>188.43.52.163</td>\n",
       "      <td>curl/7.22.0 (i686-pc-linux-gnu) libcurl/7.22.0...</td>\n",
       "      <td>62819</td>\n",
       "      <td>200</td>\n",
       "      <td>REQUEST_ARGS_KEYS</td>\n",
       "      <td>M{5¯ۯ\u001aXµ\u000b",
       "\b#©نFî&gt;R\u0003·8çp\u000b",
       "P\u0007ϟðêóóÿ</td>\n",
       "      <td>M{5¯ۯ\u001aXµ\u000b",
       "\b#©نFî&gt;R\u0003·8çp\u000b",
       "P\u0007ϟðêóóÿ</td>\n",
       "      <td>AVdj4JPiq1Ppo9zF6e_6</td>\n",
       "      <td>188.43.52.163</td>\n",
       "      <td>RU</td>\n",
       "      <td>...</td>\n",
       "      <td>62819</td>\n",
       "      <td>True</td>\n",
       "      <td>200</td>\n",
       "      <td>True</td>\n",
       "      <td>(0, 161)\\t0.3525892577111039\\n  (0, 106)\\t0....</td>\n",
       "      <td>18</td>\n",
       "      <td>[0.041661818, 0.017217504, -0.009976071, -0.01...</td>\n",
       "      <td>[0.041661818, 0.017217504, -0.009976071, -0.01...</td>\n",
       "      <td>1</td>\n",
       "      <td>22</td>\n",
       "    </tr>\n",
       "    <tr>\n",
       "      <th>16000</th>\n",
       "      <td>109.252.87.245</td>\n",
       "      <td>Mozilla/5.0 (Windows NT 10.0; WOW64; rv:49.0) ...</td>\n",
       "      <td>50988</td>\n",
       "      <td>200</td>\n",
       "      <td>REQUEST_POST_ARGS</td>\n",
       "      <td>tv35</td>\n",
       "      <td>&lt;p style=\"text-align: center;\"&gt;&lt;strong&gt;&lt;em&gt;&lt;sp...</td>\n",
       "      <td>AVdYSfZWq1Ppo9zF0TlK</td>\n",
       "      <td>109.252.87.245</td>\n",
       "      <td>RU</td>\n",
       "      <td>...</td>\n",
       "      <td>50988</td>\n",
       "      <td>True</td>\n",
       "      <td>200</td>\n",
       "      <td>True</td>\n",
       "      <td>(0, 149)\\t0.2966918534009629\\n  (0, 121)\\t0....</td>\n",
       "      <td>10</td>\n",
       "      <td>[0.019111095, -0.039343804, -0.0069465227, 0.0...</td>\n",
       "      <td>[0.0043054847, -0.01418118, -0.012153769, -0.0...</td>\n",
       "      <td>1</td>\n",
       "      <td>22</td>\n",
       "    </tr>\n",
       "    <tr>\n",
       "      <th>16104</th>\n",
       "      <td>195.200.245.88</td>\n",
       "      <td>Mozilla/5.0 (Windows NT 6.1; WOW64) AppleWebKi...</td>\n",
       "      <td>42197</td>\n",
       "      <td>405</td>\n",
       "      <td>REQUEST_METHOD\\';\\'REQUEST_CONTE</td>\n",
       "      <td>NaN</td>\n",
       "      <td>POST\\';\\'multipart/form-data; boundary=-------...</td>\n",
       "      <td>hM0__2MBjksgoq1eTDE7</td>\n",
       "      <td>195.200.245.88</td>\n",
       "      <td>UA</td>\n",
       "      <td>...</td>\n",
       "      <td>42197</td>\n",
       "      <td>True</td>\n",
       "      <td>405</td>\n",
       "      <td>False</td>\n",
       "      <td>(0, 149)\\t0.336235330920567\\n  (0, 122)\\t0.3...</td>\n",
       "      <td>6</td>\n",
       "      <td>[0.0227108, -0.02569362, 0.0186324, 0.02271437...</td>\n",
       "      <td>[0.012512429, -0.047556367, 0.0032810648, -0.0...</td>\n",
       "      <td>1</td>\n",
       "      <td>22</td>\n",
       "    </tr>\n",
       "    <tr>\n",
       "      <th>17050</th>\n",
       "      <td>93.189.114.202</td>\n",
       "      <td>Mozilla/5.0 (Windows NT 10.0; Win64; x64) Appl...</td>\n",
       "      <td>53269</td>\n",
       "      <td>400</td>\n",
       "      <td>REQUEST_POST_ARGS</td>\n",
       "      <td>REQUEST_POST_ARGS.h_PageText</td>\n",
       "      <td>RE: FW: Reconciliations assets   Dear Alexandr...</td>\n",
       "      <td>bMK8_mMBjksgoq1ej-9R</td>\n",
       "      <td>93.189.114.202</td>\n",
       "      <td>HU</td>\n",
       "      <td>...</td>\n",
       "      <td>53269</td>\n",
       "      <td>True</td>\n",
       "      <td>400</td>\n",
       "      <td>True</td>\n",
       "      <td>(0, 149)\\t0.336235330920567\\n  (0, 122)\\t0.3...</td>\n",
       "      <td>6</td>\n",
       "      <td>[-0.00863258, -0.02879528, -0.0025003578, -0.0...</td>\n",
       "      <td>[-0.020162715, -0.07685178, -0.03981817, -0.01...</td>\n",
       "      <td>1</td>\n",
       "      <td>22</td>\n",
       "    </tr>\n",
       "    <tr>\n",
       "      <th>17511</th>\n",
       "      <td>77.91.198.57</td>\n",
       "      <td>Mozilla/5.0 (Windows NT 10.0; WOW64) AppleWebK...</td>\n",
       "      <td>47066</td>\n",
       "      <td>302</td>\n",
       "      <td>REQUEST_POST_ARGS</td>\n",
       "      <td>brief_description_ru</td>\n",
       "      <td>&lt;p&gt;Настенная сплит-система премиум класса инве...</td>\n",
       "      <td>AVdiogqAq1Ppo9zF54Lq</td>\n",
       "      <td>77.91.198.57</td>\n",
       "      <td>RU</td>\n",
       "      <td>...</td>\n",
       "      <td>47066</td>\n",
       "      <td>True</td>\n",
       "      <td>302</td>\n",
       "      <td>True</td>\n",
       "      <td>(0, 158)\\t0.5485179548588307\\n  (0, 154)\\t0....</td>\n",
       "      <td>0</td>\n",
       "      <td>[0.0033093272, -0.015713802, 0.041371156, -0.0...</td>\n",
       "      <td>[-0.0025192373, -0.072048776, -0.071931124, -0...</td>\n",
       "      <td>1</td>\n",
       "      <td>22</td>\n",
       "    </tr>\n",
       "  </tbody>\n",
       "</table>\n",
       "<p>72 rows × 21 columns</p>\n",
       "</div>"
      ],
      "text/plain": [
       "            CLIENT_IP                                   CLIENT_USERAGENT  \\\n",
       "38        80.82.63.40  Mozilla/5.0 (Windows NT 6.1; Win64; x64) Apple...   \n",
       "170      87.117.38.96  Mozilla/5.0 (Windows NT 10.0; Win64; x64) Appl...   \n",
       "574    213.219.81.215  Mozilla/5.0 (Macintosh; Intel Mac OS X 10.11; ...   \n",
       "1646     87.117.26.84  Mozilla/5.0 (Windows NT 6.1; WOW64) AppleWebKi...   \n",
       "1781    77.234.92.162  Mozilla/5.0 (Windows NT 10.0; Win64; x64) Appl...   \n",
       "...               ...                                                ...   \n",
       "15715   188.43.52.163  curl/7.22.0 (i686-pc-linux-gnu) libcurl/7.22.0...   \n",
       "16000  109.252.87.245  Mozilla/5.0 (Windows NT 10.0; WOW64; rv:49.0) ...   \n",
       "16104  195.200.245.88  Mozilla/5.0 (Windows NT 6.1; WOW64) AppleWebKi...   \n",
       "17050  93.189.114.202  Mozilla/5.0 (Windows NT 10.0; Win64; x64) Appl...   \n",
       "17511    77.91.198.57  Mozilla/5.0 (Windows NT 10.0; WOW64) AppleWebK...   \n",
       "\n",
       "      REQUEST_SIZE RESPONSE_CODE              MATCHED_VARIABLE_SRC  \\\n",
       "38           57542           403  REQUEST_METHOD\\';\\'REQUEST_CONTE   \n",
       "170          52146           200  REQUEST_METHOD\\';\\'REQUEST_CONTE   \n",
       "574          60114           200                       REQUEST_XML   \n",
       "1646         55354           200  REQUEST_METHOD\\';\\'REQUEST_CONTE   \n",
       "1781         46580           400                      REQUEST_PATH   \n",
       "...            ...           ...                               ...   \n",
       "15715        62819           200                 REQUEST_ARGS_KEYS   \n",
       "16000        50988           200                 REQUEST_POST_ARGS   \n",
       "16104        42197           405  REQUEST_METHOD\\';\\'REQUEST_CONTE   \n",
       "17050        53269           400                 REQUEST_POST_ARGS   \n",
       "17511        47066           302                 REQUEST_POST_ARGS   \n",
       "\n",
       "                                   MATCHED_VARIABLE_NAME  \\\n",
       "38                                                   NaN   \n",
       "170                                                  NaN   \n",
       "574    REQUEST_XML./font/br/br/br/br/br/br/br/br/br/b...   \n",
       "1646                                                 NaN   \n",
       "1781                                        REQUEST_PATH   \n",
       "...                                                  ...   \n",
       "15715                M{5¯ۯ\u001aXµ\n",
       "\b#©نFî>R\u0003·8çp\n",
       "P\u0007ϟðêóóÿ   \n",
       "16000                                               tv35   \n",
       "16104                                                NaN   \n",
       "17050                       REQUEST_POST_ARGS.h_PageText   \n",
       "17511                               brief_description_ru   \n",
       "\n",
       "                                  MATCHED_VARIABLE_VALUE  \\\n",
       "38     POST\\';\\'multipart/form-data; boundary=----Web...   \n",
       "170    POST\\';\\'multipart/form-data; boundary=----Web...   \n",
       "574                                         Kind regards   \n",
       "1646   POST\\';\\'multipart/form-data; boundary=----Web...   \n",
       "1781   /mail/bud/pkin.nsf/($Drafts)/5893E88D5B0A73264...   \n",
       "...                                                  ...   \n",
       "15715                M{5¯ۯ\u001aXµ\n",
       "\b#©نFî>R\u0003·8çp\n",
       "P\u0007ϟðêóóÿ   \n",
       "16000  <p style=\"text-align: center;\"><strong><em><sp...   \n",
       "16104  POST\\';\\'multipart/form-data; boundary=-------...   \n",
       "17050  RE: FW: Reconciliations assets   Dear Alexandr...   \n",
       "17511  <p>Настенная сплит-система премиум класса инве...   \n",
       "\n",
       "                   EVENT_ID RIGHT_CLIENT_IP preproc_CLIENT_IP_country  ...  \\\n",
       "38     P_h3BGQBjksgoq1e3MzX     80.82.63.40                        RU  ...   \n",
       "170    OMXf_mMBjksgoq1eY85M    87.117.38.96                        RU  ...   \n",
       "574    t8f3_mMBjksgoq1eA2u9  213.219.81.215                        EE  ...   \n",
       "1646   Lsfy_mMBjksgoq1ejA8t    87.117.26.84                        RU  ...   \n",
       "1781   0MK7_mMBjksgoq1e-ePL   77.234.92.162                        HU  ...   \n",
       "...                     ...             ...                       ...  ...   \n",
       "15715  AVdj4JPiq1Ppo9zF6e_6   188.43.52.163                        RU  ...   \n",
       "16000  AVdYSfZWq1Ppo9zF0TlK  109.252.87.245                        RU  ...   \n",
       "16104  hM0__2MBjksgoq1eTDE7  195.200.245.88                        UA  ...   \n",
       "17050  bMK8_mMBjksgoq1ej-9R  93.189.114.202                        HU  ...   \n",
       "17511  AVdiogqAq1Ppo9zF54Lq    77.91.198.57                        RU  ...   \n",
       "\n",
       "      preproc_REQUEST_SIZE  preproc_RESPONSE_CODE_valid  \\\n",
       "38                   57542                         True   \n",
       "170                  52146                         True   \n",
       "574                  60114                         True   \n",
       "1646                 55354                         True   \n",
       "1781                 46580                         True   \n",
       "...                    ...                          ...   \n",
       "15715                62819                         True   \n",
       "16000                50988                         True   \n",
       "16104                42197                         True   \n",
       "17050                53269                         True   \n",
       "17511                47066                         True   \n",
       "\n",
       "       preproc_RESPONSE_CODE  preproc_MATCHED_VARIABLE_SRC_valid  \\\n",
       "38                       403                               False   \n",
       "170                      200                               False   \n",
       "574                      200                                True   \n",
       "1646                     200                               False   \n",
       "1781                     400                                True   \n",
       "...                      ...                                 ...   \n",
       "15715                    200                                True   \n",
       "16000                    200                                True   \n",
       "16104                    405                               False   \n",
       "17050                    400                                True   \n",
       "17511                    302                                True   \n",
       "\n",
       "                                            agent_vector agent_cluster  \\\n",
       "38       (0, 149)\\t0.336235330920567\\n  (0, 122)\\t0.3...             6   \n",
       "170      (0, 149)\\t0.336235330920567\\n  (0, 122)\\t0.3...             6   \n",
       "574      (0, 153)\\t0.3420667488772841\\n  (0, 121)\\t0....             9   \n",
       "1646     (0, 149)\\t0.336235330920567\\n  (0, 122)\\t0.3...             6   \n",
       "1781     (0, 149)\\t0.336235330920567\\n  (0, 122)\\t0.3...             6   \n",
       "...                                                  ...           ...   \n",
       "15715    (0, 161)\\t0.3525892577111039\\n  (0, 106)\\t0....            18   \n",
       "16000    (0, 149)\\t0.2966918534009629\\n  (0, 121)\\t0....            10   \n",
       "16104    (0, 149)\\t0.336235330920567\\n  (0, 122)\\t0.3...             6   \n",
       "17050    (0, 149)\\t0.336235330920567\\n  (0, 122)\\t0.3...             6   \n",
       "17511    (0, 158)\\t0.5485179548588307\\n  (0, 154)\\t0....             0   \n",
       "\n",
       "                                        matched_var_name  \\\n",
       "38     [0.0227108, -0.02569362, 0.0186324, 0.02271437...   \n",
       "170    [0.0227108, -0.02569362, 0.0186324, 0.02271437...   \n",
       "574    [0.033321343, 0.014193869, -0.039755046, -0.03...   \n",
       "1646   [0.0227108, -0.02569362, 0.0186324, 0.02271437...   \n",
       "1781   [0.025891421, -0.018017475, 0.0048930054, 0.01...   \n",
       "...                                                  ...   \n",
       "15715  [0.041661818, 0.017217504, -0.009976071, -0.01...   \n",
       "16000  [0.019111095, -0.039343804, -0.0069465227, 0.0...   \n",
       "16104  [0.0227108, -0.02569362, 0.0186324, 0.02271437...   \n",
       "17050  [-0.00863258, -0.02879528, -0.0025003578, -0.0...   \n",
       "17511  [0.0033093272, -0.015713802, 0.041371156, -0.0...   \n",
       "\n",
       "                                       matched_var_value trafic_class  \\\n",
       "38     [0.02003487, -0.051908743, 0.008781476, -0.036...            1   \n",
       "170    [0.028715735, -0.05755848, 0.03030021, -0.0320...            1   \n",
       "574    [0.038312573, -0.029420255, -0.026229883, 0.03...            1   \n",
       "1646   [0.029849088, -0.05569985, 0.032137148, -0.039...            1   \n",
       "1781   [-0.016689485, -0.07626411, -0.013808313, -0.0...            1   \n",
       "...                                                  ...          ...   \n",
       "15715  [0.041661818, 0.017217504, -0.009976071, -0.01...            1   \n",
       "16000  [0.0043054847, -0.01418118, -0.012153769, -0.0...            1   \n",
       "16104  [0.012512429, -0.047556367, 0.0032810648, -0.0...            1   \n",
       "17050  [-0.020162715, -0.07685178, -0.03981817, -0.01...            1   \n",
       "17511  [-0.0025192373, -0.072048776, -0.071931124, -0...            1   \n",
       "\n",
       "       trafic_cluster  \n",
       "38                 22  \n",
       "170                22  \n",
       "574                22  \n",
       "1646               22  \n",
       "1781               22  \n",
       "...               ...  \n",
       "15715              22  \n",
       "16000              22  \n",
       "16104              22  \n",
       "17050              22  \n",
       "17511              22  \n",
       "\n",
       "[72 rows x 21 columns]"
      ]
     },
     "execution_count": 26,
     "metadata": {},
     "output_type": "execute_result"
    }
   ],
   "source": [
    "df[df['trafic_cluster'] == 22]"
   ]
  },
  {
   "cell_type": "code",
   "execution_count": null,
   "id": "710db4e4-e18d-46dc-8e72-e1458d1e544a",
   "metadata": {},
   "outputs": [],
   "source": []
  }
 ],
 "metadata": {
  "kernelspec": {
   "display_name": "Python 3 (ipykernel)",
   "language": "python",
   "name": "python3"
  },
  "language_info": {
   "codemirror_mode": {
    "name": "ipython",
    "version": 3
   },
   "file_extension": ".py",
   "mimetype": "text/x-python",
   "name": "python",
   "nbconvert_exporter": "python",
   "pygments_lexer": "ipython3",
   "version": "3.9.5"
  }
 },
 "nbformat": 4,
 "nbformat_minor": 5
}
