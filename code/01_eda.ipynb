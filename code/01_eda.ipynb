{
 "cells": [
  {
   "cell_type": "markdown",
   "id": "a3cea556-0f82-4f65-a663-6c9f9771687c",
   "metadata": {},
   "source": [
    "# Этап 01 Анализ данных"
   ]
  },
  {
   "cell_type": "code",
   "execution_count": 1,
   "id": "b869f06b-297d-40b3-93a1-9f33d52622f7",
   "metadata": {
    "tags": []
   },
   "outputs": [],
   "source": [
    "# !pip install pysxgeo\n",
    "# !pip install scikit-learn\n",
    "# !pip install transformers\n",
    "# !pip install fastapi\n",
    "# !pip install pydantic\n",
    "# !pip install \"uvicorn[standard]\""
   ]
  },
  {
   "cell_type": "code",
   "execution_count": 2,
   "id": "0b010b3e-1588-4be1-9aa7-ca6d8294cf24",
   "metadata": {
    "tags": []
   },
   "outputs": [
    {
     "name": "stderr",
     "output_type": "stream",
     "text": [
      "/home/joefox/.pyvenv/base/lib/python3.9/site-packages/tqdm/auto.py:21: TqdmWarning: IProgress not found. Please update jupyter and ipywidgets. See https://ipywidgets.readthedocs.io/en/stable/user_install.html\n",
      "  from .autonotebook import tqdm as notebook_tqdm\n"
     ]
    }
   ],
   "source": [
    "import re\n",
    "import numpy as np\n",
    "import pandas as pd\n",
    "from sklearn.feature_extraction import text\n",
    "from sklearn import cluster\n",
    "import matplotlib.pyplot as plt\n",
    "from sklearn import decomposition\n",
    "from sklearn import manifold\n",
    "from tqdm.auto import tqdm"
   ]
  },
  {
   "cell_type": "code",
   "execution_count": 3,
   "id": "9e69afbb-da8a-4edf-a274-d6663888efe9",
   "metadata": {
    "tags": []
   },
   "outputs": [],
   "source": [
    "tqdm.pandas()"
   ]
  },
  {
   "cell_type": "code",
   "execution_count": 4,
   "id": "59862e68-3c0b-42d8-b6c6-83d93ba3d23b",
   "metadata": {
    "tags": []
   },
   "outputs": [],
   "source": [
    "from src.preprocess import TrafficPreprocess"
   ]
  },
  {
   "cell_type": "code",
   "execution_count": 5,
   "id": "9f414362-099b-4321-be68-b593bf5d2aa7",
   "metadata": {
    "tags": []
   },
   "outputs": [],
   "source": [
    "traffic_preprocess = TrafficPreprocess()"
   ]
  },
  {
   "cell_type": "code",
   "execution_count": 6,
   "id": "2e923a24-9c71-47ed-9db8-a8770b5eda97",
   "metadata": {
    "tags": []
   },
   "outputs": [],
   "source": [
    "df = pd.read_csv('data/part_10.csv.gz',compression='gzip')"
   ]
  },
  {
   "cell_type": "code",
   "execution_count": 7,
   "id": "7211d501-0ba0-496f-8893-6dc088459de1",
   "metadata": {},
   "outputs": [],
   "source": [
    "df = df[:1000]"
   ]
  },
  {
   "cell_type": "code",
   "execution_count": 8,
   "id": "6b07dbb8-ce87-4d81-bc04-c7ba0ec001ed",
   "metadata": {
    "tags": []
   },
   "outputs": [
    {
     "data": {
      "text/html": [
       "<div>\n",
       "<style scoped>\n",
       "    .dataframe tbody tr th:only-of-type {\n",
       "        vertical-align: middle;\n",
       "    }\n",
       "\n",
       "    .dataframe tbody tr th {\n",
       "        vertical-align: top;\n",
       "    }\n",
       "\n",
       "    .dataframe thead th {\n",
       "        text-align: right;\n",
       "    }\n",
       "</style>\n",
       "<table border=\"1\" class=\"dataframe\">\n",
       "  <thead>\n",
       "    <tr style=\"text-align: right;\">\n",
       "      <th></th>\n",
       "      <th>CLIENT_IP</th>\n",
       "      <th>CLIENT_USERAGENT</th>\n",
       "      <th>REQUEST_SIZE</th>\n",
       "      <th>RESPONSE_CODE</th>\n",
       "      <th>MATCHED_VARIABLE_SRC</th>\n",
       "      <th>MATCHED_VARIABLE_NAME</th>\n",
       "      <th>MATCHED_VARIABLE_VALUE</th>\n",
       "      <th>EVENT_ID</th>\n",
       "    </tr>\n",
       "  </thead>\n",
       "  <tbody>\n",
       "    <tr>\n",
       "      <th>0</th>\n",
       "      <td>188.138.92.55</td>\n",
       "      <td>NaN</td>\n",
       "      <td>166</td>\n",
       "      <td>404</td>\n",
       "      <td>REQUEST_URI</td>\n",
       "      <td>NaN</td>\n",
       "      <td>//tmp/20160925122692indo.php.vob</td>\n",
       "      <td>AVdhXFgVq1Ppo9zF5Fxu</td>\n",
       "    </tr>\n",
       "    <tr>\n",
       "      <th>1</th>\n",
       "      <td>93.158.215.131</td>\n",
       "      <td>Mozilla/5.0 (Windows NT 6.3; WOW64; rv:45.0) G...</td>\n",
       "      <td>431</td>\n",
       "      <td>302</td>\n",
       "      <td>REQUEST_GET_ARGS</td>\n",
       "      <td>url</td>\n",
       "      <td>http://www.galitsios.gr/?option=com_k2</td>\n",
       "      <td>AVdcJmIIq1Ppo9zF2YIp</td>\n",
       "    </tr>\n",
       "    <tr>\n",
       "      <th>2</th>\n",
       "      <td>176.123.240.64</td>\n",
       "      <td>Mozilla/5.0 (Windows NT 6.0; rv:34.0) Gecko/20...</td>\n",
       "      <td>395</td>\n",
       "      <td>403</td>\n",
       "      <td>REQUEST_PATH</td>\n",
       "      <td>NaN</td>\n",
       "      <td>/opinion/page1_3.php\\\" and \\\"\\\"x\\\"\\\"=\\\"\\\"x\\\"</td>\n",
       "      <td>iz7SN2YBrgKk_RFNZW_U</td>\n",
       "    </tr>\n",
       "    <tr>\n",
       "      <th>3</th>\n",
       "      <td>73.78.81.63</td>\n",
       "      <td>Mozilla/5.0 (Windows NT 6.3; WOW64; rv:45.0) G...</td>\n",
       "      <td>387</td>\n",
       "      <td>302</td>\n",
       "      <td>REQUEST_GET_ARGS</td>\n",
       "      <td>url</td>\n",
       "      <td>http://thereviewgroup.org/boss-capital/</td>\n",
       "      <td>AVdjekw4q1Ppo9zF6QT2</td>\n",
       "    </tr>\n",
       "    <tr>\n",
       "      <th>4</th>\n",
       "      <td>66.102.9.44</td>\n",
       "      <td>Mozilla/5.0 (Linux; Android 4.4.2; GT-N7100 Bu...</td>\n",
       "      <td>1733</td>\n",
       "      <td>404</td>\n",
       "      <td>REQUEST_GET_ARGS</td>\n",
       "      <td>REQUEST_GET_ARGS._</td>\n",
       "      <td>1516288084140</td>\n",
       "      <td>SqQGI2QB5cBXmMW1CDbp</td>\n",
       "    </tr>\n",
       "    <tr>\n",
       "      <th>...</th>\n",
       "      <td>...</td>\n",
       "      <td>...</td>\n",
       "      <td>...</td>\n",
       "      <td>...</td>\n",
       "      <td>...</td>\n",
       "      <td>...</td>\n",
       "      <td>...</td>\n",
       "      <td>...</td>\n",
       "    </tr>\n",
       "    <tr>\n",
       "      <th>995</th>\n",
       "      <td>37.46.129.136</td>\n",
       "      <td>User-Agent: Mozilla/5.0 (Windows NT 10.0; WOW6...</td>\n",
       "      <td>772</td>\n",
       "      <td>200</td>\n",
       "      <td>REQUEST_POST_ARGS</td>\n",
       "      <td>REQUEST_POST_ARGS.rid</td>\n",
       "      <td>3553370207</td>\n",
       "      <td>yY4nIWQB5cBXmMW1dQxC</td>\n",
       "    </tr>\n",
       "    <tr>\n",
       "      <th>996</th>\n",
       "      <td>83.220.239.206</td>\n",
       "      <td>Mozilla/5.0 (iPhone; CPU iPhone OS 10_2 like M...</td>\n",
       "      <td>966</td>\n",
       "      <td>404</td>\n",
       "      <td>REQUEST_GET_ARGS</td>\n",
       "      <td>REQUEST_GET_ARGS._</td>\n",
       "      <td>1516232259174</td>\n",
       "      <td>zYwHIWQB5cBXmMW1Fob5</td>\n",
       "    </tr>\n",
       "    <tr>\n",
       "      <th>997</th>\n",
       "      <td>217.175.140.69</td>\n",
       "      <td>Mozilla/5.0 (Windows NT 6.1; WOW64; Trident/7....</td>\n",
       "      <td>3006</td>\n",
       "      <td>200</td>\n",
       "      <td>RESPONSE_HEADERS</td>\n",
       "      <td>RESPONSE_HEADERS.AN-X-Request-Uuid</td>\n",
       "      <td>4b8666d5-746b-4b35-a70b-b0a9b9febcd0</td>\n",
       "      <td>VHhkH2QB5cBXmMW1Z29a</td>\n",
       "    </tr>\n",
       "    <tr>\n",
       "      <th>998</th>\n",
       "      <td>217.175.155.56</td>\n",
       "      <td>Mozilla/5.0 (iPad; CPU OS 11_2_2 like Mac OS X...</td>\n",
       "      <td>529</td>\n",
       "      <td>304</td>\n",
       "      <td>REQUEST_HEADERS</td>\n",
       "      <td>REQUEST_HEADERS.If-None-Match</td>\n",
       "      <td>\\\"5a64b7a5-3bbc\\\"</td>\n",
       "      <td>9nmGH2QB5cBXmMW1KfMS</td>\n",
       "    </tr>\n",
       "    <tr>\n",
       "      <th>999</th>\n",
       "      <td>90.151.92.50</td>\n",
       "      <td>Mozilla/5.0 (Linux; Android 4.4.2; Spark 2 Bui...</td>\n",
       "      <td>877</td>\n",
       "      <td>404</td>\n",
       "      <td>REQUEST_HEADERS</td>\n",
       "      <td>REQUEST_HEADERS.User-Agent</td>\n",
       "      <td>Mozilla/5.0 (Linux; Android 4.4.2; Spark 2 Bui...</td>\n",
       "      <td>A4RnIGQB5cBXmMW1E91H</td>\n",
       "    </tr>\n",
       "  </tbody>\n",
       "</table>\n",
       "<p>1000 rows × 8 columns</p>\n",
       "</div>"
      ],
      "text/plain": [
       "          CLIENT_IP                                   CLIENT_USERAGENT  \\\n",
       "0     188.138.92.55                                                NaN   \n",
       "1    93.158.215.131  Mozilla/5.0 (Windows NT 6.3; WOW64; rv:45.0) G...   \n",
       "2    176.123.240.64  Mozilla/5.0 (Windows NT 6.0; rv:34.0) Gecko/20...   \n",
       "3       73.78.81.63  Mozilla/5.0 (Windows NT 6.3; WOW64; rv:45.0) G...   \n",
       "4       66.102.9.44  Mozilla/5.0 (Linux; Android 4.4.2; GT-N7100 Bu...   \n",
       "..              ...                                                ...   \n",
       "995   37.46.129.136  User-Agent: Mozilla/5.0 (Windows NT 10.0; WOW6...   \n",
       "996  83.220.239.206  Mozilla/5.0 (iPhone; CPU iPhone OS 10_2 like M...   \n",
       "997  217.175.140.69  Mozilla/5.0 (Windows NT 6.1; WOW64; Trident/7....   \n",
       "998  217.175.155.56  Mozilla/5.0 (iPad; CPU OS 11_2_2 like Mac OS X...   \n",
       "999    90.151.92.50  Mozilla/5.0 (Linux; Android 4.4.2; Spark 2 Bui...   \n",
       "\n",
       "    REQUEST_SIZE RESPONSE_CODE MATCHED_VARIABLE_SRC  \\\n",
       "0            166           404          REQUEST_URI   \n",
       "1            431           302     REQUEST_GET_ARGS   \n",
       "2            395           403         REQUEST_PATH   \n",
       "3            387           302     REQUEST_GET_ARGS   \n",
       "4           1733           404     REQUEST_GET_ARGS   \n",
       "..           ...           ...                  ...   \n",
       "995          772           200    REQUEST_POST_ARGS   \n",
       "996          966           404     REQUEST_GET_ARGS   \n",
       "997         3006           200     RESPONSE_HEADERS   \n",
       "998          529           304      REQUEST_HEADERS   \n",
       "999          877           404      REQUEST_HEADERS   \n",
       "\n",
       "                  MATCHED_VARIABLE_NAME  \\\n",
       "0                                   NaN   \n",
       "1                                   url   \n",
       "2                                   NaN   \n",
       "3                                   url   \n",
       "4                    REQUEST_GET_ARGS._   \n",
       "..                                  ...   \n",
       "995               REQUEST_POST_ARGS.rid   \n",
       "996                  REQUEST_GET_ARGS._   \n",
       "997  RESPONSE_HEADERS.AN-X-Request-Uuid   \n",
       "998       REQUEST_HEADERS.If-None-Match   \n",
       "999          REQUEST_HEADERS.User-Agent   \n",
       "\n",
       "                                MATCHED_VARIABLE_VALUE              EVENT_ID  \n",
       "0                     //tmp/20160925122692indo.php.vob  AVdhXFgVq1Ppo9zF5Fxu  \n",
       "1               http://www.galitsios.gr/?option=com_k2  AVdcJmIIq1Ppo9zF2YIp  \n",
       "2         /opinion/page1_3.php\\\" and \\\"\\\"x\\\"\\\"=\\\"\\\"x\\\"  iz7SN2YBrgKk_RFNZW_U  \n",
       "3              http://thereviewgroup.org/boss-capital/  AVdjekw4q1Ppo9zF6QT2  \n",
       "4                                        1516288084140  SqQGI2QB5cBXmMW1CDbp  \n",
       "..                                                 ...                   ...  \n",
       "995                                         3553370207  yY4nIWQB5cBXmMW1dQxC  \n",
       "996                                      1516232259174  zYwHIWQB5cBXmMW1Fob5  \n",
       "997               4b8666d5-746b-4b35-a70b-b0a9b9febcd0  VHhkH2QB5cBXmMW1Z29a  \n",
       "998                                  \\\"5a64b7a5-3bbc\\\"  9nmGH2QB5cBXmMW1KfMS  \n",
       "999  Mozilla/5.0 (Linux; Android 4.4.2; Spark 2 Bui...  A4RnIGQB5cBXmMW1E91H  \n",
       "\n",
       "[1000 rows x 8 columns]"
      ]
     },
     "execution_count": 8,
     "metadata": {},
     "output_type": "execute_result"
    }
   ],
   "source": [
    "df"
   ]
  },
  {
   "cell_type": "markdown",
   "id": "644c738c-22c8-4ee4-9894-236d994767fe",
   "metadata": {},
   "source": [
    "## Описание состава колонок\n",
    "\n",
    "**CLIENT_IP**: IP-адрес клиента, отправившего запрос к серверу. Это значение указывает на источник запросов и может использоваться для идентификации клиентов.\n",
    "\n",
    "**CLIENT_USERAGENT**: Значение User-Agent, содержащееся в заголовке запроса клиента. User-Agent обычно содержит информацию о операционной системе и используемом браузере клиента.\n",
    "\n",
    "**REQUEST_SIZE**: Размер запроса клиента в байтах. Это значение указывает на объем данных, отправленных клиентом, и может использоваться для анализа нагрузки на сервер.\n",
    "\n",
    "**RESPONSE_CODE**: Код ответа сервера на запрос клиента. Это значение позволяет определить статус выполнения запроса и может содержать информацию о возникших ошибках или успешном выполнении.\n",
    "\n",
    "**MATCHED_VARIABLE_SRC**: Название источника переменной, которая была найдена или сопоставлена с запросом клиента. Это значение указывает на контекст или систему, в которой переменная была обнаружена. \n",
    "\n",
    "Например, это может быть название системы или компонента, которые обрабатывают запросы клиентов и находят или сопоставляют переменные.\n",
    "\n",
    "**MATCHED_VARIABLE_NAME**: Название найденной переменной. Переменная обычно представляет собой часть URL-адреса или содержимое запроса и может содержать информацию о параметрах запроса или пользовательских данных.\n",
    "\n",
    "Например, это может быть название параметра в URL-адресе или название параметра в теле запроса. Это помогает понять, какие параметры запроса были переданы клиентом.\n",
    "\n",
    "**MATCHED_VARIABLE_VALUE**: Значение найденной переменной. Это значение представляет собой конкретное значение переменной, найденной в запросе клиента.\n",
    "\n",
    "Это помогает понять, какие значения были переданы в переменных запроса. Например, вы можете использовать эту информацию для анализа пользовательских данных или параметров запроса.\n",
    "\n",
    "**EVENT_ID**: Уникальный идентификатор события или записи в таблице. Это значение используется для идентификации записи и может использоваться для анализа и ретроспективного поиска определенных событий."
   ]
  },
  {
   "cell_type": "code",
   "execution_count": 9,
   "id": "61bf8005-1b48-43ba-8da4-02e0a136a787",
   "metadata": {
    "tags": []
   },
   "outputs": [
    {
     "data": {
      "text/plain": [
       "Index(['CLIENT_IP', 'CLIENT_USERAGENT', 'REQUEST_SIZE', 'RESPONSE_CODE',\n",
       "       'MATCHED_VARIABLE_SRC', 'MATCHED_VARIABLE_NAME',\n",
       "       'MATCHED_VARIABLE_VALUE', 'EVENT_ID'],\n",
       "      dtype='object')"
      ]
     },
     "execution_count": 9,
     "metadata": {},
     "output_type": "execute_result"
    }
   ],
   "source": [
    "df.columns"
   ]
  },
  {
   "cell_type": "code",
   "execution_count": 10,
   "id": "0c9a8766-43b8-437b-bbd0-3f743435b01c",
   "metadata": {
    "tags": []
   },
   "outputs": [
    {
     "data": {
      "text/html": [
       "<div>\n",
       "<style scoped>\n",
       "    .dataframe tbody tr th:only-of-type {\n",
       "        vertical-align: middle;\n",
       "    }\n",
       "\n",
       "    .dataframe tbody tr th {\n",
       "        vertical-align: top;\n",
       "    }\n",
       "\n",
       "    .dataframe thead th {\n",
       "        text-align: right;\n",
       "    }\n",
       "</style>\n",
       "<table border=\"1\" class=\"dataframe\">\n",
       "  <thead>\n",
       "    <tr style=\"text-align: right;\">\n",
       "      <th></th>\n",
       "      <th>CLIENT_IP</th>\n",
       "      <th>CLIENT_USERAGENT</th>\n",
       "      <th>REQUEST_SIZE</th>\n",
       "      <th>RESPONSE_CODE</th>\n",
       "      <th>MATCHED_VARIABLE_SRC</th>\n",
       "      <th>MATCHED_VARIABLE_NAME</th>\n",
       "      <th>MATCHED_VARIABLE_VALUE</th>\n",
       "      <th>EVENT_ID</th>\n",
       "    </tr>\n",
       "  </thead>\n",
       "  <tbody>\n",
       "    <tr>\n",
       "      <th>850</th>\n",
       "      <td>202.182.253.109</td>\n",
       "      <td>Mozilla/5.0 (Windows NT 10.0; Win64; x64) Appl...</td>\n",
       "      <td>1362</td>\n",
       "      <td>404</td>\n",
       "      <td>REQUEST_GET_ARGS</td>\n",
       "      <td>REQUEST_GET_ARGS._</td>\n",
       "      <td>287295176</td>\n",
       "      <td>ZaUpI2QB5cBXmMW1BNfF</td>\n",
       "    </tr>\n",
       "    <tr>\n",
       "      <th>162</th>\n",
       "      <td>Remote Code Execution</td>\n",
       "      <td>AVdtgf8uq1Ppo9zF_hyd</td>\n",
       "      <td>4df2f46285c84ba39fa84fc4878214ae</td>\n",
       "      <td>NaN</td>\n",
       "      <td>NaN</td>\n",
       "      <td>NaN</td>\n",
       "      <td>NaN</td>\n",
       "      <td>NaN</td>\n",
       "    </tr>\n",
       "  </tbody>\n",
       "</table>\n",
       "</div>"
      ],
      "text/plain": [
       "                 CLIENT_IP                                   CLIENT_USERAGENT  \\\n",
       "850        202.182.253.109  Mozilla/5.0 (Windows NT 10.0; Win64; x64) Appl...   \n",
       "162  Remote Code Execution                               AVdtgf8uq1Ppo9zF_hyd   \n",
       "\n",
       "                         REQUEST_SIZE RESPONSE_CODE MATCHED_VARIABLE_SRC  \\\n",
       "850                              1362           404     REQUEST_GET_ARGS   \n",
       "162  4df2f46285c84ba39fa84fc4878214ae           NaN                  NaN   \n",
       "\n",
       "    MATCHED_VARIABLE_NAME MATCHED_VARIABLE_VALUE              EVENT_ID  \n",
       "850    REQUEST_GET_ARGS._              287295176  ZaUpI2QB5cBXmMW1BNfF  \n",
       "162                   NaN                    NaN                   NaN  "
      ]
     },
     "execution_count": 10,
     "metadata": {},
     "output_type": "execute_result"
    }
   ],
   "source": [
    "#Если предположить, что EVENT_ID - это уникальный идентификатор, то не очень понятно почему есть дублирующие записи в поле EVENT_ID\n",
    "df[df.duplicated(subset='EVENT_ID')].sort_values('EVENT_ID')"
   ]
  },
  {
   "cell_type": "code",
   "execution_count": 11,
   "id": "66ff7bf5-5464-4954-8265-1adc3ff84250",
   "metadata": {
    "tags": []
   },
   "outputs": [],
   "source": [
    "#Поле EVENT_ID кажется не информативным и ненужным, удалим его\n",
    "df.drop('EVENT_ID',inplace=True,axis=1)"
   ]
  },
  {
   "cell_type": "markdown",
   "id": "d1ecf1d5-d59f-460a-aace-874bafe7eedc",
   "metadata": {},
   "source": [
    "## Нормализация IP адресов"
   ]
  },
  {
   "cell_type": "code",
   "execution_count": 12,
   "id": "669250da-cfb1-48b8-8864-a4f2d8727c9b",
   "metadata": {
    "tags": []
   },
   "outputs": [
    {
     "data": {
      "text/html": [
       "<div>\n",
       "<style scoped>\n",
       "    .dataframe tbody tr th:only-of-type {\n",
       "        vertical-align: middle;\n",
       "    }\n",
       "\n",
       "    .dataframe tbody tr th {\n",
       "        vertical-align: top;\n",
       "    }\n",
       "\n",
       "    .dataframe thead th {\n",
       "        text-align: right;\n",
       "    }\n",
       "</style>\n",
       "<table border=\"1\" class=\"dataframe\">\n",
       "  <thead>\n",
       "    <tr style=\"text-align: right;\">\n",
       "      <th></th>\n",
       "      <th>CLIENT_IP</th>\n",
       "      <th>CLIENT_USERAGENT</th>\n",
       "      <th>REQUEST_SIZE</th>\n",
       "      <th>RESPONSE_CODE</th>\n",
       "      <th>MATCHED_VARIABLE_SRC</th>\n",
       "      <th>MATCHED_VARIABLE_NAME</th>\n",
       "      <th>MATCHED_VARIABLE_VALUE</th>\n",
       "      <th>RIGHT_CLIENT_IP</th>\n",
       "    </tr>\n",
       "  </thead>\n",
       "  <tbody>\n",
       "    <tr>\n",
       "      <th>50</th>\n",
       "      <td>&gt; -gOxT\"O&lt;Ghè\u0019e]Ø\u001d",
       "È8 G`\b\u0007Qf¾ñ\u001e",
       "}y\u001c",
       "ðù!T...</td>\n",
       "      <td>SQL Injection</td>\n",
       "      <td>AVdYz8-Wq1Ppo9zF0mzK</td>\n",
       "      <td>2f53b17df6da6bf9aeec27b0d87413c4</td>\n",
       "      <td>NaN</td>\n",
       "      <td>NaN</td>\n",
       "      <td>NaN</td>\n",
       "      <td>NaN</td>\n",
       "    </tr>\n",
       "    <tr>\n",
       "      <th>162</th>\n",
       "      <td>Remote Code Execution</td>\n",
       "      <td>AVdtgf8uq1Ppo9zF_hyd</td>\n",
       "      <td>4df2f46285c84ba39fa84fc4878214ae</td>\n",
       "      <td>NaN</td>\n",
       "      <td>NaN</td>\n",
       "      <td>NaN</td>\n",
       "      <td>NaN</td>\n",
       "      <td>NaN</td>\n",
       "    </tr>\n",
       "    <tr>\n",
       "      <th>311</th>\n",
       "      <td>2001:4ba0:cafe:ace::1</td>\n",
       "      <td>Mozilla/5.0 (Windows; U; Windows NT 5.1; pt-PT...</td>\n",
       "      <td>920</td>\n",
       "      <td>200</td>\n",
       "      <td>REQUEST_GET_ARGS</td>\n",
       "      <td>id</td>\n",
       "      <td>999999.9 /**/uNiOn/**/aLl /**/sElEcT 1,2,(/**/...</td>\n",
       "      <td>NaN</td>\n",
       "    </tr>\n",
       "    <tr>\n",
       "      <th>590</th>\n",
       "      <td>2a01:598:9902:df0c:8115:691e:c38</td>\n",
       "      <td>Mozilla/5.0 (iPhone; CPU iPhone OS 9_3_5 like ...</td>\n",
       "      <td>1272</td>\n",
       "      <td>304</td>\n",
       "      <td>REQUEST_COOKIES</td>\n",
       "      <td>nf_wp_session</td>\n",
       "      <td>db512c7a8912e4a4b7ac84d39ec5a7a1||1474648967||...</td>\n",
       "      <td>NaN</td>\n",
       "    </tr>\n",
       "    <tr>\n",
       "      <th>649</th>\n",
       "      <td>2a01:4f8:171:3299::2</td>\n",
       "      <td>Mozilla/5.0 (X11; U; Linux i686; ru; rv:1.9.0....</td>\n",
       "      <td>705</td>\n",
       "      <td>200</td>\n",
       "      <td>REQUEST_ARGS</td>\n",
       "      <td>url</td>\n",
       "      <td>http://www.fpa.org/.../International%20Affairs...</td>\n",
       "      <td>NaN</td>\n",
       "    </tr>\n",
       "    <tr>\n",
       "      <th>864</th>\n",
       "      <td>2a02:750:5::9c5</td>\n",
       "      <td>Mozilla/4.0 (compatible; MSIE 7.0; Windows NT ...</td>\n",
       "      <td>423</td>\n",
       "      <td>302</td>\n",
       "      <td>REQUEST_GET_ARGS</td>\n",
       "      <td>product_id</td>\n",
       "      <td>857 AND 1=1</td>\n",
       "      <td>NaN</td>\n",
       "    </tr>\n",
       "    <tr>\n",
       "      <th>967</th>\n",
       "      <td>2a02:27aa::68b</td>\n",
       "      <td>Mozilla/5.0 (Windows NT 10.0; rv:49.0) Gecko/2...</td>\n",
       "      <td>678</td>\n",
       "      <td>200</td>\n",
       "      <td>REQUEST_ARGS</td>\n",
       "      <td>file</td>\n",
       "      <td>../../../images/stories/foto/object16/photo-22...</td>\n",
       "      <td>NaN</td>\n",
       "    </tr>\n",
       "  </tbody>\n",
       "</table>\n",
       "</div>"
      ],
      "text/plain": [
       "                                             CLIENT_IP  \\\n",
       "50   > -gOxT\"O<Ghè\u0019e]Ø\n",
       "È8 G`\b\u0007Qf¾ñ\n",
       "}y\n",
       "ðù!T...   \n",
       "162                              Remote Code Execution   \n",
       "311                              2001:4ba0:cafe:ace::1   \n",
       "590                   2a01:598:9902:df0c:8115:691e:c38   \n",
       "649                               2a01:4f8:171:3299::2   \n",
       "864                                    2a02:750:5::9c5   \n",
       "967                                     2a02:27aa::68b   \n",
       "\n",
       "                                      CLIENT_USERAGENT  \\\n",
       "50                                       SQL Injection   \n",
       "162                               AVdtgf8uq1Ppo9zF_hyd   \n",
       "311  Mozilla/5.0 (Windows; U; Windows NT 5.1; pt-PT...   \n",
       "590  Mozilla/5.0 (iPhone; CPU iPhone OS 9_3_5 like ...   \n",
       "649  Mozilla/5.0 (X11; U; Linux i686; ru; rv:1.9.0....   \n",
       "864  Mozilla/4.0 (compatible; MSIE 7.0; Windows NT ...   \n",
       "967  Mozilla/5.0 (Windows NT 10.0; rv:49.0) Gecko/2...   \n",
       "\n",
       "                         REQUEST_SIZE                     RESPONSE_CODE  \\\n",
       "50               AVdYz8-Wq1Ppo9zF0mzK  2f53b17df6da6bf9aeec27b0d87413c4   \n",
       "162  4df2f46285c84ba39fa84fc4878214ae                               NaN   \n",
       "311                               920                               200   \n",
       "590                              1272                               304   \n",
       "649                               705                               200   \n",
       "864                               423                               302   \n",
       "967                               678                               200   \n",
       "\n",
       "    MATCHED_VARIABLE_SRC MATCHED_VARIABLE_NAME  \\\n",
       "50                   NaN                   NaN   \n",
       "162                  NaN                   NaN   \n",
       "311     REQUEST_GET_ARGS                    id   \n",
       "590      REQUEST_COOKIES         nf_wp_session   \n",
       "649         REQUEST_ARGS                   url   \n",
       "864     REQUEST_GET_ARGS            product_id   \n",
       "967         REQUEST_ARGS                  file   \n",
       "\n",
       "                                MATCHED_VARIABLE_VALUE RIGHT_CLIENT_IP  \n",
       "50                                                 NaN             NaN  \n",
       "162                                                NaN             NaN  \n",
       "311  999999.9 /**/uNiOn/**/aLl /**/sElEcT 1,2,(/**/...             NaN  \n",
       "590  db512c7a8912e4a4b7ac84d39ec5a7a1||1474648967||...             NaN  \n",
       "649  http://www.fpa.org/.../International%20Affairs...             NaN  \n",
       "864                                        857 AND 1=1             NaN  \n",
       "967  ../../../images/stories/foto/object16/photo-22...             NaN  "
      ]
     },
     "execution_count": 12,
     "metadata": {},
     "output_type": "execute_result"
    }
   ],
   "source": [
    "#Найдем, есть ли записи с плохим IP адресом\n",
    "pattern =  r'(\\b(?:\\d{1,3}\\.){3}\\d{1,3}\\b)'\n",
    "df['RIGHT_CLIENT_IP'] = df['CLIENT_IP'].str.extract(pattern)\n",
    "df[df['RIGHT_CLIENT_IP'] != df['CLIENT_IP']]"
   ]
  },
  {
   "cell_type": "code",
   "execution_count": 13,
   "id": "7ba19be4-769f-4b6a-af0e-fc21e1c9394c",
   "metadata": {
    "tags": []
   },
   "outputs": [
    {
     "data": {
      "text/html": [
       "<div>\n",
       "<style scoped>\n",
       "    .dataframe tbody tr th:only-of-type {\n",
       "        vertical-align: middle;\n",
       "    }\n",
       "\n",
       "    .dataframe tbody tr th {\n",
       "        vertical-align: top;\n",
       "    }\n",
       "\n",
       "    .dataframe thead th {\n",
       "        text-align: right;\n",
       "    }\n",
       "</style>\n",
       "<table border=\"1\" class=\"dataframe\">\n",
       "  <thead>\n",
       "    <tr style=\"text-align: right;\">\n",
       "      <th></th>\n",
       "      <th>CLIENT_IP</th>\n",
       "      <th>CLIENT_USERAGENT</th>\n",
       "      <th>REQUEST_SIZE</th>\n",
       "      <th>RESPONSE_CODE</th>\n",
       "      <th>MATCHED_VARIABLE_SRC</th>\n",
       "      <th>MATCHED_VARIABLE_NAME</th>\n",
       "      <th>MATCHED_VARIABLE_VALUE</th>\n",
       "      <th>RIGHT_CLIENT_IP</th>\n",
       "    </tr>\n",
       "  </thead>\n",
       "  <tbody>\n",
       "    <tr>\n",
       "      <th>50</th>\n",
       "      <td>&gt; -gOxT\"O&lt;Ghè\u0019e]Ø\u001d",
       "È8 G`\b\u0007Qf¾ñ\u001e",
       "}y\u001c",
       "ðù!T...</td>\n",
       "      <td>SQL Injection</td>\n",
       "      <td>AVdYz8-Wq1Ppo9zF0mzK</td>\n",
       "      <td>2f53b17df6da6bf9aeec27b0d87413c4</td>\n",
       "      <td>NaN</td>\n",
       "      <td>NaN</td>\n",
       "      <td>NaN</td>\n",
       "      <td>NaN</td>\n",
       "    </tr>\n",
       "    <tr>\n",
       "      <th>162</th>\n",
       "      <td>Remote Code Execution</td>\n",
       "      <td>AVdtgf8uq1Ppo9zF_hyd</td>\n",
       "      <td>4df2f46285c84ba39fa84fc4878214ae</td>\n",
       "      <td>NaN</td>\n",
       "      <td>NaN</td>\n",
       "      <td>NaN</td>\n",
       "      <td>NaN</td>\n",
       "      <td>NaN</td>\n",
       "    </tr>\n",
       "    <tr>\n",
       "      <th>590</th>\n",
       "      <td>2a01:598:9902:df0c:8115:691e:c38</td>\n",
       "      <td>Mozilla/5.0 (iPhone; CPU iPhone OS 9_3_5 like ...</td>\n",
       "      <td>1272</td>\n",
       "      <td>304</td>\n",
       "      <td>REQUEST_COOKIES</td>\n",
       "      <td>nf_wp_session</td>\n",
       "      <td>db512c7a8912e4a4b7ac84d39ec5a7a1||1474648967||...</td>\n",
       "      <td>NaN</td>\n",
       "    </tr>\n",
       "  </tbody>\n",
       "</table>\n",
       "</div>"
      ],
      "text/plain": [
       "                                             CLIENT_IP  \\\n",
       "50   > -gOxT\"O<Ghè\u0019e]Ø\n",
       "È8 G`\b\u0007Qf¾ñ\n",
       "}y\n",
       "ðù!T...   \n",
       "162                              Remote Code Execution   \n",
       "590                   2a01:598:9902:df0c:8115:691e:c38   \n",
       "\n",
       "                                      CLIENT_USERAGENT  \\\n",
       "50                                       SQL Injection   \n",
       "162                               AVdtgf8uq1Ppo9zF_hyd   \n",
       "590  Mozilla/5.0 (iPhone; CPU iPhone OS 9_3_5 like ...   \n",
       "\n",
       "                         REQUEST_SIZE                     RESPONSE_CODE  \\\n",
       "50               AVdYz8-Wq1Ppo9zF0mzK  2f53b17df6da6bf9aeec27b0d87413c4   \n",
       "162  4df2f46285c84ba39fa84fc4878214ae                               NaN   \n",
       "590                              1272                               304   \n",
       "\n",
       "    MATCHED_VARIABLE_SRC MATCHED_VARIABLE_NAME  \\\n",
       "50                   NaN                   NaN   \n",
       "162                  NaN                   NaN   \n",
       "590      REQUEST_COOKIES         nf_wp_session   \n",
       "\n",
       "                                MATCHED_VARIABLE_VALUE RIGHT_CLIENT_IP  \n",
       "50                                                 NaN             NaN  \n",
       "162                                                NaN             NaN  \n",
       "590  db512c7a8912e4a4b7ac84d39ec5a7a1||1474648967||...             NaN  "
      ]
     },
     "execution_count": 13,
     "metadata": {},
     "output_type": "execute_result"
    }
   ],
   "source": [
    "#Получается в качестве IP адреса может быть адреc IPv4 или IPv6, добавим поиск IPv6\n",
    "pattern = r'(\\b(?:(?:\\d{1,3}\\.){3}\\d{1,3}|(?:[A-Fa-f0-9]{1,4}:){7}[A-Fa-f0-9]{1,4}|(?:[A-Fa-f0-9]{1,4}:){1,6}:[A-Fa-f0-9]{1,4})\\b)'\n",
    "df['RIGHT_CLIENT_IP'] = df['CLIENT_IP'].str.extract(pattern)\n",
    "df[df['RIGHT_CLIENT_IP'] != df['CLIENT_IP']]"
   ]
  },
  {
   "cell_type": "code",
   "execution_count": 14,
   "id": "b3e33856-b307-4f48-ad02-633b2b688116",
   "metadata": {},
   "outputs": [
    {
     "data": {
      "text/html": [
       "<div>\n",
       "<style scoped>\n",
       "    .dataframe tbody tr th:only-of-type {\n",
       "        vertical-align: middle;\n",
       "    }\n",
       "\n",
       "    .dataframe tbody tr th {\n",
       "        vertical-align: top;\n",
       "    }\n",
       "\n",
       "    .dataframe thead th {\n",
       "        text-align: right;\n",
       "    }\n",
       "</style>\n",
       "<table border=\"1\" class=\"dataframe\">\n",
       "  <thead>\n",
       "    <tr style=\"text-align: right;\">\n",
       "      <th></th>\n",
       "      <th>CLIENT_IP</th>\n",
       "      <th>CLIENT_USERAGENT</th>\n",
       "      <th>REQUEST_SIZE</th>\n",
       "      <th>RESPONSE_CODE</th>\n",
       "      <th>MATCHED_VARIABLE_SRC</th>\n",
       "      <th>MATCHED_VARIABLE_NAME</th>\n",
       "      <th>MATCHED_VARIABLE_VALUE</th>\n",
       "      <th>RIGHT_CLIENT_IP</th>\n",
       "    </tr>\n",
       "  </thead>\n",
       "  <tbody>\n",
       "    <tr>\n",
       "      <th>50</th>\n",
       "      <td>&gt; -gOxT\"O&lt;Ghè\u0019e]Ø\u001d",
       "È8 G`\b\u0007Qf¾ñ\u001e",
       "}y\u001c",
       "ðù!T...</td>\n",
       "      <td>SQL Injection</td>\n",
       "      <td>AVdYz8-Wq1Ppo9zF0mzK</td>\n",
       "      <td>2f53b17df6da6bf9aeec27b0d87413c4</td>\n",
       "      <td>NaN</td>\n",
       "      <td>NaN</td>\n",
       "      <td>NaN</td>\n",
       "      <td>None</td>\n",
       "    </tr>\n",
       "    <tr>\n",
       "      <th>162</th>\n",
       "      <td>Remote Code Execution</td>\n",
       "      <td>AVdtgf8uq1Ppo9zF_hyd</td>\n",
       "      <td>4df2f46285c84ba39fa84fc4878214ae</td>\n",
       "      <td>NaN</td>\n",
       "      <td>NaN</td>\n",
       "      <td>NaN</td>\n",
       "      <td>NaN</td>\n",
       "      <td>None</td>\n",
       "    </tr>\n",
       "    <tr>\n",
       "      <th>590</th>\n",
       "      <td>2a01:598:9902:df0c:8115:691e:c38</td>\n",
       "      <td>Mozilla/5.0 (iPhone; CPU iPhone OS 9_3_5 like ...</td>\n",
       "      <td>1272</td>\n",
       "      <td>304</td>\n",
       "      <td>REQUEST_COOKIES</td>\n",
       "      <td>nf_wp_session</td>\n",
       "      <td>db512c7a8912e4a4b7ac84d39ec5a7a1||1474648967||...</td>\n",
       "      <td>None</td>\n",
       "    </tr>\n",
       "  </tbody>\n",
       "</table>\n",
       "</div>"
      ],
      "text/plain": [
       "                                             CLIENT_IP  \\\n",
       "50   > -gOxT\"O<Ghè\u0019e]Ø\n",
       "È8 G`\b\u0007Qf¾ñ\n",
       "}y\n",
       "ðù!T...   \n",
       "162                              Remote Code Execution   \n",
       "590                   2a01:598:9902:df0c:8115:691e:c38   \n",
       "\n",
       "                                      CLIENT_USERAGENT  \\\n",
       "50                                       SQL Injection   \n",
       "162                               AVdtgf8uq1Ppo9zF_hyd   \n",
       "590  Mozilla/5.0 (iPhone; CPU iPhone OS 9_3_5 like ...   \n",
       "\n",
       "                         REQUEST_SIZE                     RESPONSE_CODE  \\\n",
       "50               AVdYz8-Wq1Ppo9zF0mzK  2f53b17df6da6bf9aeec27b0d87413c4   \n",
       "162  4df2f46285c84ba39fa84fc4878214ae                               NaN   \n",
       "590                              1272                               304   \n",
       "\n",
       "    MATCHED_VARIABLE_SRC MATCHED_VARIABLE_NAME  \\\n",
       "50                   NaN                   NaN   \n",
       "162                  NaN                   NaN   \n",
       "590      REQUEST_COOKIES         nf_wp_session   \n",
       "\n",
       "                                MATCHED_VARIABLE_VALUE RIGHT_CLIENT_IP  \n",
       "50                                                 NaN            None  \n",
       "162                                                NaN            None  \n",
       "590  db512c7a8912e4a4b7ac84d39ec5a7a1||1474648967||...            None  "
      ]
     },
     "execution_count": 14,
     "metadata": {},
     "output_type": "execute_result"
    }
   ],
   "source": [
    "#Тестируем функцию из модуля препроцессинга, результаты должны быть аналогичные\n",
    "df['RIGHT_CLIENT_IP'] = df['CLIENT_IP'].apply(lambda x: traffic_preprocess.check_right_ip(x))\n",
    "df[df['RIGHT_CLIENT_IP'] != df['CLIENT_IP']]"
   ]
  },
  {
   "cell_type": "code",
   "execution_count": 15,
   "id": "1c637917-8196-4442-8670-d0ade1f67595",
   "metadata": {
    "tags": []
   },
   "outputs": [
    {
     "name": "stderr",
     "output_type": "stream",
     "text": [
      "/tmp/ipykernel_7559/4137580977.py:3: SettingWithCopyWarning: \n",
      "A value is trying to be set on a copy of a slice from a DataFrame\n",
      "\n",
      "See the caveats in the documentation: https://pandas.pydata.org/pandas-docs/stable/user_guide/indexing.html#returning-a-view-versus-a-copy\n",
      "  df.drop(['RIGHT_CLIENT_IP'],axis=1,inplace=True)\n"
     ]
    }
   ],
   "source": [
    "#По всей видимости полученный 151 строка адресов являются ошибочными данными, удалим их\n",
    "df = df[df['RIGHT_CLIENT_IP'] == df['CLIENT_IP']]\n",
    "df.drop(['RIGHT_CLIENT_IP'],axis=1,inplace=True)"
   ]
  },
  {
   "cell_type": "markdown",
   "id": "def5c614-6d97-4ae2-bba4-28ad63d3dc2c",
   "metadata": {},
   "source": [
    "## Заполним страну по IP адресу"
   ]
  },
  {
   "cell_type": "code",
   "execution_count": 16,
   "id": "a34849f5-37b0-401a-ae1c-b08d5b1da472",
   "metadata": {
    "tags": []
   },
   "outputs": [
    {
     "name": "stderr",
     "output_type": "stream",
     "text": [
      "/tmp/ipykernel_7559/1410707229.py:1: SettingWithCopyWarning: \n",
      "A value is trying to be set on a copy of a slice from a DataFrame.\n",
      "Try using .loc[row_indexer,col_indexer] = value instead\n",
      "\n",
      "See the caveats in the documentation: https://pandas.pydata.org/pandas-docs/stable/user_guide/indexing.html#returning-a-view-versus-a-copy\n",
      "  df['preproc_CLIENT_IP_country'] = df['CLIENT_IP'].apply(lambda x: traffic_preprocess.get_country(x))\n"
     ]
    }
   ],
   "source": [
    "df['preproc_CLIENT_IP_country'] = df['CLIENT_IP'].apply(lambda x: traffic_preprocess.get_country(x))"
   ]
  },
  {
   "cell_type": "code",
   "execution_count": 17,
   "id": "e314672a-1937-42f7-a928-4ed9cee98a2f",
   "metadata": {
    "tags": []
   },
   "outputs": [
    {
     "data": {
      "text/html": [
       "<div>\n",
       "<style scoped>\n",
       "    .dataframe tbody tr th:only-of-type {\n",
       "        vertical-align: middle;\n",
       "    }\n",
       "\n",
       "    .dataframe tbody tr th {\n",
       "        vertical-align: top;\n",
       "    }\n",
       "\n",
       "    .dataframe thead th {\n",
       "        text-align: right;\n",
       "    }\n",
       "</style>\n",
       "<table border=\"1\" class=\"dataframe\">\n",
       "  <thead>\n",
       "    <tr style=\"text-align: right;\">\n",
       "      <th></th>\n",
       "      <th>CLIENT_IP</th>\n",
       "      <th>preproc_CLIENT_IP_country</th>\n",
       "    </tr>\n",
       "  </thead>\n",
       "  <tbody>\n",
       "    <tr>\n",
       "      <th>0</th>\n",
       "      <td>188.138.92.55</td>\n",
       "      <td>DE</td>\n",
       "    </tr>\n",
       "    <tr>\n",
       "      <th>1</th>\n",
       "      <td>93.158.215.131</td>\n",
       "      <td>NL</td>\n",
       "    </tr>\n",
       "    <tr>\n",
       "      <th>2</th>\n",
       "      <td>176.123.240.64</td>\n",
       "      <td>KG</td>\n",
       "    </tr>\n",
       "    <tr>\n",
       "      <th>3</th>\n",
       "      <td>73.78.81.63</td>\n",
       "      <td>US</td>\n",
       "    </tr>\n",
       "    <tr>\n",
       "      <th>4</th>\n",
       "      <td>66.102.9.44</td>\n",
       "      <td>US</td>\n",
       "    </tr>\n",
       "    <tr>\n",
       "      <th>...</th>\n",
       "      <td>...</td>\n",
       "      <td>...</td>\n",
       "    </tr>\n",
       "    <tr>\n",
       "      <th>995</th>\n",
       "      <td>37.46.129.136</td>\n",
       "      <td>RU</td>\n",
       "    </tr>\n",
       "    <tr>\n",
       "      <th>996</th>\n",
       "      <td>83.220.239.206</td>\n",
       "      <td>RU</td>\n",
       "    </tr>\n",
       "    <tr>\n",
       "      <th>997</th>\n",
       "      <td>217.175.140.69</td>\n",
       "      <td>RU</td>\n",
       "    </tr>\n",
       "    <tr>\n",
       "      <th>998</th>\n",
       "      <td>217.175.155.56</td>\n",
       "      <td>RU</td>\n",
       "    </tr>\n",
       "    <tr>\n",
       "      <th>999</th>\n",
       "      <td>90.151.92.50</td>\n",
       "      <td>RU</td>\n",
       "    </tr>\n",
       "  </tbody>\n",
       "</table>\n",
       "<p>997 rows × 2 columns</p>\n",
       "</div>"
      ],
      "text/plain": [
       "          CLIENT_IP preproc_CLIENT_IP_country\n",
       "0     188.138.92.55                        DE\n",
       "1    93.158.215.131                        NL\n",
       "2    176.123.240.64                        KG\n",
       "3       73.78.81.63                        US\n",
       "4       66.102.9.44                        US\n",
       "..              ...                       ...\n",
       "995   37.46.129.136                        RU\n",
       "996  83.220.239.206                        RU\n",
       "997  217.175.140.69                        RU\n",
       "998  217.175.155.56                        RU\n",
       "999    90.151.92.50                        RU\n",
       "\n",
       "[997 rows x 2 columns]"
      ]
     },
     "execution_count": 17,
     "metadata": {},
     "output_type": "execute_result"
    }
   ],
   "source": [
    "df[['CLIENT_IP','preproc_CLIENT_IP_country']]"
   ]
  },
  {
   "cell_type": "markdown",
   "id": "0c39454d-315b-4b0c-98ee-dac824c2769f",
   "metadata": {},
   "source": [
    "## Нормализация CLIENT_USERAGENT"
   ]
  },
  {
   "cell_type": "code",
   "execution_count": 18,
   "id": "9b32ee4b-332f-453b-8db2-484f48f6453e",
   "metadata": {
    "tags": []
   },
   "outputs": [
    {
     "data": {
      "text/plain": [
       "CLIENT_USERAGENT\n",
       "Mozilla/5.0 (Windows NT 6.1; WOW64; Trident/7.0; rv:11.0) like Gecko                                                                                                 44\n",
       "Mozilla/5.0 (Windows NT 6.1; Win64; x64) AppleWebKit/537.36 (KHTML, like Gecko) Chrome/63.0.3239.132 Safari/537.36                                                   36\n",
       "Mozilla/5.0 (Windows NT 10.0; Win64; x64) AppleWebKit/537.36 (KHTML, like Gecko) Chrome/63.0.3239.132 Safari/537.36                                                  36\n",
       "Mozilla/5.0 (compatible; YandexBot/3.0; +http://yandex.com/bots)                                                                                                     21\n",
       "Mozilla/5.0 (compatible; AhrefsBot/5.2; +http://ahrefs.com/robot/)                                                                                                   21\n",
       "                                                                                                                                                                     ..\n",
       "Mozilla/5.0 (Windows NT 5.1; rv:56.0) Gecko/20100101 Firefox/56.0                                                                                                     1\n",
       "Mozilla/5.0 (Linux; Android 5.1; M3s Build/LMY47I) AppleWebKit/537.36 (KHTML, like Gecko) Version/4.0 Chrome/40.0.2214.117 Mobile Safari/537.36 YandexSearch/7.21     1\n",
       "Mozilla/4.0 (compatible; MSIE 6.0; Windows NT 7.0) PTX                                                                                                                1\n",
       "Mozilla/5.0 (Linux; Android 6.0.1; ASUS_Z00ED Build/MMB29P) AppleWebKit/537.36 (KHTML, like Gecko) Chrome/63.0.3239.111 Mobile Safari/537.36                          1\n",
       "Mozilla/5.0 (Linux; Android 4.4.2; Spark 2 Build/KVT49L) AppleWebKit/537.36 (KHTML, like Gecko) Chrome/62.0.3202.94 YaBrowser/17.11.0.526.00 Mobile Safari/537.36     1\n",
       "Name: count, Length: 417, dtype: int64"
      ]
     },
     "execution_count": 18,
     "metadata": {},
     "output_type": "execute_result"
    }
   ],
   "source": [
    "#Достаточно обширное разнообраией значений UserAgent давайте нормализуем и преобразуем в TFIDF вектора \n",
    "df['CLIENT_USERAGENT'].value_counts()"
   ]
  },
  {
   "cell_type": "code",
   "execution_count": 19,
   "id": "f35ad3da-2594-48d4-a66d-e44db39be6da",
   "metadata": {
    "tags": []
   },
   "outputs": [],
   "source": [
    "# str_regex = r'\\b[а-яА-Яa-zA-Z]+\\b'\n",
    "# df['CLIENT_USERAGENT_preproc'] = df['CLIENT_USERAGENT'].apply(lambda x: ' '.join(re.findall(str_regex, str(x).lower())))\n",
    "# df['CLIENT_USERAGENT_preproc']"
   ]
  },
  {
   "cell_type": "code",
   "execution_count": 20,
   "id": "90121131-ffcd-48cb-afc5-674fc22fdc20",
   "metadata": {
    "tags": []
   },
   "outputs": [
    {
     "name": "stderr",
     "output_type": "stream",
     "text": [
      "/tmp/ipykernel_7559/3502794480.py:1: SettingWithCopyWarning: \n",
      "A value is trying to be set on a copy of a slice from a DataFrame.\n",
      "Try using .loc[row_indexer,col_indexer] = value instead\n",
      "\n",
      "See the caveats in the documentation: https://pandas.pydata.org/pandas-docs/stable/user_guide/indexing.html#returning-a-view-versus-a-copy\n",
      "  df['preproc_CLIENT_USERAGENT'] = df['CLIENT_USERAGENT'].apply(lambda x: traffic_preprocess.agent_str_preproc(x))\n"
     ]
    }
   ],
   "source": [
    "df['preproc_CLIENT_USERAGENT'] = df['CLIENT_USERAGENT'].apply(lambda x: traffic_preprocess.agent_str_preproc(x))"
   ]
  },
  {
   "cell_type": "markdown",
   "id": "e070f0e2-e96d-416c-a657-473dfd8483aa",
   "metadata": {},
   "source": [
    "## Метод локтя для определния кластеров CLIENT_USERAGEN"
   ]
  },
  {
   "cell_type": "code",
   "execution_count": 21,
   "id": "bdea06b0-5a06-460e-a649-99f6a85e7909",
   "metadata": {
    "tags": []
   },
   "outputs": [],
   "source": [
    "str_regex = r'\\b[а-яА-Яa-zA-Z]+\\b'\n",
    "agent_vectorizer = text.TfidfVectorizer(tokenizer=lambda text: re.findall(str_regex, text),min_df=2)"
   ]
  },
  {
   "cell_type": "code",
   "execution_count": 22,
   "id": "8b317ee6-3a3e-4600-8023-7edc6649723f",
   "metadata": {
    "tags": []
   },
   "outputs": [
    {
     "name": "stderr",
     "output_type": "stream",
     "text": [
      "/home/joefox/.pyvenv/base/lib/python3.9/site-packages/sklearn/feature_extraction/text.py:525: UserWarning: The parameter 'token_pattern' will not be used since 'tokenizer' is not None'\n",
      "  warnings.warn(\n"
     ]
    },
    {
     "data": {
      "text/plain": [
       "<997x162 sparse matrix of type '<class 'numpy.float64'>'\n",
       "\twith 8531 stored elements in Compressed Sparse Row format>"
      ]
     },
     "execution_count": 22,
     "metadata": {},
     "output_type": "execute_result"
    }
   ],
   "source": [
    "agent_vectors = agent_vectorizer.fit_transform(df['preproc_CLIENT_USERAGENT'])\n",
    "agent_vectors"
   ]
  },
  {
   "cell_type": "code",
   "execution_count": 23,
   "id": "fc9eb97d-ed09-4961-97ce-e77d629424f1",
   "metadata": {
    "tags": []
   },
   "outputs": [],
   "source": [
    "def calculate_sse(data, k):\n",
    "    '''\n",
    "    # Функция для вычисления SSE (сумма квадратов ошибок) для заданного количества кластеров\n",
    "    '''\n",
    "    kmeans = cluster.KMeans(n_clusters=k, random_state=0)\n",
    "    kmeans.fit(data)\n",
    "    return kmeans.inertia_"
   ]
  },
  {
   "cell_type": "code",
   "execution_count": 24,
   "id": "987f49b1-a8c6-4e0d-8f71-631a49508f17",
   "metadata": {
    "tags": []
   },
   "outputs": [],
   "source": [
    "# %%time\n",
    "# # Диапазон значений количества кластеров для проверки\n",
    "# k_values = range(1, 100,2)\n",
    "\n",
    "# # Вычисляем SSE для каждого значения количества кластеров\n",
    "# sse_values = [calculate_sse(agent_vectors, k) for k in k_values]\n",
    "\n",
    "# # Визуализация значения SSE в зависимости от количества кластеров\n",
    "# plt.plot(k_values, sse_values)\n",
    "# plt.xlabel('Number of clusters')\n",
    "# plt.ylabel('SSE')\n",
    "# plt.show()"
   ]
  },
  {
   "cell_type": "markdown",
   "id": "b3d07f21-fca2-48b5-bd94-5cc24d1039b2",
   "metadata": {},
   "source": [
    "### Методом локтя количество классов не выделяется, попробуем визуализировать\n",
    "![Кластеризация](images/agent_clustrs_2023-09-09_15-14.png)"
   ]
  },
  {
   "cell_type": "code",
   "execution_count": 25,
   "id": "5e48e3b4-9389-4035-a845-c55661873ade",
   "metadata": {
    "tags": []
   },
   "outputs": [],
   "source": [
    "df.reset_index(drop=True,inplace=True)"
   ]
  },
  {
   "cell_type": "code",
   "execution_count": 26,
   "id": "dd91eb35-389d-40a8-8b59-8390e804b6d2",
   "metadata": {},
   "outputs": [
    {
     "name": "stderr",
     "output_type": "stream",
     "text": [
      "/home/joefox/.pyvenv/base/lib/python3.9/site-packages/sklearn/cluster/_kmeans.py:1412: FutureWarning: The default value of `n_init` will change from 10 to 'auto' in 1.4. Set the value of `n_init` explicitly to suppress the warning\n",
      "  super()._check_params_vs_input(X, default_n_init=10)\n"
     ]
    }
   ],
   "source": [
    "#Чтобы не делать большое количество классов, решил сделать 20 классов агентов, смотреть в модуле constants.py\n",
    "traffic_preprocess.agent_model_fit(df['preproc_CLIENT_USERAGENT'].values)"
   ]
  },
  {
   "cell_type": "code",
   "execution_count": 27,
   "id": "d50667c2-832b-4c93-840d-20d64522f4bb",
   "metadata": {
    "tags": []
   },
   "outputs": [],
   "source": [
    "#Добавим номер кластера агента и вектор агента для визуализации\n",
    "list_dict = []\n",
    "list_vectors = []\n",
    "for x in df['preproc_CLIENT_USERAGENT']:\n",
    "    result = traffic_preprocess.agent_model_predict(x)\n",
    "    vector = result.pop('agent_vector')\n",
    "    list_vectors.append(vector.todense()[0])\n",
    "    result['agent_cluster'] = result['agent_cluster']\n",
    "    list_dict.append(result)\n",
    "df_add = pd.DataFrame(list_dict)\n",
    "df = pd.concat([df,df_add],axis=1)\n",
    "list_vectors = np.asarray(list_vectors)\n",
    "list_vectors = list_vectors.reshape(list_vectors.shape[0],list_vectors.shape[2])"
   ]
  },
  {
   "cell_type": "code",
   "execution_count": 28,
   "id": "02f4628c-af01-4af7-bfcf-86a2c2273d9c",
   "metadata": {
    "tags": []
   },
   "outputs": [
    {
     "data": {
      "image/png": "[encoded data removed]",
      "text/plain": [
       "<Figure size 640x480 with 1 Axes>"
      ]
     },
     "metadata": {},
     "output_type": "display_data"
    }
   ],
   "source": [
    "# Визуализируем кластеры используя метод PCA (главный компонент)\n",
    "pca = decomposition.PCA(n_components=2)\n",
    "pca_vectors = pca.fit_transform(list_vectors)\n",
    "\n",
    "plt.scatter(pca_vectors[:, 0], pca_vectors[:, 1], c=df['agent_cluster'])\n",
    "plt.title('PCA Visualization')\n",
    "plt.show()"
   ]
  },
  {
   "cell_type": "code",
   "execution_count": 29,
   "id": "0c349a4d-930d-42c5-9751-6fc0b927411c",
   "metadata": {},
   "outputs": [],
   "source": [
    "traffic_preprocess.agent_model_save()"
   ]
  },
  {
   "cell_type": "code",
   "execution_count": 30,
   "id": "c146a411-6308-4e3a-90a3-04d40bc3a0b4",
   "metadata": {
    "tags": []
   },
   "outputs": [],
   "source": [
    "df.drop(['preproc_CLIENT_USERAGENT'],axis=1,inplace=True)"
   ]
  },
  {
   "cell_type": "code",
   "execution_count": 31,
   "id": "e225838e-e5af-4680-a731-072455e33aed",
   "metadata": {
    "tags": []
   },
   "outputs": [
    {
     "data": {
      "text/html": [
       "<div>\n",
       "<style scoped>\n",
       "    .dataframe tbody tr th:only-of-type {\n",
       "        vertical-align: middle;\n",
       "    }\n",
       "\n",
       "    .dataframe tbody tr th {\n",
       "        vertical-align: top;\n",
       "    }\n",
       "\n",
       "    .dataframe thead th {\n",
       "        text-align: right;\n",
       "    }\n",
       "</style>\n",
       "<table border=\"1\" class=\"dataframe\">\n",
       "  <thead>\n",
       "    <tr style=\"text-align: right;\">\n",
       "      <th></th>\n",
       "      <th>CLIENT_IP</th>\n",
       "      <th>CLIENT_USERAGENT</th>\n",
       "      <th>REQUEST_SIZE</th>\n",
       "      <th>RESPONSE_CODE</th>\n",
       "      <th>MATCHED_VARIABLE_SRC</th>\n",
       "      <th>MATCHED_VARIABLE_NAME</th>\n",
       "      <th>MATCHED_VARIABLE_VALUE</th>\n",
       "      <th>preproc_CLIENT_IP_country</th>\n",
       "      <th>agent_cluster</th>\n",
       "    </tr>\n",
       "  </thead>\n",
       "  <tbody>\n",
       "    <tr>\n",
       "      <th>0</th>\n",
       "      <td>188.138.92.55</td>\n",
       "      <td>NaN</td>\n",
       "      <td>166</td>\n",
       "      <td>404</td>\n",
       "      <td>REQUEST_URI</td>\n",
       "      <td>NaN</td>\n",
       "      <td>//tmp/20160925122692indo.php.vob</td>\n",
       "      <td>DE</td>\n",
       "      <td>13</td>\n",
       "    </tr>\n",
       "    <tr>\n",
       "      <th>1</th>\n",
       "      <td>93.158.215.131</td>\n",
       "      <td>Mozilla/5.0 (Windows NT 6.3; WOW64; rv:45.0) G...</td>\n",
       "      <td>431</td>\n",
       "      <td>302</td>\n",
       "      <td>REQUEST_GET_ARGS</td>\n",
       "      <td>url</td>\n",
       "      <td>http://www.galitsios.gr/?option=com_k2</td>\n",
       "      <td>NL</td>\n",
       "      <td>10</td>\n",
       "    </tr>\n",
       "    <tr>\n",
       "      <th>2</th>\n",
       "      <td>176.123.240.64</td>\n",
       "      <td>Mozilla/5.0 (Windows NT 6.0; rv:34.0) Gecko/20...</td>\n",
       "      <td>395</td>\n",
       "      <td>403</td>\n",
       "      <td>REQUEST_PATH</td>\n",
       "      <td>NaN</td>\n",
       "      <td>/opinion/page1_3.php\\\" and \\\"\\\"x\\\"\\\"=\\\"\\\"x\\\"</td>\n",
       "      <td>KG</td>\n",
       "      <td>10</td>\n",
       "    </tr>\n",
       "    <tr>\n",
       "      <th>3</th>\n",
       "      <td>73.78.81.63</td>\n",
       "      <td>Mozilla/5.0 (Windows NT 6.3; WOW64; rv:45.0) G...</td>\n",
       "      <td>387</td>\n",
       "      <td>302</td>\n",
       "      <td>REQUEST_GET_ARGS</td>\n",
       "      <td>url</td>\n",
       "      <td>http://thereviewgroup.org/boss-capital/</td>\n",
       "      <td>US</td>\n",
       "      <td>10</td>\n",
       "    </tr>\n",
       "    <tr>\n",
       "      <th>4</th>\n",
       "      <td>66.102.9.44</td>\n",
       "      <td>Mozilla/5.0 (Linux; Android 4.4.2; GT-N7100 Bu...</td>\n",
       "      <td>1733</td>\n",
       "      <td>404</td>\n",
       "      <td>REQUEST_GET_ARGS</td>\n",
       "      <td>REQUEST_GET_ARGS._</td>\n",
       "      <td>1516288084140</td>\n",
       "      <td>US</td>\n",
       "      <td>3</td>\n",
       "    </tr>\n",
       "    <tr>\n",
       "      <th>...</th>\n",
       "      <td>...</td>\n",
       "      <td>...</td>\n",
       "      <td>...</td>\n",
       "      <td>...</td>\n",
       "      <td>...</td>\n",
       "      <td>...</td>\n",
       "      <td>...</td>\n",
       "      <td>...</td>\n",
       "      <td>...</td>\n",
       "    </tr>\n",
       "    <tr>\n",
       "      <th>992</th>\n",
       "      <td>37.46.129.136</td>\n",
       "      <td>User-Agent: Mozilla/5.0 (Windows NT 10.0; WOW6...</td>\n",
       "      <td>772</td>\n",
       "      <td>200</td>\n",
       "      <td>REQUEST_POST_ARGS</td>\n",
       "      <td>REQUEST_POST_ARGS.rid</td>\n",
       "      <td>3553370207</td>\n",
       "      <td>RU</td>\n",
       "      <td>6</td>\n",
       "    </tr>\n",
       "    <tr>\n",
       "      <th>993</th>\n",
       "      <td>83.220.239.206</td>\n",
       "      <td>Mozilla/5.0 (iPhone; CPU iPhone OS 10_2 like M...</td>\n",
       "      <td>966</td>\n",
       "      <td>404</td>\n",
       "      <td>REQUEST_GET_ARGS</td>\n",
       "      <td>REQUEST_GET_ARGS._</td>\n",
       "      <td>1516232259174</td>\n",
       "      <td>RU</td>\n",
       "      <td>2</td>\n",
       "    </tr>\n",
       "    <tr>\n",
       "      <th>994</th>\n",
       "      <td>217.175.140.69</td>\n",
       "      <td>Mozilla/5.0 (Windows NT 6.1; WOW64; Trident/7....</td>\n",
       "      <td>3006</td>\n",
       "      <td>200</td>\n",
       "      <td>RESPONSE_HEADERS</td>\n",
       "      <td>RESPONSE_HEADERS.AN-X-Request-Uuid</td>\n",
       "      <td>4b8666d5-746b-4b35-a70b-b0a9b9febcd0</td>\n",
       "      <td>RU</td>\n",
       "      <td>1</td>\n",
       "    </tr>\n",
       "    <tr>\n",
       "      <th>995</th>\n",
       "      <td>217.175.155.56</td>\n",
       "      <td>Mozilla/5.0 (iPad; CPU OS 11_2_2 like Mac OS X...</td>\n",
       "      <td>529</td>\n",
       "      <td>304</td>\n",
       "      <td>REQUEST_HEADERS</td>\n",
       "      <td>REQUEST_HEADERS.If-None-Match</td>\n",
       "      <td>\\\"5a64b7a5-3bbc\\\"</td>\n",
       "      <td>RU</td>\n",
       "      <td>2</td>\n",
       "    </tr>\n",
       "    <tr>\n",
       "      <th>996</th>\n",
       "      <td>90.151.92.50</td>\n",
       "      <td>Mozilla/5.0 (Linux; Android 4.4.2; Spark 2 Bui...</td>\n",
       "      <td>877</td>\n",
       "      <td>404</td>\n",
       "      <td>REQUEST_HEADERS</td>\n",
       "      <td>REQUEST_HEADERS.User-Agent</td>\n",
       "      <td>Mozilla/5.0 (Linux; Android 4.4.2; Spark 2 Bui...</td>\n",
       "      <td>RU</td>\n",
       "      <td>3</td>\n",
       "    </tr>\n",
       "  </tbody>\n",
       "</table>\n",
       "<p>997 rows × 9 columns</p>\n",
       "</div>"
      ],
      "text/plain": [
       "          CLIENT_IP                                   CLIENT_USERAGENT  \\\n",
       "0     188.138.92.55                                                NaN   \n",
       "1    93.158.215.131  Mozilla/5.0 (Windows NT 6.3; WOW64; rv:45.0) G...   \n",
       "2    176.123.240.64  Mozilla/5.0 (Windows NT 6.0; rv:34.0) Gecko/20...   \n",
       "3       73.78.81.63  Mozilla/5.0 (Windows NT 6.3; WOW64; rv:45.0) G...   \n",
       "4       66.102.9.44  Mozilla/5.0 (Linux; Android 4.4.2; GT-N7100 Bu...   \n",
       "..              ...                                                ...   \n",
       "992   37.46.129.136  User-Agent: Mozilla/5.0 (Windows NT 10.0; WOW6...   \n",
       "993  83.220.239.206  Mozilla/5.0 (iPhone; CPU iPhone OS 10_2 like M...   \n",
       "994  217.175.140.69  Mozilla/5.0 (Windows NT 6.1; WOW64; Trident/7....   \n",
       "995  217.175.155.56  Mozilla/5.0 (iPad; CPU OS 11_2_2 like Mac OS X...   \n",
       "996    90.151.92.50  Mozilla/5.0 (Linux; Android 4.4.2; Spark 2 Bui...   \n",
       "\n",
       "    REQUEST_SIZE RESPONSE_CODE MATCHED_VARIABLE_SRC  \\\n",
       "0            166           404          REQUEST_URI   \n",
       "1            431           302     REQUEST_GET_ARGS   \n",
       "2            395           403         REQUEST_PATH   \n",
       "3            387           302     REQUEST_GET_ARGS   \n",
       "4           1733           404     REQUEST_GET_ARGS   \n",
       "..           ...           ...                  ...   \n",
       "992          772           200    REQUEST_POST_ARGS   \n",
       "993          966           404     REQUEST_GET_ARGS   \n",
       "994         3006           200     RESPONSE_HEADERS   \n",
       "995          529           304      REQUEST_HEADERS   \n",
       "996          877           404      REQUEST_HEADERS   \n",
       "\n",
       "                  MATCHED_VARIABLE_NAME  \\\n",
       "0                                   NaN   \n",
       "1                                   url   \n",
       "2                                   NaN   \n",
       "3                                   url   \n",
       "4                    REQUEST_GET_ARGS._   \n",
       "..                                  ...   \n",
       "992               REQUEST_POST_ARGS.rid   \n",
       "993                  REQUEST_GET_ARGS._   \n",
       "994  RESPONSE_HEADERS.AN-X-Request-Uuid   \n",
       "995       REQUEST_HEADERS.If-None-Match   \n",
       "996          REQUEST_HEADERS.User-Agent   \n",
       "\n",
       "                                MATCHED_VARIABLE_VALUE  \\\n",
       "0                     //tmp/20160925122692indo.php.vob   \n",
       "1               http://www.galitsios.gr/?option=com_k2   \n",
       "2         /opinion/page1_3.php\\\" and \\\"\\\"x\\\"\\\"=\\\"\\\"x\\\"   \n",
       "3              http://thereviewgroup.org/boss-capital/   \n",
       "4                                        1516288084140   \n",
       "..                                                 ...   \n",
       "992                                         3553370207   \n",
       "993                                      1516232259174   \n",
       "994               4b8666d5-746b-4b35-a70b-b0a9b9febcd0   \n",
       "995                                  \\\"5a64b7a5-3bbc\\\"   \n",
       "996  Mozilla/5.0 (Linux; Android 4.4.2; Spark 2 Bui...   \n",
       "\n",
       "    preproc_CLIENT_IP_country  agent_cluster  \n",
       "0                          DE             13  \n",
       "1                          NL             10  \n",
       "2                          KG             10  \n",
       "3                          US             10  \n",
       "4                          US              3  \n",
       "..                        ...            ...  \n",
       "992                        RU              6  \n",
       "993                        RU              2  \n",
       "994                        RU              1  \n",
       "995                        RU              2  \n",
       "996                        RU              3  \n",
       "\n",
       "[997 rows x 9 columns]"
      ]
     },
     "execution_count": 31,
     "metadata": {},
     "output_type": "execute_result"
    }
   ],
   "source": [
    "df"
   ]
  },
  {
   "cell_type": "code",
   "execution_count": 32,
   "id": "4720c6aa-266e-41d5-857a-203c0bdfda19",
   "metadata": {
    "tags": []
   },
   "outputs": [
    {
     "data": {
      "text/plain": [
       "24     Mozilla/5.0 (Windows NT 10.0; WOW64) AppleWebK...\n",
       "36     Mozilla/5.0 (Windows NT 6.3) AppleWebKit/537.3...\n",
       "38     Mozilla/5.0 (Windows NT 5.1) AppleWebKit/537.3...\n",
       "47     Mozilla/5.0 (Windows NT 6.1; WOW64) AppleWebKi...\n",
       "57     Mozilla/5.0 (Windows NT 10.0; WOW64) AppleWebK...\n",
       "                             ...                        \n",
       "905    Mozilla/5.0 (Windows NT 6.1; WOW64) AppleWebKi...\n",
       "912    Mozilla/5.0 (Windows NT 6.1; WOW64) AppleWebKi...\n",
       "921    Mozilla/5.0 (Windows NT 6.1; WOW64) AppleWebKi...\n",
       "935    Mozilla/5.0 (Windows NT 6.1; WOW64) AppleWebKi...\n",
       "957    Mozilla/5.0 (Windows NT 10.0; WOW64) AppleWebK...\n",
       "Name: CLIENT_USERAGENT, Length: 61, dtype: object"
      ]
     },
     "execution_count": 32,
     "metadata": {},
     "output_type": "execute_result"
    }
   ],
   "source": [
    "#Можно посмотреть представителей каждого кластера\n",
    "agent_cluster = 0\n",
    "df[df['agent_cluster'] == agent_cluster]['CLIENT_USERAGENT']"
   ]
  },
  {
   "cell_type": "code",
   "execution_count": 33,
   "id": "e59be775-54fa-4caf-bec5-b4c796ca36a2",
   "metadata": {
    "tags": []
   },
   "outputs": [],
   "source": [
    "########## ДОБАВИТЬ ВИЗУАЛИЗАЦИЮ КЛАСТЕРОВ ПО ПЕРВЫМ 3м самым частотным словам"
   ]
  },
  {
   "cell_type": "markdown",
   "id": "acac4e6e-271b-4072-bdcc-aa42052a2bc5",
   "metadata": {},
   "source": [
    "## Проанализируем значение колонки MATCHED_VARIABLE_SRC"
   ]
  },
  {
   "cell_type": "code",
   "execution_count": 34,
   "id": "24600939-d1b3-4054-b321-a27175c7042a",
   "metadata": {
    "tags": []
   },
   "outputs": [],
   "source": [
    "#По анализу присутствуют запросы с ошибкой, создадим отдельный признак классификатор на запрос с ошибкой\n",
    "valid_MATCHED_VARIABLE_SRC = ['REQUEST_GET_ARGS','REQUEST_COOKIES','REQUEST_HEADERS','REQUEST_PATH','REQUEST_ARGS','RESPONSE_HEADERS','REQUEST_POST_ARGS','REQUEST_URI','REQUEST_XML','REQUEST_ARGS_KEYS','REQUEST_JSON','CLIENT_USERAGENT','CLIENT_SESSION_ID','REQUEST_QUERY','RESPONSE_BODY','REQUEST_CONTENT_TYPE','REQUEST_FILES','CLIENT_IP']\n",
    "df['preproc_MATCHED_VARIABLE_SRC_valid'] = df['MATCHED_VARIABLE_SRC'].apply(lambda x: traffic_preprocess.check_valid_matched_variable_src(x))"
   ]
  },
  {
   "cell_type": "markdown",
   "id": "03233560-45d5-4a73-8815-fdd54c968a60",
   "metadata": {},
   "source": [
    "REQUEST_GET_ARGS: Этот запрос представляет аргументы GET-запроса, которые передаются в URL после знака вопроса (?). Они могут содержать параметры запроса, которые используются для передачи информации на сервер.\n",
    "\n",
    "REQUEST_COOKIES: Этот запрос представляет куки (cookies), которые являются небольшими данными, хранимыми на компьютере пользователя, и отправляются на сервер в каждом запросе. Куки могут использоваться для сохранения информации о состоянии сеанса пользователя или для предоставления персонализированного контента.\n",
    "\n",
    "REQUEST_HEADERS: Этот запрос содержит заголовки (headers) HTTP-запроса, которые могут содержать информацию о браузере, языке, сеансе пользователя и других параметрах запроса.\n",
    "\n",
    "REQUEST_PATH: Этот запрос представляет путь (path) URL-адреса, который указывает на конкретный ресурс на сервере. Например, в URL \"http://www.example.com/page1\" путь \"/page1\" указывает на страницу \"page1\".\n",
    "\n",
    "REQUEST_ARGS: Этот запрос представляет аргументы запроса, которые передаются в URL в виде данных после знака вопроса (?). Они могут содержать параметры запроса и их значения, которые используются для передачи информации на сервер.\n",
    "\n",
    "RESPONSE_HEADERS: Этот запрос содержит заголовки (headers) HTTP-ответа, которые могут содержать информацию о коде состояния, типе контента, сроке действия кеша и других параметрах ответа.\n",
    "\n",
    "REQUEST_POST_ARGS: Этот запрос представляет аргументы POST-запроса, которые передаются в теле запроса. Они могут содержать параметры запроса, которые используются для передачи информации на сервер.\n",
    "\n",
    "REQUEST_URI: Этот запрос представляет URI (Uniform Resource Identifier), который является универсальным идентификатором ресурса. URI может включать URL, URN (Uniform Resource Name) или URC (Uniform Resource Citation).\n",
    "\n",
    "REQUEST_XML: Этот запрос представляет XML-данные, которые отправляются на сервер в теле запроса. XML (eXtensible Markup Language) - это язык разметки для представления структурированных данных.\n",
    "\n",
    "REQUEST_ARGS_KEYS: Этот запрос представляет ключи аргументов запроса, которые передаются в URL в виде данных после знака вопроса (?). Они могут содержать параметры запроса, которые используются для передачи информации на сервер.\n",
    "\n",
    "REQUEST_JSON: Этот запрос представляет данные в формате JSON (JavaScript Object Notation), которые отправляются на сервер в теле запроса. JSON - это легкий формат обмена данными, основанный на подмножестве синтаксиса JavaScript.\n",
    "\n",
    "CLIENT_USERAGENT: Этот запрос представляет заголовок User-Agent, который содержит информацию о клиентском программном обеспечении, отправляющем запрос.\n",
    "\n",
    "CLIENT_SESSION_ID: Этот запрос представляет идентификатор сеанса пользователя, который может использоваться для отслеживания активности пользователей на сервере.\n",
    "\n",
    "REQUEST_QUERY: Этот запрос представляет параметры запроса, которые передаются в URL в виде данных после знака вопроса (?). Они могут содержать параметры запроса, которые используются для передачи информации на сервер.\n",
    "\n",
    "RESPONSE_BODY: Этот запрос представляет тело (body) HTTP-ответа, которое содержит основное содержимое ответа.\n",
    "\n",
    "REQUEST_CONTENT_TYPE: Этот запрос представляет заголовок Content-Type, который определяет тип содержимого, отправляемого или получаемого в запросе.\n",
    "\n",
    "REQUEST_FILES: Этот запрос представляет файлы, которые отправляются на сервер вместе с запросом. Файлы обычно загружаются с помощью формы на веб-странице.\n",
    "\n",
    "CLIENT_IP: Этот запрос представляет IP-адрес клиента, который отправляет запрос.\n",
    "\n",
    "Запросы с ошибкой\n",
    "REQUEST_METHOD\\';\\'REQUEST_CONTE\n",
    "REQUEST_URI\\';\\'REQUEST_ARGS\n",
    "REQUEST_METHOD\\';\\'REQUEST_HEADE"
   ]
  },
  {
   "cell_type": "code",
   "execution_count": 35,
   "id": "6e1e836f-b721-45e9-af76-6dc0df63e739",
   "metadata": {
    "tags": []
   },
   "outputs": [
    {
     "data": {
      "text/plain": [
       "MATCHED_VARIABLE_SRC\n",
       "REQUEST_URI\\';\\'REQUEST_ARGS        14\n",
       "REQUEST_METHOD\\';\\'REQUEST_CONTE    12\n",
       "REQUEST_METHOD\\';\\'REQUEST_HEADE     4\n",
       "Name: count, dtype: int64"
      ]
     },
     "execution_count": 35,
     "metadata": {},
     "output_type": "execute_result"
    }
   ],
   "source": [
    "#Проверяем\n",
    "df[df['preproc_MATCHED_VARIABLE_SRC_valid'] == False]['MATCHED_VARIABLE_SRC'].value_counts()"
   ]
  },
  {
   "cell_type": "markdown",
   "id": "5e0c8142-f368-46e9-a606-cbb108762313",
   "metadata": {},
   "source": [
    "## Проанализируем значение колонки REQUEST_SIZE"
   ]
  },
  {
   "cell_type": "code",
   "execution_count": 36,
   "id": "c68a539d-4cf6-4cd2-8593-6ad7776b8f83",
   "metadata": {
    "tags": []
   },
   "outputs": [
    {
     "data": {
      "text/plain": [
       "REQUEST_SIZE\n",
       "143      6\n",
       "1522     5\n",
       "777      5\n",
       "2402     5\n",
       "952      4\n",
       "        ..\n",
       "83003    1\n",
       "1738     1\n",
       "300      1\n",
       "1707     1\n",
       "3006     1\n",
       "Name: count, Length: 767, dtype: int64"
      ]
     },
     "execution_count": 36,
     "metadata": {},
     "output_type": "execute_result"
    }
   ],
   "source": [
    "df['REQUEST_SIZE'].value_counts()"
   ]
  },
  {
   "cell_type": "code",
   "execution_count": 37,
   "id": "7e02185f-5cd3-40d9-b53f-bcf17f5e2b40",
   "metadata": {
    "tags": []
   },
   "outputs": [
    {
     "data": {
      "text/plain": [
       "Series([], Name: REQUEST_SIZE, dtype: object)"
      ]
     },
     "execution_count": 37,
     "metadata": {},
     "output_type": "execute_result"
    }
   ],
   "source": [
    "#Проверим список на наличие значений настандартных типов\n",
    "#Вывод Список пуст, значит все значения являются целыми числами\n",
    "df.loc[df['REQUEST_SIZE'].astype(int).astype(str) != df['REQUEST_SIZE'], 'REQUEST_SIZE']"
   ]
  },
  {
   "cell_type": "code",
   "execution_count": 38,
   "id": "e48c7a1f-93bb-454e-b451-058eab6a0064",
   "metadata": {
    "tags": []
   },
   "outputs": [],
   "source": [
    "#df['REQUEST_SIZE'] = df['REQUEST_SIZE'].astype(int)\n",
    "df['preproc_REQUEST_SIZE'] = df['REQUEST_SIZE'].apply(lambda x: traffic_preprocess.request_size_preproc(x))"
   ]
  },
  {
   "cell_type": "markdown",
   "id": "340ad9df-e9d4-4b34-9342-5734ac01d186",
   "metadata": {},
   "source": [
    "## Проанализируем значение колонки RESPONSE_CODE"
   ]
  },
  {
   "cell_type": "code",
   "execution_count": 39,
   "id": "22e6362b-088c-461f-b735-bca8bd7f0ed2",
   "metadata": {
    "tags": []
   },
   "outputs": [
    {
     "data": {
      "text/plain": [
       "RESPONSE_CODE\n",
       "200    422\n",
       "404    374\n",
       "302    112\n",
       "403     22\n",
       "304     22\n",
       "504     14\n",
       "301      8\n",
       "204      7\n",
       "502      6\n",
       "400      3\n",
       "503      2\n",
       "307      1\n",
       "401      1\n",
       "500      1\n",
       "206      1\n",
       "303      1\n",
       "Name: count, dtype: int64"
      ]
     },
     "execution_count": 39,
     "metadata": {},
     "output_type": "execute_result"
    }
   ],
   "source": [
    "df['RESPONSE_CODE'].value_counts()"
   ]
  },
  {
   "cell_type": "markdown",
   "id": "b3cc81c7-3ceb-4933-aa5c-e33d12a76728",
   "metadata": {},
   "source": [
    "Описание RESPONSE_CODE\n",
    "\n",
    "200: OK - Запрос успешно обработан, ответ содержит запрашиваемые данные.\n",
    "\n",
    "404: Not Found - Ресурс не найден. Сервер не может найти запрошенную страницу.\n",
    "\n",
    "302: Found - Запрошенный ресурс временно перемещен на другой URL.\n",
    "\n",
    "403: Forbidden - Доступ к запрашиваемому ресурсу запрещен.\n",
    "\n",
    "304: Not Modified - Ресурс не изменился с момента последнего запроса. Клиент может использовать закэшированную версию.\n",
    "\n",
    "504: Gateway Timeout - Сервер, действуя в качестве шлюза или прокси-сервера, не удалось получить ответ от сервера, на который он \n",
    "делает запрос.\n",
    "\n",
    "301: Moved Permanently - Запрашиваемый ресурс перемещен на новый URL постоянно. Браузеры должны обновить закладки, чтобы использовать новый URL.\n",
    "\n",
    "502: Bad Gateway - Сервер, действуя в качестве шлюза или прокси-сервера, получил недействительный ответ от сервера выше по иерархии.\n",
    "\n",
    "500: Internal Server Error - Внутренняя ошибка сервера. Общий код ответа, который указывает на проблемы на стороне сервера.\n",
    "\n",
    "400: Bad Request - Сервер не может обработать запрос из-за недействительного синтаксиса клиента.\n",
    "\n",
    "204: No Content - Запрос успешно обработан, но ответ не содержит содержимого.\n",
    "\n",
    "206: Partial Content - Запрос успешно обработан, но ответ содержит только часть запрашиваемого ресурса.\n",
    "\n",
    "307: Temporary Redirect - Заголовок Location указывает на другой URL, который должен быть использован в будущих запросах. Запросы должны использовать тот же метод HTTP.\n",
    "\n",
    "405: Method Not Allowed - Запрашиваемый ресурс не поддерживает указанный метод HTTP.\n",
    "\n",
    "503: Service Unavailable - Сервер временно недоступен. Обычно это связано с перегрузкой или временным обслуживанием сервера.\n",
    "\n",
    "401: Unauthorized - Требуется аутентификация для доступа к запрашиваемому ресурсу. Клиент должен отправить дополнительные данные для выполнения запроса.\n",
    "\n",
    "303: See Other - Браузер должен выполнять GET-запрос по указанному URL.\n",
    "\n",
    "207: Multi-Status - Сервер отправил часть успешного ответа, а часть была пропущена или как-то изменена.\n",
    "\n",
    "429: Too Many Requests - Пользователь отправил слишком много запросов в заданное время.\n",
    "\n",
    "Ошибочные коды:\n",
    "\n",
    "Код 0 - ошибка"
   ]
  },
  {
   "cell_type": "code",
   "execution_count": 40,
   "id": "2200726c-990e-4016-adf9-d29ec52885c7",
   "metadata": {
    "tags": []
   },
   "outputs": [
    {
     "data": {
      "text/html": [
       "<div>\n",
       "<style scoped>\n",
       "    .dataframe tbody tr th:only-of-type {\n",
       "        vertical-align: middle;\n",
       "    }\n",
       "\n",
       "    .dataframe tbody tr th {\n",
       "        vertical-align: top;\n",
       "    }\n",
       "\n",
       "    .dataframe thead th {\n",
       "        text-align: right;\n",
       "    }\n",
       "</style>\n",
       "<table border=\"1\" class=\"dataframe\">\n",
       "  <thead>\n",
       "    <tr style=\"text-align: right;\">\n",
       "      <th></th>\n",
       "      <th>CLIENT_IP</th>\n",
       "      <th>CLIENT_USERAGENT</th>\n",
       "      <th>REQUEST_SIZE</th>\n",
       "      <th>RESPONSE_CODE</th>\n",
       "      <th>MATCHED_VARIABLE_SRC</th>\n",
       "      <th>MATCHED_VARIABLE_NAME</th>\n",
       "      <th>MATCHED_VARIABLE_VALUE</th>\n",
       "      <th>preproc_CLIENT_IP_country</th>\n",
       "      <th>agent_cluster</th>\n",
       "      <th>preproc_MATCHED_VARIABLE_SRC_valid</th>\n",
       "      <th>preproc_REQUEST_SIZE</th>\n",
       "    </tr>\n",
       "  </thead>\n",
       "  <tbody>\n",
       "  </tbody>\n",
       "</table>\n",
       "</div>"
      ],
      "text/plain": [
       "Empty DataFrame\n",
       "Columns: [CLIENT_IP, CLIENT_USERAGENT, REQUEST_SIZE, RESPONSE_CODE, MATCHED_VARIABLE_SRC, MATCHED_VARIABLE_NAME, MATCHED_VARIABLE_VALUE, preproc_CLIENT_IP_country, agent_cluster, preproc_MATCHED_VARIABLE_SRC_valid, preproc_REQUEST_SIZE]\n",
       "Index: []"
      ]
     },
     "execution_count": 40,
     "metadata": {},
     "output_type": "execute_result"
    }
   ],
   "source": [
    "#Проверим что за код 0\n",
    "df[df['RESPONSE_CODE']=='0']"
   ]
  },
  {
   "cell_type": "code",
   "execution_count": 41,
   "id": "2b4ab14c-cdc5-4f8f-a0d0-632dff5e5ec0",
   "metadata": {
    "tags": []
   },
   "outputs": [],
   "source": [
    "#По анализу присутствуют запросы с ошибкой, создадим отдельный признак классификатор на запрос с ошибкой\n",
    "#valid_RESPONSE_CODE = ['200','404','302','403','304','504','301','502','500','400','204','206','307','405','503','401','303','207','429']\n",
    "df['preproc_RESPONSE_CODE_valid'] = df['RESPONSE_CODE'].apply(lambda x: traffic_preprocess.check_valid_response_code(x))"
   ]
  },
  {
   "cell_type": "code",
   "execution_count": 42,
   "id": "fd56d8ed-8403-4f0c-b9eb-add358513f72",
   "metadata": {
    "tags": []
   },
   "outputs": [
    {
     "data": {
      "text/html": [
       "<div>\n",
       "<style scoped>\n",
       "    .dataframe tbody tr th:only-of-type {\n",
       "        vertical-align: middle;\n",
       "    }\n",
       "\n",
       "    .dataframe tbody tr th {\n",
       "        vertical-align: top;\n",
       "    }\n",
       "\n",
       "    .dataframe thead th {\n",
       "        text-align: right;\n",
       "    }\n",
       "</style>\n",
       "<table border=\"1\" class=\"dataframe\">\n",
       "  <thead>\n",
       "    <tr style=\"text-align: right;\">\n",
       "      <th></th>\n",
       "      <th>CLIENT_IP</th>\n",
       "      <th>CLIENT_USERAGENT</th>\n",
       "      <th>REQUEST_SIZE</th>\n",
       "      <th>RESPONSE_CODE</th>\n",
       "      <th>MATCHED_VARIABLE_SRC</th>\n",
       "      <th>MATCHED_VARIABLE_NAME</th>\n",
       "      <th>MATCHED_VARIABLE_VALUE</th>\n",
       "      <th>preproc_CLIENT_IP_country</th>\n",
       "      <th>agent_cluster</th>\n",
       "      <th>preproc_MATCHED_VARIABLE_SRC_valid</th>\n",
       "      <th>preproc_REQUEST_SIZE</th>\n",
       "      <th>preproc_RESPONSE_CODE_valid</th>\n",
       "    </tr>\n",
       "  </thead>\n",
       "  <tbody>\n",
       "  </tbody>\n",
       "</table>\n",
       "</div>"
      ],
      "text/plain": [
       "Empty DataFrame\n",
       "Columns: [CLIENT_IP, CLIENT_USERAGENT, REQUEST_SIZE, RESPONSE_CODE, MATCHED_VARIABLE_SRC, MATCHED_VARIABLE_NAME, MATCHED_VARIABLE_VALUE, preproc_CLIENT_IP_country, agent_cluster, preproc_MATCHED_VARIABLE_SRC_valid, preproc_REQUEST_SIZE, preproc_RESPONSE_CODE_valid]\n",
       "Index: []"
      ]
     },
     "execution_count": 42,
     "metadata": {},
     "output_type": "execute_result"
    }
   ],
   "source": [
    "#Проверяем\n",
    "df[df['preproc_RESPONSE_CODE_valid'] == False]"
   ]
  },
  {
   "cell_type": "code",
   "execution_count": 43,
   "id": "bb5bdda5-8005-4995-87cd-29110d2f97f6",
   "metadata": {
    "tags": []
   },
   "outputs": [],
   "source": [
    "df['preproc_RESPONSE_CODE'] = df['RESPONSE_CODE'].apply(lambda x: traffic_preprocess.response_code_preproc(x))"
   ]
  },
  {
   "cell_type": "code",
   "execution_count": 44,
   "id": "0fa032b5-5839-4120-b0ec-2d2986fd484a",
   "metadata": {
    "tags": []
   },
   "outputs": [],
   "source": [
    "#list(dict(df['RESPONSE_CODE'].value_counts()).keys())"
   ]
  },
  {
   "cell_type": "markdown",
   "id": "b814ce2d-c00d-48a4-bff4-d63eb6290b84",
   "metadata": {},
   "source": [
    "## Проанализируем значение колонки MATCHED_VARIABLE_NAME"
   ]
  },
  {
   "cell_type": "code",
   "execution_count": 45,
   "id": "2e9814dc-2356-40be-8eac-9bd947631144",
   "metadata": {
    "tags": []
   },
   "outputs": [
    {
     "data": {
      "text/plain": [
       "MATCHED_VARIABLE_NAME\n",
       "REQUEST_GET_ARGS._                198\n",
       "REQUEST_COOKIES.LtpaToken2         80\n",
       "REQUEST_PATH                       61\n",
       "REQUEST_COOKIES.User-cn            42\n",
       "action                             35\n",
       "                                 ... \n",
       "cat                                 1\n",
       "RESPONSE_HEADERS.S                  1\n",
       "REQUEST_COOKIES.e                   1\n",
       "REQUEST_POST_ARGS.csrftoken         1\n",
       "REQUEST_HEADERS.X-BlueCoat-Via      1\n",
       "Name: count, Length: 241, dtype: int64"
      ]
     },
     "execution_count": 45,
     "metadata": {},
     "output_type": "execute_result"
    }
   ],
   "source": [
    "df['MATCHED_VARIABLE_NAME'].value_counts()"
   ]
  },
  {
   "cell_type": "code",
   "execution_count": 46,
   "id": "3930d8e4-f942-4c56-ad73-17f3c7d2decc",
   "metadata": {
    "tags": []
   },
   "outputs": [],
   "source": [
    "## Проанализируем значение колонки MATCHED_VARIABLE_VALUE"
   ]
  },
  {
   "cell_type": "code",
   "execution_count": 47,
   "id": "7f8ffe84-8c3b-4697-89ce-c947db495a31",
   "metadata": {
    "tags": []
   },
   "outputs": [
    {
     "data": {
      "text/plain": [
       "MATCHED_VARIABLE_VALUE\n",
       "//tmp/20160925122692indo.php.vob                                                                                                                                                                                                                                                                                                                                                                                                                                                                                                                                                                                                                                    1\n",
       "/tmp/W74wrX430aF02Fof.php                                                                                                                                                                                                                                                                                                                                                                                                                                                                                                                                                                                                                                           1\n",
       "156712478                                                                                                                                                                                                                                                                                                                                                                                                                                                                                                                                                                                                                                                           1\n",
       "1516513738441                                                                                                                                                                                                                                                                                                                                                                                                                                                                                                                                                                                                                                                       1\n",
       "/ruubikcms/extra/image.php?f=../../../../../../../../../winnt/win.ini\\';\\'../../../../../../../../../winnt/win.ini                                                                                                                                                                                                                                                                                                                                                                                                                                                                                                                                                  1\n",
       "                                                                                                                                                                                                                                                                                                                                                                                                                                                                                                                                                                                                                                                                   ..\n",
       "rsya                                                                                                                                                                                                                                                                                                                                                                                                                                                                                                                                                                                                                                                                1\n",
       "1400729460</link                                                                                                                                                                                                                                                                                                                                                                                                                                                                                                                                                                                                                                                    1\n",
       "CZb08Cw2htFLBDep oDeWN/F/dH0xopiycW/0POdNbOGFHx4OaS1LBc co8X8sHdbwQFWyZLcRVGF8NuSB6LBpEfTWvKRY2gZvmGJjXq1Caa2OIqThZWWDrBMNT5Y7S4nM uvwPPhwBO3MoSXIl2t8yxmuDb51jm5n00DeG/PtiwR6LVShVuW7aGCGW0HO/GED7IOuQEsekmfHrHc sJAE8CF4VUGEwmPCFdVsZuisz4n0mEdJ9SR9rxKAkWOzN2cHRWVQ374BBqxdyzchWGpbF7Pe7E1kAM4LcqoHhMlaswaQqOQLUzKeCQxo1oCWkKmS2217WrA4BJm/SliP6Du9oZyllX3kdZjRMfXSUIw1ha5dGMKZNb5 CJnTgV59ltIa 6PxOCk eb5AnQoMkRvuWM5bXYYLYuL9/3cD9XNzu2O4ECfjIThe5xn0bEOPWxgYaimsipsCa/ObGWeDgh/Y GEqc5oVzhdxr4UcZLkID7 aM/zYrz/Pjb6T7gvDKloun5yVDnCLmBoe4oQOCKqGqKxFy3vTxMh8olWMygvHC xRDuL4Gw1f8aYffBiI7VYopezzqDBVpPqBNN60vqiP9b1yPur7xta/hHLd3ZpSVPb/u yoA4n3Xj7ndq6Hbl    1\n",
       "1516687361590                                                                                                                                                                                                                                                                                                                                                                                                                                                                                                                                                                                                                                                       1\n",
       "Mozilla/5.0 (Linux; Android 4.4.2; Spark 2 Build/KVT49L) AppleWebKit/537.36 (KHTML, like Gecko) Chrome/62.0.3202.94 YaBrowser/17.11.0.526.00 Mobile Safari/537.36                                                                                                                                                                                                                                                                                                                                                                                                                                                                                                   1\n",
       "Name: count, Length: 997, dtype: int64"
      ]
     },
     "execution_count": 47,
     "metadata": {},
     "output_type": "execute_result"
    }
   ],
   "source": [
    "df['MATCHED_VARIABLE_VALUE'].value_counts()"
   ]
  },
  {
   "cell_type": "markdown",
   "id": "d338b88c-5e1a-4047-b83d-55dd1333ba48",
   "metadata": {},
   "source": [
    "## Для таких неструктурированных данных, лучше подойдут нейронные сети, будет использовать получать эмбеддинги"
   ]
  },
  {
   "cell_type": "code",
   "execution_count": null,
   "id": "374ef2bc-f8de-4898-b655-2573d44e47e8",
   "metadata": {},
   "outputs": [],
   "source": []
  }
 ],
 "metadata": {
  "kernelspec": {
   "display_name": "Python 3 (ipykernel)",
   "language": "python",
   "name": "python3"
  },
  "language_info": {
   "codemirror_mode": {
    "name": "ipython",
    "version": 3
   },
   "file_extension": ".py",
   "mimetype": "text/x-python",
   "name": "python",
   "nbconvert_exporter": "python",
   "pygments_lexer": "ipython3",
   "version": "3.9.5"
  }
 },
 "nbformat": 4,
 "nbformat_minor": 5
}
