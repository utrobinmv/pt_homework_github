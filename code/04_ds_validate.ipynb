{
 "cells": [
  {
   "cell_type": "markdown",
   "id": "3fdda39e-16be-4a34-b094-afefb36b727d",
   "metadata": {},
   "source": [
    "# Этап 04 Проверка работу pipeline"
   ]
  },
  {
   "cell_type": "code",
   "execution_count": 1,
   "id": "30458238-0c9a-4245-b378-2f5db13d2445",
   "metadata": {
    "tags": []
   },
   "outputs": [],
   "source": [
    "#!pip install catboost"
   ]
  },
  {
   "cell_type": "code",
   "execution_count": 2,
   "id": "a5ffe7aa-b67d-4305-9469-9cb6e21db9ee",
   "metadata": {
    "tags": []
   },
   "outputs": [
    {
     "name": "stderr",
     "output_type": "stream",
     "text": [
      "/home/joefox/.pyvenv/base/lib/python3.9/site-packages/tqdm/auto.py:21: TqdmWarning: IProgress not found. Please update jupyter and ipywidgets. See https://ipywidgets.readthedocs.io/en/stable/user_install.html\n",
      "  from .autonotebook import tqdm as notebook_tqdm\n"
     ]
    }
   ],
   "source": [
    "import pickle\n",
    "from tqdm.auto import tqdm\n",
    "import numpy as np\n",
    "import pandas as pd\n",
    "from sklearn import cluster\n",
    "import matplotlib.pyplot as plt"
   ]
  },
  {
   "cell_type": "code",
   "execution_count": 3,
   "id": "cf227e54-cc96-4c73-be59-d1cb3a2c6250",
   "metadata": {
    "tags": []
   },
   "outputs": [],
   "source": [
    "from src.preprocess import TrafficPreprocess"
   ]
  },
  {
   "cell_type": "code",
   "execution_count": 4,
   "id": "972d6056-92ee-40b3-8dec-8aecb5b86492",
   "metadata": {
    "tags": []
   },
   "outputs": [],
   "source": [
    "#Загрузим данные\n",
    "df = pd.read_csv('data/part_10.csv.gz',compression='gzip')"
   ]
  },
  {
   "cell_type": "code",
   "execution_count": 5,
   "id": "a5847d91-0a8b-4b5c-a604-16f3521dcb5b",
   "metadata": {
    "tags": []
   },
   "outputs": [],
   "source": [
    "df = df[:10]"
   ]
  },
  {
   "cell_type": "code",
   "execution_count": 6,
   "id": "f1e113f1-b044-452c-8185-b8931a48d211",
   "metadata": {
    "tags": []
   },
   "outputs": [],
   "source": [
    "#Инициализируем класс Препроцессинга и загрузим модели\n",
    "traffic_preprocess = TrafficPreprocess()\n",
    "traffic_preprocess.agent_model_load()\n",
    "traffic_preprocess.load_models_etap_02()\n",
    "traffic_preprocess.load_models_etap_03()\n",
    "traffic_preprocess.load_models_etap_04()"
   ]
  },
  {
   "cell_type": "code",
   "execution_count": 7,
   "id": "3dfbc3ae-9972-436a-ae3e-4eecf5917886",
   "metadata": {
    "tags": []
   },
   "outputs": [
    {
     "name": "stderr",
     "output_type": "stream",
     "text": [
      "10it [00:00, 2025.55it/s]\n"
     ]
    }
   ],
   "source": [
    "#Выполним первый этап препроцессинга данных (выделения признаков)\n",
    "list_result_dict = []\n",
    "for idx,rows in tqdm(df.iterrows()):\n",
    "    data = dict(rows)\n",
    "    #print(data)\n",
    "    result_dict = traffic_preprocess.preprocess_stage_one(data)\n",
    "    list_result_dict.append(result_dict)\n",
    "    #break"
   ]
  },
  {
   "cell_type": "code",
   "execution_count": 8,
   "id": "c354a8a2-aaf5-49b6-b63a-33958357243c",
   "metadata": {
    "tags": []
   },
   "outputs": [],
   "source": [
    "#Загрузим модель кластеризации USER AGENT\n",
    "traffic_preprocess.agent_model_load()"
   ]
  },
  {
   "cell_type": "code",
   "execution_count": 9,
   "id": "148fd31e-afff-4ea3-81a5-7d456488ccdd",
   "metadata": {
    "tags": []
   },
   "outputs": [
    {
     "name": "stderr",
     "output_type": "stream",
     "text": [
      "100%|██████████| 10/10 [00:00<00:00, 15.53it/s]\n"
     ]
    }
   ],
   "source": [
    "#Выполним второй этап препроцессинга данных (выделения признаков), и удалим записи с неверным IP\n",
    "add_result_dict = []\n",
    "for result_dict in tqdm(list_result_dict):\n",
    "    result_dict = traffic_preprocess.preprocess_stage_two(result_dict)\n",
    "    if result_dict['RIGHT_CLIENT_IP'] == result_dict['CLIENT_IP']:\n",
    "        add_result_dict.append(result_dict)\n",
    "    #break\n",
    "list_result_dict.clear()\n",
    "del(list_result_dict)"
   ]
  },
  {
   "cell_type": "code",
   "execution_count": 10,
   "id": "20f1a5c7-51e1-4de5-a16f-617e69b6e066",
   "metadata": {},
   "outputs": [],
   "source": [
    "df = pd.DataFrame(add_result_dict)"
   ]
  },
  {
   "cell_type": "code",
   "execution_count": 11,
   "id": "af030d42-7e37-4e46-8290-ff7f97ec1a5b",
   "metadata": {
    "tags": []
   },
   "outputs": [
    {
     "name": "stderr",
     "output_type": "stream",
     "text": [
      "100%|██████████| 10/10 [00:00<00:00, 12471.91it/s]\n"
     ]
    }
   ],
   "source": [
    "#Сгенерируем итоговый массив признаков для кластеризации\n",
    "list_futures = []\n",
    "for result_dict in tqdm(add_result_dict):\n",
    "    futures = traffic_preprocess.clusters_create_futures_array(result_dict)\n",
    "    list_futures.append(futures)\n",
    "    #break\n",
    "# add_result_dict.clear()    \n",
    "# del(add_result_dict)"
   ]
  },
  {
   "cell_type": "code",
   "execution_count": 12,
   "id": "77d61940-9aad-4a48-b095-41f49ceaea16",
   "metadata": {
    "tags": []
   },
   "outputs": [
    {
     "name": "stderr",
     "output_type": "stream",
     "text": [
      "100%|██████████| 10/10 [00:00<00:00, 542.66it/s]\n"
     ]
    }
   ],
   "source": [
    "list_trafic_class = []\n",
    "for futures in tqdm(list_futures):\n",
    "    trafic_class = int(traffic_preprocess.trafic_model_predict(futures)[0])\n",
    "    list_trafic_class.append(trafic_class)"
   ]
  },
  {
   "cell_type": "code",
   "execution_count": 13,
   "id": "686f9eb1-5e4d-40ae-8e4a-e10da49235bd",
   "metadata": {
    "tags": []
   },
   "outputs": [
    {
     "data": {
      "text/plain": [
       "int"
      ]
     },
     "execution_count": 13,
     "metadata": {},
     "output_type": "execute_result"
    }
   ],
   "source": [
    "type(trafic_class)"
   ]
  },
  {
   "cell_type": "code",
   "execution_count": 14,
   "id": "3712498f-47ea-4e96-83ef-1c40ff1968d6",
   "metadata": {
    "tags": []
   },
   "outputs": [],
   "source": [
    "df = pd.DataFrame(add_result_dict)"
   ]
  },
  {
   "cell_type": "code",
   "execution_count": 15,
   "id": "501694de-28b4-444f-bc68-f67d9efe935a",
   "metadata": {
    "tags": []
   },
   "outputs": [],
   "source": [
    "df['trafic_class'] = list_trafic_class"
   ]
  },
  {
   "cell_type": "code",
   "execution_count": 16,
   "id": "615df891-7ac3-40d8-844b-51c16ac7edd1",
   "metadata": {
    "tags": []
   },
   "outputs": [
    {
     "data": {
      "text/plain": [
       "(5, 20)"
      ]
     },
     "execution_count": 16,
     "metadata": {},
     "output_type": "execute_result"
    }
   ],
   "source": [
    "#Оставим только аномальный трафик для кластеризации\n",
    "df = df[df['trafic_class'] == 1]\n",
    "df.reset_index(drop=True, inplace=True)\n",
    "df.shape"
   ]
  },
  {
   "cell_type": "code",
   "execution_count": 17,
   "id": "fa1d4f63-c5d1-466e-b67e-6797145a8b65",
   "metadata": {
    "tags": []
   },
   "outputs": [
    {
     "name": "stderr",
     "output_type": "stream",
     "text": [
      "5it [00:00, 219.11it/s]\n"
     ]
    }
   ],
   "source": [
    "list_futures = []\n",
    "for idx, rows in tqdm(df.iterrows()):\n",
    "    result_dict = dict(rows)\n",
    "    futures = traffic_preprocess.clusters_create_futures_array(result_dict)\n",
    "    list_futures.append(futures)"
   ]
  },
  {
   "cell_type": "code",
   "execution_count": 18,
   "id": "eb81e5d4-63f7-44a9-a399-f70baf9938de",
   "metadata": {
    "tags": []
   },
   "outputs": [
    {
     "data": {
      "text/html": [
       "<div>\n",
       "<style scoped>\n",
       "    .dataframe tbody tr th:only-of-type {\n",
       "        vertical-align: middle;\n",
       "    }\n",
       "\n",
       "    .dataframe tbody tr th {\n",
       "        vertical-align: top;\n",
       "    }\n",
       "\n",
       "    .dataframe thead th {\n",
       "        text-align: right;\n",
       "    }\n",
       "</style>\n",
       "<table border=\"1\" class=\"dataframe\">\n",
       "  <thead>\n",
       "    <tr style=\"text-align: right;\">\n",
       "      <th></th>\n",
       "      <th>CLIENT_IP</th>\n",
       "      <th>CLIENT_USERAGENT</th>\n",
       "      <th>REQUEST_SIZE</th>\n",
       "      <th>RESPONSE_CODE</th>\n",
       "      <th>MATCHED_VARIABLE_SRC</th>\n",
       "      <th>MATCHED_VARIABLE_NAME</th>\n",
       "      <th>MATCHED_VARIABLE_VALUE</th>\n",
       "      <th>EVENT_ID</th>\n",
       "      <th>RIGHT_CLIENT_IP</th>\n",
       "      <th>preproc_CLIENT_IP_country</th>\n",
       "      <th>preproc_CLIENT_USERAGENT</th>\n",
       "      <th>preproc_REQUEST_SIZE</th>\n",
       "      <th>preproc_RESPONSE_CODE_valid</th>\n",
       "      <th>preproc_RESPONSE_CODE</th>\n",
       "      <th>preproc_MATCHED_VARIABLE_SRC_valid</th>\n",
       "      <th>agent_vector</th>\n",
       "      <th>agent_cluster</th>\n",
       "      <th>matched_var_name</th>\n",
       "      <th>matched_var_value</th>\n",
       "      <th>trafic_class</th>\n",
       "    </tr>\n",
       "  </thead>\n",
       "  <tbody>\n",
       "    <tr>\n",
       "      <th>0</th>\n",
       "      <td>188.138.92.55</td>\n",
       "      <td>NaN</td>\n",
       "      <td>166</td>\n",
       "      <td>404</td>\n",
       "      <td>REQUEST_URI</td>\n",
       "      <td>NaN</td>\n",
       "      <td>//tmp/20160925122692indo.php.vob</td>\n",
       "      <td>AVdhXFgVq1Ppo9zF5Fxu</td>\n",
       "      <td>188.138.92.55</td>\n",
       "      <td>DE</td>\n",
       "      <td>nan</td>\n",
       "      <td>166</td>\n",
       "      <td>True</td>\n",
       "      <td>404</td>\n",
       "      <td>True</td>\n",
       "      <td>(0, 91)\\t1.0</td>\n",
       "      <td>13</td>\n",
       "      <td>[0.0227108, -0.02569362, 0.0186324, 0.02271437...</td>\n",
       "      <td>[0.02438902, -0.05339618, -0.007877337, -0.030...</td>\n",
       "      <td>1</td>\n",
       "    </tr>\n",
       "    <tr>\n",
       "      <th>1</th>\n",
       "      <td>176.123.240.64</td>\n",
       "      <td>Mozilla/5.0 (Windows NT 6.0; rv:34.0) Gecko/20...</td>\n",
       "      <td>395</td>\n",
       "      <td>403</td>\n",
       "      <td>REQUEST_PATH</td>\n",
       "      <td>NaN</td>\n",
       "      <td>/opinion/page1_3.php\\\" and \\\"\\\"x\\\"\\\"=\\\"\\\"x\\\"</td>\n",
       "      <td>iz7SN2YBrgKk_RFNZW_U</td>\n",
       "      <td>176.123.240.64</td>\n",
       "      <td>KG</td>\n",
       "      <td>mozilla/5.0 (windows nt 6.0; rv:34.0) gecko/20...</td>\n",
       "      <td>395</td>\n",
       "      <td>True</td>\n",
       "      <td>403</td>\n",
       "      <td>True</td>\n",
       "      <td>(0, 149)\\t0.2966918534009629\\n  (0, 121)\\t0....</td>\n",
       "      <td>10</td>\n",
       "      <td>[0.0227108, -0.02569362, 0.0186324, 0.02271437...</td>\n",
       "      <td>[0.0007681509, -0.001140485, -0.013785048, -0....</td>\n",
       "      <td>1</td>\n",
       "    </tr>\n",
       "    <tr>\n",
       "      <th>2</th>\n",
       "      <td>79.183.87.247</td>\n",
       "      <td>Mozilla/5.0 (Linux; Android 6.0; LG-H815 Build...</td>\n",
       "      <td>682</td>\n",
       "      <td>404</td>\n",
       "      <td>REQUEST_HEADERS</td>\n",
       "      <td>REQUEST_HEADERS.User-Agent</td>\n",
       "      <td>Mozilla/5.0 (Linux; Android 6.0; LG-H815 Build...</td>\n",
       "      <td>nFzwHGQB5cBXmMW1y_TD</td>\n",
       "      <td>79.183.87.247</td>\n",
       "      <td>IL</td>\n",
       "      <td>mozilla/5.0 (linux; android 6.0; lg-h815 build...</td>\n",
       "      <td>682</td>\n",
       "      <td>True</td>\n",
       "      <td>404</td>\n",
       "      <td>True</td>\n",
       "      <td>(0, 122)\\t0.16717495982469774\\n  (0, 87)\\t0....</td>\n",
       "      <td>3</td>\n",
       "      <td>[-0.010601818, -0.047821425, 0.016080828, -0.0...</td>\n",
       "      <td>[0.011902368, -0.019429851, -0.004136016, -0.0...</td>\n",
       "      <td>1</td>\n",
       "    </tr>\n",
       "  </tbody>\n",
       "</table>\n",
       "</div>"
      ],
      "text/plain": [
       "        CLIENT_IP                                   CLIENT_USERAGENT  \\\n",
       "0   188.138.92.55                                                NaN   \n",
       "1  176.123.240.64  Mozilla/5.0 (Windows NT 6.0; rv:34.0) Gecko/20...   \n",
       "2   79.183.87.247  Mozilla/5.0 (Linux; Android 6.0; LG-H815 Build...   \n",
       "\n",
       "  REQUEST_SIZE RESPONSE_CODE MATCHED_VARIABLE_SRC       MATCHED_VARIABLE_NAME  \\\n",
       "0          166           404          REQUEST_URI                         NaN   \n",
       "1          395           403         REQUEST_PATH                         NaN   \n",
       "2          682           404      REQUEST_HEADERS  REQUEST_HEADERS.User-Agent   \n",
       "\n",
       "                              MATCHED_VARIABLE_VALUE              EVENT_ID  \\\n",
       "0                   //tmp/20160925122692indo.php.vob  AVdhXFgVq1Ppo9zF5Fxu   \n",
       "1       /opinion/page1_3.php\\\" and \\\"\\\"x\\\"\\\"=\\\"\\\"x\\\"  iz7SN2YBrgKk_RFNZW_U   \n",
       "2  Mozilla/5.0 (Linux; Android 6.0; LG-H815 Build...  nFzwHGQB5cBXmMW1y_TD   \n",
       "\n",
       "  RIGHT_CLIENT_IP preproc_CLIENT_IP_country  \\\n",
       "0   188.138.92.55                        DE   \n",
       "1  176.123.240.64                        KG   \n",
       "2   79.183.87.247                        IL   \n",
       "\n",
       "                            preproc_CLIENT_USERAGENT  preproc_REQUEST_SIZE  \\\n",
       "0                                                nan                   166   \n",
       "1  mozilla/5.0 (windows nt 6.0; rv:34.0) gecko/20...                   395   \n",
       "2  mozilla/5.0 (linux; android 6.0; lg-h815 build...                   682   \n",
       "\n",
       "   preproc_RESPONSE_CODE_valid  preproc_RESPONSE_CODE  \\\n",
       "0                         True                    404   \n",
       "1                         True                    403   \n",
       "2                         True                    404   \n",
       "\n",
       "   preproc_MATCHED_VARIABLE_SRC_valid  \\\n",
       "0                                True   \n",
       "1                                True   \n",
       "2                                True   \n",
       "\n",
       "                                        agent_vector  agent_cluster  \\\n",
       "0                                       (0, 91)\\t1.0             13   \n",
       "1    (0, 149)\\t0.2966918534009629\\n  (0, 121)\\t0....             10   \n",
       "2    (0, 122)\\t0.16717495982469774\\n  (0, 87)\\t0....              3   \n",
       "\n",
       "                                    matched_var_name  \\\n",
       "0  [0.0227108, -0.02569362, 0.0186324, 0.02271437...   \n",
       "1  [0.0227108, -0.02569362, 0.0186324, 0.02271437...   \n",
       "2  [-0.010601818, -0.047821425, 0.016080828, -0.0...   \n",
       "\n",
       "                                   matched_var_value  trafic_class  \n",
       "0  [0.02438902, -0.05339618, -0.007877337, -0.030...             1  \n",
       "1  [0.0007681509, -0.001140485, -0.013785048, -0....             1  \n",
       "2  [0.011902368, -0.019429851, -0.004136016, -0.0...             1  "
      ]
     },
     "execution_count": 18,
     "metadata": {},
     "output_type": "execute_result"
    }
   ],
   "source": [
    "df.head(3)"
   ]
  },
  {
   "cell_type": "code",
   "execution_count": 19,
   "id": "ca84b819-cac5-4e54-ba04-d301f8f52df5",
   "metadata": {
    "tags": []
   },
   "outputs": [
    {
     "name": "stderr",
     "output_type": "stream",
     "text": [
      "100%|██████████| 5/5 [00:00<00:00, 1847.87it/s]\n"
     ]
    }
   ],
   "source": [
    "list_trafic_cluster = []\n",
    "for futures in tqdm(list_futures):\n",
    "    trafic_cluster = int(traffic_preprocess.trafic_cluster_predict(futures)[0])+2\n",
    "    list_trafic_cluster.append(trafic_cluster)"
   ]
  },
  {
   "cell_type": "code",
   "execution_count": 20,
   "id": "fcc0decd-1ba4-4d0b-beb3-4edbad122317",
   "metadata": {
    "tags": []
   },
   "outputs": [],
   "source": [
    "df['trafic_cluster'] = list_trafic_cluster"
   ]
  },
  {
   "cell_type": "code",
   "execution_count": 21,
   "id": "4a61817e-f636-4728-86fc-f3d8be1f1c0e",
   "metadata": {
    "tags": []
   },
   "outputs": [
    {
     "data": {
      "text/html": [
       "<div>\n",
       "<style scoped>\n",
       "    .dataframe tbody tr th:only-of-type {\n",
       "        vertical-align: middle;\n",
       "    }\n",
       "\n",
       "    .dataframe tbody tr th {\n",
       "        vertical-align: top;\n",
       "    }\n",
       "\n",
       "    .dataframe thead th {\n",
       "        text-align: right;\n",
       "    }\n",
       "</style>\n",
       "<table border=\"1\" class=\"dataframe\">\n",
       "  <thead>\n",
       "    <tr style=\"text-align: right;\">\n",
       "      <th></th>\n",
       "      <th>CLIENT_IP</th>\n",
       "      <th>CLIENT_USERAGENT</th>\n",
       "      <th>REQUEST_SIZE</th>\n",
       "      <th>RESPONSE_CODE</th>\n",
       "      <th>MATCHED_VARIABLE_SRC</th>\n",
       "      <th>MATCHED_VARIABLE_NAME</th>\n",
       "      <th>MATCHED_VARIABLE_VALUE</th>\n",
       "      <th>EVENT_ID</th>\n",
       "      <th>RIGHT_CLIENT_IP</th>\n",
       "      <th>preproc_CLIENT_IP_country</th>\n",
       "      <th>...</th>\n",
       "      <th>preproc_REQUEST_SIZE</th>\n",
       "      <th>preproc_RESPONSE_CODE_valid</th>\n",
       "      <th>preproc_RESPONSE_CODE</th>\n",
       "      <th>preproc_MATCHED_VARIABLE_SRC_valid</th>\n",
       "      <th>agent_vector</th>\n",
       "      <th>agent_cluster</th>\n",
       "      <th>matched_var_name</th>\n",
       "      <th>matched_var_value</th>\n",
       "      <th>trafic_class</th>\n",
       "      <th>trafic_cluster</th>\n",
       "    </tr>\n",
       "  </thead>\n",
       "  <tbody>\n",
       "    <tr>\n",
       "      <th>0</th>\n",
       "      <td>188.138.92.55</td>\n",
       "      <td>NaN</td>\n",
       "      <td>166</td>\n",
       "      <td>404</td>\n",
       "      <td>REQUEST_URI</td>\n",
       "      <td>NaN</td>\n",
       "      <td>//tmp/20160925122692indo.php.vob</td>\n",
       "      <td>AVdhXFgVq1Ppo9zF5Fxu</td>\n",
       "      <td>188.138.92.55</td>\n",
       "      <td>DE</td>\n",
       "      <td>...</td>\n",
       "      <td>166</td>\n",
       "      <td>True</td>\n",
       "      <td>404</td>\n",
       "      <td>True</td>\n",
       "      <td>(0, 91)\\t1.0</td>\n",
       "      <td>13</td>\n",
       "      <td>[0.0227108, -0.02569362, 0.0186324, 0.02271437...</td>\n",
       "      <td>[0.02438902, -0.05339618, -0.007877337, -0.030...</td>\n",
       "      <td>1</td>\n",
       "      <td>26</td>\n",
       "    </tr>\n",
       "    <tr>\n",
       "      <th>1</th>\n",
       "      <td>176.123.240.64</td>\n",
       "      <td>Mozilla/5.0 (Windows NT 6.0; rv:34.0) Gecko/20...</td>\n",
       "      <td>395</td>\n",
       "      <td>403</td>\n",
       "      <td>REQUEST_PATH</td>\n",
       "      <td>NaN</td>\n",
       "      <td>/opinion/page1_3.php\\\" and \\\"\\\"x\\\"\\\"=\\\"\\\"x\\\"</td>\n",
       "      <td>iz7SN2YBrgKk_RFNZW_U</td>\n",
       "      <td>176.123.240.64</td>\n",
       "      <td>KG</td>\n",
       "      <td>...</td>\n",
       "      <td>395</td>\n",
       "      <td>True</td>\n",
       "      <td>403</td>\n",
       "      <td>True</td>\n",
       "      <td>(0, 149)\\t0.2966918534009629\\n  (0, 121)\\t0....</td>\n",
       "      <td>10</td>\n",
       "      <td>[0.0227108, -0.02569362, 0.0186324, 0.02271437...</td>\n",
       "      <td>[0.0007681509, -0.001140485, -0.013785048, -0....</td>\n",
       "      <td>1</td>\n",
       "      <td>26</td>\n",
       "    </tr>\n",
       "    <tr>\n",
       "      <th>2</th>\n",
       "      <td>79.183.87.247</td>\n",
       "      <td>Mozilla/5.0 (Linux; Android 6.0; LG-H815 Build...</td>\n",
       "      <td>682</td>\n",
       "      <td>404</td>\n",
       "      <td>REQUEST_HEADERS</td>\n",
       "      <td>REQUEST_HEADERS.User-Agent</td>\n",
       "      <td>Mozilla/5.0 (Linux; Android 6.0; LG-H815 Build...</td>\n",
       "      <td>nFzwHGQB5cBXmMW1y_TD</td>\n",
       "      <td>79.183.87.247</td>\n",
       "      <td>IL</td>\n",
       "      <td>...</td>\n",
       "      <td>682</td>\n",
       "      <td>True</td>\n",
       "      <td>404</td>\n",
       "      <td>True</td>\n",
       "      <td>(0, 122)\\t0.16717495982469774\\n  (0, 87)\\t0....</td>\n",
       "      <td>3</td>\n",
       "      <td>[-0.010601818, -0.047821425, 0.016080828, -0.0...</td>\n",
       "      <td>[0.011902368, -0.019429851, -0.004136016, -0.0...</td>\n",
       "      <td>1</td>\n",
       "      <td>26</td>\n",
       "    </tr>\n",
       "  </tbody>\n",
       "</table>\n",
       "<p>3 rows × 21 columns</p>\n",
       "</div>"
      ],
      "text/plain": [
       "        CLIENT_IP                                   CLIENT_USERAGENT  \\\n",
       "0   188.138.92.55                                                NaN   \n",
       "1  176.123.240.64  Mozilla/5.0 (Windows NT 6.0; rv:34.0) Gecko/20...   \n",
       "2   79.183.87.247  Mozilla/5.0 (Linux; Android 6.0; LG-H815 Build...   \n",
       "\n",
       "  REQUEST_SIZE RESPONSE_CODE MATCHED_VARIABLE_SRC       MATCHED_VARIABLE_NAME  \\\n",
       "0          166           404          REQUEST_URI                         NaN   \n",
       "1          395           403         REQUEST_PATH                         NaN   \n",
       "2          682           404      REQUEST_HEADERS  REQUEST_HEADERS.User-Agent   \n",
       "\n",
       "                              MATCHED_VARIABLE_VALUE              EVENT_ID  \\\n",
       "0                   //tmp/20160925122692indo.php.vob  AVdhXFgVq1Ppo9zF5Fxu   \n",
       "1       /opinion/page1_3.php\\\" and \\\"\\\"x\\\"\\\"=\\\"\\\"x\\\"  iz7SN2YBrgKk_RFNZW_U   \n",
       "2  Mozilla/5.0 (Linux; Android 6.0; LG-H815 Build...  nFzwHGQB5cBXmMW1y_TD   \n",
       "\n",
       "  RIGHT_CLIENT_IP preproc_CLIENT_IP_country  ... preproc_REQUEST_SIZE  \\\n",
       "0   188.138.92.55                        DE  ...                  166   \n",
       "1  176.123.240.64                        KG  ...                  395   \n",
       "2   79.183.87.247                        IL  ...                  682   \n",
       "\n",
       "   preproc_RESPONSE_CODE_valid  preproc_RESPONSE_CODE  \\\n",
       "0                         True                    404   \n",
       "1                         True                    403   \n",
       "2                         True                    404   \n",
       "\n",
       "   preproc_MATCHED_VARIABLE_SRC_valid  \\\n",
       "0                                True   \n",
       "1                                True   \n",
       "2                                True   \n",
       "\n",
       "                                        agent_vector agent_cluster  \\\n",
       "0                                       (0, 91)\\t1.0            13   \n",
       "1    (0, 149)\\t0.2966918534009629\\n  (0, 121)\\t0....            10   \n",
       "2    (0, 122)\\t0.16717495982469774\\n  (0, 87)\\t0....             3   \n",
       "\n",
       "                                    matched_var_name  \\\n",
       "0  [0.0227108, -0.02569362, 0.0186324, 0.02271437...   \n",
       "1  [0.0227108, -0.02569362, 0.0186324, 0.02271437...   \n",
       "2  [-0.010601818, -0.047821425, 0.016080828, -0.0...   \n",
       "\n",
       "                                   matched_var_value trafic_class  \\\n",
       "0  [0.02438902, -0.05339618, -0.007877337, -0.030...            1   \n",
       "1  [0.0007681509, -0.001140485, -0.013785048, -0....            1   \n",
       "2  [0.011902368, -0.019429851, -0.004136016, -0.0...            1   \n",
       "\n",
       "   trafic_cluster  \n",
       "0              26  \n",
       "1              26  \n",
       "2              26  \n",
       "\n",
       "[3 rows x 21 columns]"
      ]
     },
     "execution_count": 21,
     "metadata": {},
     "output_type": "execute_result"
    }
   ],
   "source": [
    "df.head(3)"
   ]
  },
  {
   "cell_type": "code",
   "execution_count": null,
   "id": "710db4e4-e18d-46dc-8e72-e1458d1e544a",
   "metadata": {},
   "outputs": [],
   "source": []
  }
 ],
 "metadata": {
  "kernelspec": {
   "display_name": "Python 3 (ipykernel)",
   "language": "python",
   "name": "python3"
  },
  "language_info": {
   "codemirror_mode": {
    "name": "ipython",
    "version": 3
   },
   "file_extension": ".py",
   "mimetype": "text/x-python",
   "name": "python",
   "nbconvert_exporter": "python",
   "pygments_lexer": "ipython3",
   "version": "3.9.5"
  }
 },
 "nbformat": 4,
 "nbformat_minor": 5
}
